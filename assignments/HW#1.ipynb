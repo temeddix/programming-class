{
 "cells": [
  {
   "attachments": {},
   "cell_type": "markdown",
   "id": "ce02216a",
   "metadata": {},
   "source": [
    "## H.W. 1\n"
   ]
  },
  {
   "cell_type": "code",
   "execution_count": 1,
   "id": "83224b93",
   "metadata": {},
   "outputs": [
    {
     "name": "stdout",
     "output_type": "stream",
     "text": [
      "학번은 2016143084, 이름은 김동현 입니다.\n"
     ]
    }
   ],
   "source": [
    "id = \"2016143084\"  # 학번을 문자열로 쓰세요.\n",
    "name = \"김동현\"  # 이름을 문자열로 쓰세요.\n",
    "\n",
    "print(\"학번은 %s, 이름은 %s 입니다.\" % (id, name))  # 결과 출력\n"
   ]
  },
  {
   "attachments": {},
   "cell_type": "markdown",
   "id": "9cd955d7",
   "metadata": {},
   "source": [
    "##### \\*\\*\\*\\* 수업시간에 사용하지 않은 패키지를 사용하지 않습니다.\n",
    "\n",
    "- 문제에 print라고 직접 쓴것은 print 함수를 사용\n",
    "- 그외는 굳이 print 하지 않아도 되나, out 결과는 나올 수 있게 할 것. 물론 print 해도 됨.\n"
   ]
  },
  {
   "attachments": {},
   "cell_type": "markdown",
   "id": "446df6dc",
   "metadata": {},
   "source": [
    "Q1) 반지름이 20인 피자의 면적을 구해보세요.\n",
    "\n",
    "- 면적 구하는 식 = $ 3.14\\times 반지름^2 $\n"
   ]
  },
  {
   "cell_type": "code",
   "execution_count": 3,
   "id": "d3c860f6",
   "metadata": {},
   "outputs": [
    {
     "data": {
      "text/plain": [
       "1256.0"
      ]
     },
     "execution_count": 3,
     "metadata": {},
     "output_type": "execute_result"
    }
   ],
   "source": [
    "radius = 20\n",
    "area = 3.14 * radius**2\n",
    "area\n"
   ]
  },
  {
   "attachments": {},
   "cell_type": "markdown",
   "id": "9895a94a",
   "metadata": {},
   "source": [
    "Q2) 한줄로 문자열을 작성하여 다음과 같이 4줄 문자열이 나오도록 하세요.\n",
    "\n",
    "- 줄바꿈 이스케이프 코드, print 사용\n",
    "\n",
    "Hello,  \n",
    "World!<br/>\n",
    "'하나!'  \n",
    "\"둘!\"\n"
   ]
  },
  {
   "cell_type": "code",
   "execution_count": 4,
   "id": "a80f35d7",
   "metadata": {},
   "outputs": [
    {
     "name": "stdout",
     "output_type": "stream",
     "text": [
      "Hello,\n",
      "World!\n",
      "'하나!'\n",
      "\"둘!\"\n"
     ]
    }
   ],
   "source": [
    "print(\"Hello,\\nWorld!\\n'하나!'\\n\\\"둘!\\\"\")\n",
    "# 저장하는 순간 가장 바깥이 쌍따옴표로 바뀝니다."
   ]
  },
  {
   "attachments": {},
   "cell_type": "markdown",
   "id": "a32731b8",
   "metadata": {},
   "source": [
    "Q3) money에 5000, price에 물건값 2600을 입력하세요. change는 거스름돈(money-price)이 되도록 하세요. coin500s에 change(거스름돈) 중 500원 동전의 개수를 저장하고, change에 500원 동전으로 거스름돈을 주고 남은 나머지 거스름돈을 저장하세요. coin100s에 거스름돈 중 100원 동전의 개수를 저장하세요. 최종적으로는 다음 문장이 되도록 문자열 포맷팅에서 coin500s, coin100s을 이용하여 출력하세요.\n",
    "\n",
    "- coin500s, coin100s 에 직접 숫자를 넣지 않고 연산(나머지, 몫)으로 값이 저장되게 하세요.\n",
    "\n",
    "500원 동전의 개수: 4, 100원 동전의 개수: 4\n"
   ]
  },
  {
   "cell_type": "code",
   "execution_count": 6,
   "id": "c19d0e78",
   "metadata": {},
   "outputs": [
    {
     "name": "stdout",
     "output_type": "stream",
     "text": [
      "500원 동전의 개수: 4, 100원 동전의 개수: 4\n"
     ]
    }
   ],
   "source": [
    "money = 5000\n",
    "price = 2600\n",
    "change = money - price\n",
    "coin500s = change // 500\n",
    "change = change % 500\n",
    "coin100s = change // 100\n",
    "\n",
    "print(\"500원 동전의 개수: {}, 100원 동전의 개수: {}\".format(coin500s, coin100s))"
   ]
  },
  {
   "attachments": {},
   "cell_type": "markdown",
   "id": "0aaa5b9e",
   "metadata": {},
   "source": [
    "Q4) 다음 문장을 t에 입력하고 문자열 내의 단어 개수를 구해보세요.\n",
    "\n",
    "- split, len 사용\n",
    "\n",
    "\"Only I can change my life, no one can do it for me.\"\n"
   ]
  },
  {
   "cell_type": "code",
   "execution_count": 7,
   "id": "168dafdd",
   "metadata": {},
   "outputs": [
    {
     "data": {
      "text/plain": [
       "13"
      ]
     },
     "execution_count": 7,
     "metadata": {},
     "output_type": "execute_result"
    }
   ],
   "source": [
    "t = \"Only I can change my life, no one can do it for me.\"\n",
    "len(t.split(\" \"))"
   ]
  },
  {
   "attachments": {},
   "cell_type": "markdown",
   "id": "2e01bfd7",
   "metadata": {},
   "source": [
    "Q5) '010.1234.5678' 문자열을 '010-1234-5678'이 되게 하는 방법 2가지를 적용해보세요.\n",
    "\n",
    "(1) split, join을 사용해 보세요.\n",
    "\n",
    "(2) replace을 사용해 보세요.\n"
   ]
  },
  {
   "cell_type": "code",
   "execution_count": 11,
   "id": "8e555882",
   "metadata": {},
   "outputs": [
    {
     "data": {
      "text/plain": [
       "'010-1234-5678'"
      ]
     },
     "execution_count": 11,
     "metadata": {},
     "output_type": "execute_result"
    }
   ],
   "source": [
    "text = \"010.1234.5678\"\n",
    "\"-\".join(text.split(\".\"))\n"
   ]
  },
  {
   "cell_type": "code",
   "execution_count": 13,
   "id": "1cf56a4f",
   "metadata": {},
   "outputs": [
    {
     "data": {
      "text/plain": [
       "'010-1234-5678'"
      ]
     },
     "execution_count": 13,
     "metadata": {},
     "output_type": "execute_result"
    }
   ],
   "source": [
    "text = \"010.1234.5678\"\n",
    "text.replace(\".\", \"-\")\n"
   ]
  },
  {
   "attachments": {},
   "cell_type": "markdown",
   "id": "67bfb0cb",
   "metadata": {},
   "source": [
    "Q6) things에 [\"나뭇가지\", \"진흙\", \"돌\"] , tool에 [\"칼\", \"가위\"] 을 입력하고 tool에 '톱','밧줄','라이터'를 추가하여 things와 tool을 합쳐 house 변수에 입력하여 최종적으로 house가 ['나뭇가지', '진흙', '돌', '칼', '가위', '톱', '밧줄', '라이터'] 가 되게 하세요. 다음 2가지 방법을 각각 적용해 보세요.\n",
    "\n",
    "(1) append 사용\n",
    "\n",
    "(2) extend 사용\n"
   ]
  },
  {
   "cell_type": "code",
   "execution_count": 16,
   "id": "0960f556",
   "metadata": {},
   "outputs": [
    {
     "data": {
      "text/plain": [
       "['나뭇가지', '진흙', '돌', '칼', '가위', '톱', '밧줄', '라이터']"
      ]
     },
     "execution_count": 16,
     "metadata": {},
     "output_type": "execute_result"
    }
   ],
   "source": [
    "things = [\"나뭇가지\", \"진흙\", \"돌\"]\n",
    "tool = [\"칼\", \"가위\"]\n",
    "\n",
    "tool.append(\"톱\")\n",
    "tool.append(\"밧줄\")\n",
    "tool.append(\"라이터\")\n",
    "house = things + tool\n",
    "house\n"
   ]
  },
  {
   "cell_type": "code",
   "execution_count": 17,
   "id": "3db4cafe",
   "metadata": {},
   "outputs": [
    {
     "data": {
      "text/plain": [
       "['나뭇가지', '진흙', '돌', '칼', '가위', '톱', '밧줄', '라이터']"
      ]
     },
     "execution_count": 17,
     "metadata": {},
     "output_type": "execute_result"
    }
   ],
   "source": [
    "things = [\"나뭇가지\", \"진흙\", \"돌\"]\n",
    "tool = [\"칼\", \"가위\"]\n",
    "\n",
    "tool.extend([\"톱\", \"밧줄\", \"라이터\"])\n",
    "house = things + tool\n",
    "house\n"
   ]
  },
  {
   "attachments": {},
   "cell_type": "markdown",
   "id": "c48ba80e",
   "metadata": {},
   "source": [
    "Q7) 다음과 같은 리스트를 생성하세요.\n",
    "\n",
    "population = [\"Seoul\", 9765, \"Busan\", 3441, \"Incheon\", 2954]\n",
    "\n",
    "(1) 각 도시의 이름을 슬라이싱(slicing)의 step(증가분,감소분) 값을 이용하여 print 해보세요.\n",
    "\n",
    "(2) 각 도시의 인구를 슬라이싱(slicing)의 step(증가분,감소분) 값을 이용하여 print 한 후 이 값들의 합을 print 하도록 하세요.\n"
   ]
  },
  {
   "cell_type": "code",
   "execution_count": 18,
   "id": "0430f5f7",
   "metadata": {},
   "outputs": [
    {
     "name": "stdout",
     "output_type": "stream",
     "text": [
      "['Seoul', 'Busan', 'Incheon']\n"
     ]
    }
   ],
   "source": [
    "population = [\"Seoul\", 9765, \"Busan\", 3441, \"Incheon\", 2954]\n",
    "print(population[0::2])"
   ]
  },
  {
   "cell_type": "code",
   "execution_count": 20,
   "id": "287332ef",
   "metadata": {},
   "outputs": [
    {
     "name": "stdout",
     "output_type": "stream",
     "text": [
      "[9765, 3441, 2954]\n",
      "16160\n"
     ]
    }
   ],
   "source": [
    "population = [\"Seoul\", 9765, \"Busan\", 3441, \"Incheon\", 2954]\n",
    "sliced = population[1::2]\n",
    "print(sliced)\n",
    "print(sum(sliced))"
   ]
  },
  {
   "attachments": {},
   "cell_type": "markdown",
   "id": "bddcb6ee",
   "metadata": {},
   "source": [
    "Q8) slist = ['Kim', 178.9, 'Park', 173.5, 'Lee', 176.1]를 입력한 후,\n",
    "\n",
    "(1) 인덱스를 사용하여 ‘Park’의 키 173.5를 175.0으로 변경한 후 리스트를 확인해보세요.\n",
    "\n",
    "(2) insert를 사용하여 인덱스 4에 “Hong”을 추가하고 인덱스 5에 168.1을 추가한 후 리스트를 확인해보세요.\n",
    "\n",
    "(3) name=['Kim','Park','Hong','Lee'], height=[178.9,175,168.1,176.1] 을 입력한 후,\n",
    "sslist에 [('Kim', 178.9), ('Park', 175), ('Hong', 168.1), ('Lee', 176.1)] 이 되도록 해보세요.\n",
    "\n",
    "- zip 함수 사용\n"
   ]
  },
  {
   "cell_type": "code",
   "execution_count": 21,
   "id": "2837af3f",
   "metadata": {},
   "outputs": [
    {
     "data": {
      "text/plain": [
       "['Kim', 178.9, 'Park', 175.0, 'Lee', 176.1]"
      ]
     },
     "execution_count": 21,
     "metadata": {},
     "output_type": "execute_result"
    }
   ],
   "source": [
    "slist = [\"Kim\", 178.9, \"Park\", 173.5, \"Lee\", 176.1]\n",
    "slist[3] = 175.0\n",
    "slist\n"
   ]
  },
  {
   "cell_type": "code",
   "execution_count": 22,
   "id": "5e6c8f45",
   "metadata": {},
   "outputs": [
    {
     "data": {
      "text/plain": [
       "['Kim', 178.9, 'Park', 175.0, 'Hong', 168.1, 'Lee', 176.1]"
      ]
     },
     "execution_count": 22,
     "metadata": {},
     "output_type": "execute_result"
    }
   ],
   "source": [
    "slist.insert(4, \"Hong\")\n",
    "slist.insert(5, 168.1)\n",
    "slist\n"
   ]
  },
  {
   "cell_type": "code",
   "execution_count": 24,
   "id": "8aec2f2a",
   "metadata": {},
   "outputs": [
    {
     "data": {
      "text/plain": [
       "[('Kim', 178.9), ('Park', 175), ('Hong', 168.1), ('Lee', 176.1)]"
      ]
     },
     "execution_count": 24,
     "metadata": {},
     "output_type": "execute_result"
    }
   ],
   "source": [
    "name = [\"Kim\", \"Park\", \"Hong\", \"Lee\"]\n",
    "height = [178.9, 175, 168.1, 176.1]\n",
    "sslist = list(zip(name, height))\n",
    "sslist\n"
   ]
  },
  {
   "attachments": {},
   "cell_type": "markdown",
   "id": "ee343d68",
   "metadata": {},
   "source": [
    "Q9) in 연산자를 사용하여 ‘Suga’가 리스트 bts 안에 있는지 확인하고 'Suga' 의 인덱스 위치를 메소드를 사용하여 찾아보세요. bts = [\"V\", \"J-Hope\", \"Suga\", \"Jungkook\"]\n"
   ]
  },
  {
   "cell_type": "code",
   "execution_count": 25,
   "id": "b12bfd35",
   "metadata": {},
   "outputs": [
    {
     "name": "stdout",
     "output_type": "stream",
     "text": [
      "True\n",
      "2\n"
     ]
    }
   ],
   "source": [
    "bts = [\"V\", \"J-Hope\", \"Suga\", \"Jungkook\"]\n",
    "print(\"Suga\" in bts)\n",
    "print(bts.index(\"Suga\"))"
   ]
  },
  {
   "attachments": {},
   "cell_type": "markdown",
   "id": "c0de9e37",
   "metadata": {},
   "source": [
    "Q10) 집합 연산을 사용하여 2개의 파티에 모두 참석한 사람을 찾아보세요.\n",
    "partyA 에는 [\"Park\", \"Kim\", \"Lee\"] , partyB 에는 [\"Park\", \"Choi\"] 이 참석하였습니다.\n"
   ]
  },
  {
   "cell_type": "code",
   "execution_count": 26,
   "id": "740588f8",
   "metadata": {},
   "outputs": [
    {
     "data": {
      "text/plain": [
       "{'Park'}"
      ]
     },
     "execution_count": 26,
     "metadata": {},
     "output_type": "execute_result"
    }
   ],
   "source": [
    "partyA = set([\"Park\", \"Kim\", \"Lee\"])\n",
    "partyB = set([\"Park\", \"Choi\"])\n",
    "partyA.intersection(partyB)\n"
   ]
  },
  {
   "attachments": {},
   "cell_type": "markdown",
   "id": "32af266a",
   "metadata": {},
   "source": [
    "Q11)\n",
    "phone_book에 {'홍길동': '010-1234-5678', '강감찬': '010-1111-2222', '이순신': '010-3333-4444'}을 입력하세요.\n",
    "\n",
    "(1) del을 사용하여 ‘홍길동’을 삭제하고 딕셔너리를 print하세요.\n",
    "\n",
    "(2) (1) 이후 pop()을 사용하여 ‘이순신’ 항목을 출력하면서 삭제하고 딕셔너리를 print하세요.\n"
   ]
  },
  {
   "cell_type": "code",
   "execution_count": 27,
   "id": "966af152",
   "metadata": {},
   "outputs": [
    {
     "name": "stdout",
     "output_type": "stream",
     "text": [
      "010-3333-4444\n",
      "{'강감찬': '010-1111-2222'}\n"
     ]
    }
   ],
   "source": [
    "phone_book = {\"홍길동\": \"010-1234-5678\", \"강감찬\": \"010-1111-2222\", \"이순신\": \"010-3333-4444\"}\n",
    "del phone_book[\"홍길동\"]\n",
    "print(phone_book.pop(\"이순신\"))\n",
    "print(phone_book)\n"
   ]
  },
  {
   "attachments": {},
   "cell_type": "markdown",
   "id": "c43c6701",
   "metadata": {},
   "source": [
    "Q12) heroes = [ \"아이언맨\", \"토르\", \"헐크\", \"스칼렛 위치\" ] 다음의 지시 사항에 따라 정렬한 후 print 하세요.\n",
    "\n",
    "(1) sort()를 사용하여 오름차순 정렬후 정렬값을 print 하세요.\n",
    "\n",
    "(2) sort()를 사용하여 내림차순 정렬후 정렬값을 print 하세요.\n",
    "\n",
    "(2) sorted() 함수를 사용하여 오름차순 정렬후 정렬값을 print 하세요.\n"
   ]
  },
  {
   "cell_type": "code",
   "execution_count": 28,
   "id": "58a78cb6",
   "metadata": {},
   "outputs": [
    {
     "name": "stdout",
     "output_type": "stream",
     "text": [
      "['스칼렛 위치', '아이언맨', '토르', '헐크']\n",
      "['헐크', '토르', '아이언맨', '스칼렛 위치']\n",
      "['스칼렛 위치', '아이언맨', '토르', '헐크']\n"
     ]
    }
   ],
   "source": [
    "heroes = [\"아이언맨\", \"토르\", \"헐크\", \"스칼렛 위치\"]\n",
    "heroes.sort()\n",
    "print(heroes)\n",
    "heroes.sort(reverse=True)\n",
    "print(heroes)\n",
    "print(sorted(heroes))"
   ]
  }
 ],
 "metadata": {
  "kernelspec": {
   "display_name": "Python 3 (ipykernel)",
   "language": "python",
   "name": "python3"
  },
  "language_info": {
   "codemirror_mode": {
    "name": "ipython",
    "version": 3
   },
   "file_extension": ".py",
   "mimetype": "text/x-python",
   "name": "python",
   "nbconvert_exporter": "python",
   "pygments_lexer": "ipython3",
   "version": "3.11.4"
  }
 },
 "nbformat": 4,
 "nbformat_minor": 5
}
