{
 "cells": [
  {
   "cell_type": "markdown",
   "id": "37d51130",
   "metadata": {},
   "source": [
    "## H.W. 1"
   ]
  },
  {
   "cell_type": "code",
   "execution_count": null,
   "id": "b73d8a98",
   "metadata": {},
   "outputs": [],
   "source": [
    "id=        # 학번을 문자열로 쓰세요.\n",
    "name=      # 이름을 문자열로 쓰세요.\n",
    "\n",
    "print(\"학번은 %s, 이름은 %s 입니다.\" %(id, name)) #결과 출력"
   ]
  },
  {
   "cell_type": "markdown",
   "id": "87721aee",
   "metadata": {},
   "source": [
    "##### **** 수업시간에 사용하지 않은 패키지를 사용하지 않습니다.\n",
    "\n",
    "* 문제에 print라고 직접 쓴것은 print 함수를 사용\n",
    "* 그외는 굳이 print 하지 않아도 되나, out 결과는 나올 수 있게 할 것. 물론 print 해도 됨."
   ]
  },
  {
   "cell_type": "markdown",
   "id": "446df6dc",
   "metadata": {},
   "source": [
    "Q1) 반지름이 20인 피자의 면적을 구해보세요.\n",
    "\n",
    "   * 면적 구하는 식 = $ 3.14\\times 반지름^2 $ "
   ]
  },
  {
   "cell_type": "code",
   "execution_count": null,
   "id": "5e01b9c5",
   "metadata": {},
   "outputs": [],
   "source": [
    "3.14*20**2"
   ]
  },
  {
   "cell_type": "markdown",
   "id": "9895a94a",
   "metadata": {},
   "source": [
    "Q2) 한줄로 문자열을 작성하여 다음과 같이 4줄 문자열이 나오도록 하세요.\n",
    "   * 줄바꿈 이스케이프 코드, print 사용\n",
    "\n",
    "Hello,  \n",
    "World!<br/> \n",
    "'하나!'  \n",
    "\"둘!\" "
   ]
  },
  {
   "cell_type": "code",
   "execution_count": null,
   "id": "2d21c39d",
   "metadata": {},
   "outputs": [],
   "source": [
    "print('''Hello,\\nWorld!\\n'하나!'\\n\"둘!\"''')"
   ]
  },
  {
   "cell_type": "code",
   "execution_count": null,
   "id": "25c4a3e7",
   "metadata": {},
   "outputs": [],
   "source": [
    "print('Hello,\\nWorld!\\n\\'하나!\\'\\n\\\"둘!\\\"') # 이것도 가능. 따옴표 앞에 \\ 사용"
   ]
  },
  {
   "cell_type": "markdown",
   "id": "a32731b8",
   "metadata": {},
   "source": [
    "Q3) money에 5000, price에 물건값 2600을 입력하세요. change는 거스름돈(money-price)이 되도록 하세요. coin500s에 change(거스름돈) 중 500원 동전의 개수를 저장하고, change에 500원 동전으로 거스름돈을 주고 남은 나머지 거스름돈을 저장하세요. coin100s에 거스름돈 중 100원 동전의 개수를 저장하세요. 최종적으로는 다음 문장이 되도록 문자열 포맷팅에서 coin500s, coin100s을 이용하여 출력하세요.\n",
    "* coin500s, coin100s 에 직접 숫자를 넣지 않고 연산으로 값이 저장되게 하세요.\n",
    "\n",
    "500원 동전의 개수: 4, 100원 동전의 개수: 4"
   ]
  },
  {
   "cell_type": "code",
   "execution_count": 1,
   "id": "319c746e",
   "metadata": {},
   "outputs": [
    {
     "name": "stdout",
     "output_type": "stream",
     "text": [
      "거스름돈:  2400\n",
      "500원 동전의 개수: 4, 100원 동전의 개수: 4\n"
     ]
    }
   ],
   "source": [
    "money=5000\n",
    "price=2600\n",
    "change = money - price\n",
    "print(\"거스름돈: \", change)\n",
    "\n",
    "\n",
    "coin500s = change // 500  # 500으로 나누어서 몫이 500원 동전의 개수\n",
    "change = change % 500  # 500으로 나눈 나머지를 계산한다.\n",
    "coin100s = change // 100  # 100으로 나누어서 몫이 100원짜리의 개수\n",
    "\n",
    "print(\"500원 동전의 개수: %d, 100원 동전의 개수: %d\"  %(coin500s, coin100s)) "
   ]
  },
  {
   "cell_type": "markdown",
   "id": "0aaa5b9e",
   "metadata": {},
   "source": [
    "Q4) 다음 문장을 t에 입력하고 문자열 내의 단어 개수를 구해보세요.\n",
    "\n",
    "* split, len 사용\n",
    "\n",
    "\"Only I can change my life, no one can do it for me.\""
   ]
  },
  {
   "cell_type": "code",
   "execution_count": 2,
   "id": "98e4ce41",
   "metadata": {},
   "outputs": [
    {
     "name": "stdout",
     "output_type": "stream",
     "text": [
      "word count: 13\n"
     ]
    }
   ],
   "source": [
    "t = \"Only I can change my life, no one can do it for me.\"\n",
    "\n",
    "length = len(t.split(' '))\n",
    "print('word count:', length)"
   ]
  },
  {
   "cell_type": "markdown",
   "id": "2e01bfd7",
   "metadata": {},
   "source": [
    "Q5) '010.1234.5678' 문자열을 '010-1234-5678'이 되게 하는 방법 2가지를 적용해보세요.\n",
    "\n",
    "(1) split, join을 사용해 보세요.\n",
    "\n",
    "(2) replace을 사용해 보세요."
   ]
  },
  {
   "cell_type": "code",
   "execution_count": null,
   "id": "799232d4",
   "metadata": {},
   "outputs": [],
   "source": [
    "#(1)\n",
    "print('-'.join('010.1234.5678'.split('.')))\n",
    "#(2)\n",
    "print('010.1234.5678'.replace('.', '-'))"
   ]
  },
  {
   "cell_type": "markdown",
   "id": "67bfb0cb",
   "metadata": {},
   "source": [
    "Q6) things에 [\"나뭇가지\", \"진흙\", \"돌\"] , tool에  [\"칼\", \"가위\"] 을 입력하고 tool에 '톱','밧줄','라이터'를 추가하여 things와 tool을 합쳐 house 변수에 입력하여 최종적으로 house가 ['나뭇가지', '진흙', '돌', '칼', '가위', '톱', '밧줄', '라이터'] 가 되게 하세요. 다음 2가지 방법을 각각 적용해 보세요.\n",
    "\n",
    "(1) append 사용\n",
    "\n",
    "(2) extend 사용"
   ]
  },
  {
   "cell_type": "code",
   "execution_count": null,
   "id": "a63cc7f3",
   "metadata": {},
   "outputs": [],
   "source": [
    "#(1)\n",
    "things = [\"나뭇가지\", \"진흙\", \"돌\"]\n",
    "tool = [\"칼\", \"가위\"]\n",
    "tool.append('톱')\n",
    "tool.append('밧줄')\n",
    "tool.append('라이터')\n",
    "house=things+tool\n",
    "print(house)"
   ]
  },
  {
   "cell_type": "code",
   "execution_count": null,
   "id": "1a004bc6",
   "metadata": {},
   "outputs": [],
   "source": [
    "#(2)\n",
    "things = [\"나뭇가지\", \"진흙\", \"돌\"]\n",
    "tool = [\"칼\", \"가위\"]\n",
    "tool.extend(['톱','밧줄','라이터']) \n",
    "house=things+tool\n",
    "print(house)"
   ]
  },
  {
   "cell_type": "markdown",
   "id": "c48ba80e",
   "metadata": {},
   "source": [
    "Q7) 다음과 같은 리스트를 생성하세요.\n",
    "\n",
    "population = [\"Seoul\", 9765, \"Busan\", 3441, \"Incheon\", 2954]\n",
    "\n",
    "(1) 각 도시의 이름을 슬라이싱(slicing)의 step(증가분,감소분) 값을 이용하여 print 해보세요.\n",
    "\n",
    "(2) 각 도시의 인구를 슬라이싱(slicing)의 step(증가분,감소분) 값을 이용하여 print 한 후 이 값들의 합을 print 하도록 하세요."
   ]
  },
  {
   "cell_type": "code",
   "execution_count": null,
   "id": "095fdfc6",
   "metadata": {},
   "outputs": [],
   "source": [
    "population = [\"Seoul\", 9765, \"Busan\", 3441, \"Incheon\", 2954]\n",
    " \n",
    "\n",
    "cities = population[0::2]             # 문제 1)\n",
    "print('도시 리스트:', cities)\n",
    "pops = population[1::2]               # 문제 2)\n",
    "print(pops)\n",
    "print('인구의 합:', sum(pops))"
   ]
  },
  {
   "cell_type": "markdown",
   "id": "bddcb6ee",
   "metadata": {},
   "source": [
    "Q8) slist = ['Kim', 178.9, 'Park', 173.5, 'Lee', 176.1]를 입력한 후, \n",
    "\n",
    "(1) 인덱스를 사용하여 ‘Park’의 키 173.5를 175.0으로 변경한 후 리스트를 확인해보세요.\n",
    "\n",
    "(2) insert를 사용하여 인덱스 4에 “Hong”을 추가하고 인덱스 5에 168.1을 추가한 후 리스트를 확인해보세요.\n",
    "\n",
    "(3) name=['Kim','Park','Hong','Lee'], height=[178.9,175,168.1,176.1] 을 입력한 후, \n",
    "sslist에 [('Kim', 178.9), ('Park', 175), ('Hong', 168.1), ('Lee', 176.1)] 이 되도록 해보세요. \n",
    "* zip 함수 사용"
   ]
  },
  {
   "cell_type": "code",
   "execution_count": null,
   "id": "e50f604d",
   "metadata": {},
   "outputs": [],
   "source": [
    "slist = ['Kim', 178.9, 'Park', 173.5, 'Lee', 176.1]\n",
    "\n",
    "slist[3] = 175.0\n",
    "print(slist)\n",
    "\n",
    "slist.insert(4, \"Hong\")\n",
    "slist.insert(5, 168.1)\n",
    "print(slist)"
   ]
  },
  {
   "cell_type": "code",
   "execution_count": 1,
   "id": "e7a1d43b",
   "metadata": {},
   "outputs": [
    {
     "data": {
      "text/plain": [
       "[('Kim', 178.9), ('Park', 175), ('Hong', 168.1), ('Lee', 176.1)]"
      ]
     },
     "execution_count": 1,
     "metadata": {},
     "output_type": "execute_result"
    }
   ],
   "source": [
    "#(3)\n",
    "name=['Kim','Park','Hong','Lee']; height=[178.9,175,168.1,176.1]\n",
    "sslist=list(zip(name,height))\n",
    "sslist"
   ]
  },
  {
   "cell_type": "markdown",
   "id": "ee343d68",
   "metadata": {},
   "source": [
    "Q9) in 연산자를 사용하여 ‘Suga’가 리스트 안에 있는지 확인하고 'Suga' 의 인덱스 위치를 메소드를 사용하여 찾아보세요.bts = [\"V\", \"J-Hope\", \"Suga\", \"Jungkook\"]"
   ]
  },
  {
   "cell_type": "code",
   "execution_count": null,
   "id": "aeece142",
   "metadata": {},
   "outputs": [],
   "source": [
    "bts = [\"V\", \"J-Hope\", \"Suga\", \"Jungkook\"]\n",
    "print('Suga' in bts, bts.index('Suga'))"
   ]
  },
  {
   "cell_type": "markdown",
   "id": "c0de9e37",
   "metadata": {},
   "source": [
    "Q10) 집합 연산을 사용하여 2개의 파티에 모두 참석한 사람을 찾아보세요.\n",
    "partyA 에는 [\"Park\", \"Kim\", \"Lee\"] , partyB 에는 [\"Park\", \"Choi\"] 이 참석하였습니다."
   ]
  },
  {
   "cell_type": "code",
   "execution_count": null,
   "id": "7f0fa5fc",
   "metadata": {},
   "outputs": [],
   "source": [
    "partyA = set([\"Park\", \"Kim\", \"Lee\"])\n",
    "partyB = set([\"Park\", \"Choi\"])\n",
    "\n",
    "print(\"2개의 파티에 모두 참석한 사람은 다음과 같습니다. \")\n",
    "print(partyA.intersection(partyB))\n",
    "#print(partyA & partyB)"
   ]
  },
  {
   "cell_type": "markdown",
   "id": "32af266a",
   "metadata": {},
   "source": [
    "Q11) \n",
    "phone_book에 {'홍길동': '010-1234-5678', '강감찬': '010-1111-2222', '이순신': '010-3333-4444'}을 입력하세요.\n",
    "\n",
    "\n",
    "(1) del을 사용하여 ‘홍길동’을 삭제하고 딕셔너리를 print하세요.\n",
    "\n",
    "(2) (1) 이후 pop()을 사용하여 ‘이순신’ 항목을 출력하면서 삭제하고 딕셔너리를 print하세요."
   ]
  },
  {
   "cell_type": "code",
   "execution_count": null,
   "id": "f3879f42",
   "metadata": {},
   "outputs": [],
   "source": [
    "phone_book = {'홍길동':'010-1234-5678',\n",
    "          '강감찬':'010-1111-2222',\n",
    "          '이순신':'010-3333-4444'}\n",
    "#1번 \n",
    "del phone_book[\"홍길동\"] \n",
    "print(phone_book)\n",
    "#2번 \n",
    "print(phone_book.pop('이순신'))\n",
    "print(phone_book)"
   ]
  },
  {
   "cell_type": "markdown",
   "id": "c43c6701",
   "metadata": {},
   "source": [
    "Q12) heroes = [ \"아이언맨\", \"토르\", \"헐크\", \"스칼렛 위치\" ] 다음의 지시 사항에 따라 정렬한 후 print 하세요.\n",
    "\n",
    "(1) sort()를 사용하여 오름차순 정렬후 정렬값을 print 하세요.\n",
    "\n",
    "(2) sort()를 사용하여 내림차순 정렬후 정렬값을 print 하세요.\n",
    "\n",
    "(2) sorted() 함수를 사용하여 오름차순 정렬후 정렬값을 print 하세요."
   ]
  },
  {
   "cell_type": "code",
   "execution_count": null,
   "id": "47f000e1",
   "metadata": {},
   "outputs": [],
   "source": [
    "heroes = [ \"아이언맨\", \"토르\", \"헐크\", \"스칼렛 위치\" ]\n",
    "#(1)\n",
    "heroes.sort( )\n",
    "print(heroes)\n",
    "\n",
    "\n",
    "heroes = [ \"아이언맨\", \"토르\", \"헐크\", \"스칼렛 위치\" ]\n",
    "#(2)\n",
    "heroes.sort(reverse = True)\n",
    "print(heroes)\n",
    "\n",
    "\n",
    "\n",
    "heroes = [ \"아이언맨\", \"토르\", \"헐크\", \"스칼렛 위치\" ]\n",
    "#(3)\n",
    "new_heroes = sorted(heroes)\n",
    "print(new_heroes)"
   ]
  },
  {
   "cell_type": "code",
   "execution_count": null,
   "id": "fb4fd565",
   "metadata": {},
   "outputs": [],
   "source": []
  }
 ],
 "metadata": {
  "kernelspec": {
   "display_name": "Python 3 (ipykernel)",
   "language": "python",
   "name": "python3"
  },
  "language_info": {
   "codemirror_mode": {
    "name": "ipython",
    "version": 3
   },
   "file_extension": ".py",
   "mimetype": "text/x-python",
   "name": "python",
   "nbconvert_exporter": "python",
   "pygments_lexer": "ipython3",
   "version": "3.10.2"
  }
 },
 "nbformat": 4,
 "nbformat_minor": 5
}
