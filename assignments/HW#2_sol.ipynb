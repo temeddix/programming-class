{
 "cells": [
  {
   "cell_type": "markdown",
   "metadata": {},
   "source": [
    "# H.W.2"
   ]
  },
  {
   "cell_type": "code",
   "execution_count": null,
   "metadata": {},
   "outputs": [],
   "source": [
    "id=        # 학번을 문자열로 쓰세요.\n",
    "name=      # 이름을 문자열로 쓰세요.\n",
    "\n",
    "print(\"학번은 %s, 이름은 %s 입니다.\" %(id, name))"
   ]
  },
  {
   "cell_type": "markdown",
   "metadata": {},
   "source": [
    "Q1. 다음은 A학급 학생의 점수를 나타내는 리스트이다. 다음 리스트에서 50점 이상 점수의 총합을 구하시오.\n",
    "    \n",
    "    A=[20,55,67,82,45,33,90,87,100,25]\n",
    "    \n",
    "    단, for 문장, if문장에 pass 을 사용하시오."
   ]
  },
  {
   "cell_type": "code",
   "execution_count": null,
   "metadata": {},
   "outputs": [],
   "source": [
    "A=[20,55,67,82,45,33,90,87,100,25]\n",
    "total=0\n",
    "for i in A:         # for 사용\n",
    "    if i<50 : pass  # pass 사용\n",
    "    else : total+=i\n",
    "\n",
    "print(total)"
   ]
  },
  {
   "cell_type": "code",
   "execution_count": null,
   "metadata": {},
   "outputs": [],
   "source": [
    "A=[20,55,67,82,45,33,90,87,100,25]\n",
    "total=0\n",
    "for i in A:         # for 사용\n",
    "    if i>=50 : total+=i\n",
    "#    else : pass    #pass를 사용하지 않아도 상관없게 됨\n",
    "\n",
    "print(total)"
   ]
  },
  {
   "cell_type": "markdown",
   "metadata": {},
   "source": [
    " Q2. 다음 numbers 리스트형 자료에서 홀수에만 2를 곱하여 result 라는 변수에 리스트형으로 저장하시오.\n",
    " \n",
    "    numbers=[1,2,3,4,5]\n",
    "    \n",
    "    단, while 문장, pop , append 메소드를 사용하여 result를 print 했을 때 결과가 정확히 [2, 6, 10]이 나오도록 함."
   ]
  },
  {
   "cell_type": "code",
   "execution_count": null,
   "metadata": {},
   "outputs": [],
   "source": [
    "#1\n",
    "numbers=[1,2,3,4,5]\n",
    "result=[]\n",
    "\n",
    "while numbers:  # while 사용\n",
    "    x=numbers.pop(0)   # pop 사용\n",
    "    if x%2==1 : result.append(x*2)#append 사용\n",
    "\n",
    "print(result)"
   ]
  },
  {
   "cell_type": "code",
   "execution_count": null,
   "metadata": {},
   "outputs": [],
   "source": [
    "#2\n",
    "numbers=[1,2,3,4,5]\n",
    "result=[]\n",
    "\n",
    "while numbers:   # while 사용\n",
    "    x=numbers.pop() # pop 사용\n",
    "    if x%2==1 : result.append(x*2) #append 사용\n",
    "\n",
    "result.reverse()\n",
    "print(result)"
   ]
  },
  {
   "cell_type": "markdown",
   "metadata": {},
   "source": [
    "Q3. 다음과 같은 자료를 dic 변수에 딕셔너리형으로 작성하고, value의 표본평균, 표본표준편차를 구하여 다음과 같은 결과값이 나오도록 하라.\n",
    "    \n",
    "    mean=87.8, sd=5.89\n",
    "    \n",
    "    \n",
    "단, 리스트 내포형으로 for 문장 사용 \n",
    "\n",
    "|Key  |Value|\n",
    "|-----|-----|\n",
    "|Id_01| 90  |         \n",
    "|Id_02| 87  |\n",
    "|Id_03|93   |\n",
    "|Id_04|78   |\n",
    "|Id_05|91   |\n"
   ]
  },
  {
   "cell_type": "code",
   "execution_count": null,
   "metadata": {},
   "outputs": [],
   "source": [
    "#1 리스트 내포형\n",
    "dic={\"Id_01\":90,\"Id_02\":87,\"Id_03\":93,\"Id_04\":78,\"Id_05\":91}\n",
    "dic_val=dic.values()\n",
    "n=len(dic_val)\n",
    "mean=sum([i for i in dic_val ])/n # 리스트 내포형 for 문장 \n",
    "x_2=sum([i**2 for i in dic_val ]) # 리스트 내포형 for 문장\n",
    "sd=((x_2-n*mean**2)/(n-1))**0.5\n",
    "\n",
    "print(\"mean=%.1f, sd=%.2f\" %(mean, sd))"
   ]
  },
  {
   "cell_type": "code",
   "execution_count": null,
   "metadata": {},
   "outputs": [],
   "source": [
    "#2 원하는 형식이 아님\n",
    "dic={\"Id_01\":90,\"Id_02\":87,\"Id_03\":93,\"Id_04\":78,\"Id_05\":91}\n",
    "dic_val=dic.values()\n",
    "total=0\n",
    "total_2=0\n",
    "\n",
    "for i in dic_val:  # 그냥 for 문장\n",
    "    total+=i\n",
    "    total_2+=i**2\n",
    "    \n",
    "n=len(dic_val)\n",
    "mean=total/n\n",
    "sd=((total_2-n*mean**2)/(n-1))**0.5\n",
    "\n",
    "print(\"mean=%.1f, sd=%.2f\" %(mean, sd))"
   ]
  },
  {
   "cell_type": "markdown",
   "metadata": {},
   "source": [
    "Q4. 두자리수 14와 그 수의 십과 일의 자리 숫자를 바꾼 수 41의 곱은 14x41=574 이다. 어떤 두 자리 수와 그 수의 십과 일의 자리 숫자를 바꾼 수와의 곱이 1855일 때, 이 수의 각 자리 숫자의 합을 구하시오.\n",
    "\n",
    "단, for 문장과 if문장에 pass나 continue을 사용하시오."
   ]
  },
  {
   "cell_type": "code",
   "execution_count": null,
   "metadata": {},
   "outputs": [],
   "source": [
    "#1\n",
    "for x in range(1,10) :  #1,2,3,4,5,6,7,8,9\n",
    "    for y in range(x,10) :  #1~9 /2~9/ 3~9/..../9\n",
    "        if (10*x+y)*(10*y+x)!=1855  : \n",
    "            pass  # pass 사용\n",
    "        else : \n",
    "            print(x,y,x+y)"
   ]
  },
  {
   "cell_type": "code",
   "execution_count": null,
   "metadata": {},
   "outputs": [],
   "source": [
    "#2 \n",
    "for x in range(1,10) : \n",
    "    for y in range(x,10) : \n",
    "        if (10*x+y)*(10*y+x)!=1855  :  \n",
    "            continue #continue 사용 \n",
    "        print(x,y,x+y)\n",
    "        "
   ]
  },
  {
   "cell_type": "markdown",
   "metadata": {},
   "source": [
    "Q5. 최대값을 찾는 함수를 작성하려 한다. max, sort, sorted 와 같은 기존에 정의된 함수(메소드)를 사용하지 말고, 리스트 자료형을 함수의 인자로 받고 최대값을 return 하는 함수를 작성하라. (for 제어문 사용)\n",
    "\n",
    "예를들어, 함수의 이름은 find_max 이고, v = [17, 92, 18, 33, 58, 7, 33, 42] 리스트 자료형으로 find_max(v) 했을 때 92가 return 되게 한다."
   ]
  },
  {
   "cell_type": "code",
   "execution_count": null,
   "metadata": {},
   "outputs": [],
   "source": [
    "def find_max(a):\n",
    "    max_a=a[0]\n",
    "    \n",
    "    for x in a[1:]:\n",
    "        if max_a < x : max_a=x\n",
    "    return max_a\n",
    "\n",
    "v = [17, 92, 18, 33, 58, 7, 33, 42]\n",
    "print(find_max(v))"
   ]
  },
  {
   "cell_type": "markdown",
   "metadata": {},
   "source": [
    "Q6. 동일한 크기의 리스트 자료형 2개에 대하여 동일 위치의 요소값 더하기, 빼기, 곱하기, 나누기를 할 수 있는 함수를 만들려고 합니다. \n",
    "함수의 인자는 리스트 자료형 2개와 사칙연산 중 하나를 지정할 수 있게 합니다.(option=plus, minus, mul, div) 단, 사칙연산 디폴트(default) 값은 더하기 입니다. 사칙연산이 잘못입력되면 \"해당되는 사칙연산이 없습니다.\"를 프린트하게 합니다. 빼기와 나누기는 함수의 인자로 입력된 순서대로 연산을 합니다.즉, 입력순서가 x,y 이면 x-y, x/y 입니다. (나누기를 위해 자료중에 분모 자리에 해당하는 값이 \"0\"은 입력하지 않는 규칙이 있습니다.)\n",
    "return 되는 결과는 계산된 리스트 자료형 입니다. \n",
    "\n",
    "예를들어, 함수 이름은 list_cal이고 x=[1,2,3,4], y=[4,2,3,1] 리스트 자료형에 대하여, list_cal(x,y,\"minus\")를 입력하면, 결과값은 [-3, 0, 0, 3] 가 return 됩니다. "
   ]
  },
  {
   "cell_type": "code",
   "execution_count": null,
   "metadata": {},
   "outputs": [],
   "source": [
    "\n",
    "def list_cal(x,y,type1=\"plus\"):\n",
    "    \n",
    "    if type1==\"plus\" :\n",
    "        return list(map(lambda a, b : a+b , x,y))\n",
    "    elif type1==\"minus\":\n",
    "        return list(map(lambda a, b : a-b , x,y))\n",
    "    elif type1==\"mul\":\n",
    "        return list(map(lambda a, b : a*b , x,y))\n",
    "    elif type1==\"div\":\n",
    "        return list(map(lambda a, b : a/b , x,y))\n",
    "    else : print(\"해당되는 사칙연산이 없습니다.\")\n",
    "\n",
    "x=[1,2,3,4]\n",
    "y=[4,2,3,1]\n",
    "\n",
    "list_cal(x,y,\"minus\")"
   ]
  },
  {
   "cell_type": "code",
   "execution_count": null,
   "metadata": {},
   "outputs": [],
   "source": []
  }
 ],
 "metadata": {
  "kernelspec": {
   "display_name": "Python 3 (ipykernel)",
   "language": "python",
   "name": "python3"
  },
  "language_info": {
   "codemirror_mode": {
    "name": "ipython",
    "version": 3
   },
   "file_extension": ".py",
   "mimetype": "text/x-python",
   "name": "python",
   "nbconvert_exporter": "python",
   "pygments_lexer": "ipython3",
   "version": "3.10.2"
  }
 },
 "nbformat": 4,
 "nbformat_minor": 2
}
