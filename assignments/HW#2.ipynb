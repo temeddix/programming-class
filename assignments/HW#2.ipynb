{
 "cells": [
  {
   "attachments": {},
   "cell_type": "markdown",
   "metadata": {},
   "source": [
    "# H.W.2\n"
   ]
  },
  {
   "cell_type": "code",
   "execution_count": 1,
   "metadata": {},
   "outputs": [
    {
     "name": "stdout",
     "output_type": "stream",
     "text": [
      "학번은 2016143084, 이름은 김동현 입니다.\n"
     ]
    }
   ],
   "source": [
    "id = \"2016143084\"  # 학번을 문자열로 쓰세요.\n",
    "name = \"김동현\"  # 이름을 문자열로 쓰세요.\n",
    "\n",
    "print(\"학번은 %s, 이름은 %s 입니다.\" % (id, name))\n"
   ]
  },
  {
   "attachments": {},
   "cell_type": "markdown",
   "metadata": {},
   "source": [
    "Q1. 다음은 A학급 학생의 점수를 나타내는 리스트이다. 다음 리스트에서 50점 이상 점수의 총합을 구하시오.\n",
    "\n",
    "    A=[20,55,67,82,45,33,90,87,100,25]\n",
    "\n",
    "    단, for 문장, if문장에 pass 을 사용하시오.\n"
   ]
  },
  {
   "cell_type": "code",
   "execution_count": 3,
   "metadata": {},
   "outputs": [
    {
     "data": {
      "text/plain": [
       "481"
      ]
     },
     "execution_count": 3,
     "metadata": {},
     "output_type": "execute_result"
    }
   ],
   "source": [
    "A = [20, 55, 67, 82, 45, 33, 90, 87, 100, 25]\n",
    "high_sum = 0\n",
    "\n",
    "for score in A:\n",
    "    if score < 50:\n",
    "        pass\n",
    "    else:\n",
    "        high_sum += score\n",
    "\n",
    "high_sum"
   ]
  },
  {
   "attachments": {},
   "cell_type": "markdown",
   "metadata": {},
   "source": [
    "Q2. 다음 numbers 리스트형 자료에서 홀수에만 2를 곱하여 result 라는 변수에 리스트형으로 저장하시오.\n",
    "\n",
    "    numbers=[1,2,3,4,5]\n",
    "\n",
    "    단, while 문장, pop , append 메소드를 사용하여 result를 print 했을 때 결과가 정확히 [2, 6, 10]이 나오도록 함.\n"
   ]
  },
  {
   "cell_type": "code",
   "execution_count": 7,
   "metadata": {},
   "outputs": [
    {
     "data": {
      "text/plain": [
       "[2, 6, 10]"
      ]
     },
     "execution_count": 7,
     "metadata": {},
     "output_type": "execute_result"
    }
   ],
   "source": [
    "numbers = [1, 2, 3, 4, 5]\n",
    "\n",
    "result = []\n",
    "turn = 1\n",
    "while turn <= len(numbers):\n",
    "    if numbers[turn - 1] % 2 == 0:\n",
    "        pass\n",
    "    else:\n",
    "        result.append(numbers.pop(turn - 1) * 2)\n",
    "    turn += 1\n",
    "\n",
    "result"
   ]
  },
  {
   "attachments": {},
   "cell_type": "markdown",
   "metadata": {},
   "source": [
    "Q3. 다음과 같은 자료를 dic 변수에 딕셔너리형으로 작성하고, value의 표본평균, 표본표준편차를 구하여 다음과 같은 결과값이 나오도록 하라.\n",
    "\n",
    "    mean=87.8, sd=5.89\n",
    "\n",
    "단, 리스트 내포형으로 for 문장 사용\n",
    "\n",
    "| Key   | Value |\n",
    "| ----- | ----- |\n",
    "| Id_01 | 90    |\n",
    "| Id_02 | 87    |\n",
    "| Id_03 | 93    |\n",
    "| Id_04 | 78    |\n",
    "| Id_05 | 91    |\n",
    "\n",
    "$mean=\\sum_i^n X_i / n$  \n",
    "$ var=\\sum_i^n (X_i -mean)^2 /(n-1) = (\\sum_i^n X_i^2 - n \\times mean^2)/(n-1)$  \n",
    "$ sd = \\sqrt{var}$\n"
   ]
  },
  {
   "cell_type": "code",
   "execution_count": 12,
   "metadata": {},
   "outputs": [
    {
     "name": "stdout",
     "output_type": "stream",
     "text": [
      "mean=87.8, sd=5.89\n"
     ]
    }
   ],
   "source": [
    "dic = {\"Id_01\": 90, \"Id_02\": 87, \"Id_03\": 93, \"Id_04\": 78, \"Id_05\": 91}\n",
    "n = len(dic)\n",
    "mean = sum(dic.values()) / n\n",
    "var = sum([(value - mean) ** 2 / (n - 1) for value in dic.values()])\n",
    "sd = var**0.5\n",
    "print(\"mean=%.1f, sd=%.2f\" % (mean, sd))\n"
   ]
  },
  {
   "attachments": {},
   "cell_type": "markdown",
   "metadata": {},
   "source": [
    "Q4. 두자리수 14와 그 수의 십과 일의 자리 숫자를 바꾼 수 41의 곱은 14x41=574 이다. 어떤 두 자리 수와 그 수의 십과 일의 자리 숫자를 바꾼 수와의 곱이 1855일 때, 이 수의 각 자리 숫자의 합을 구하시오.\n",
    "\n",
    "단, for 문장과 if문장에 pass나 continue을 사용하시오.\n"
   ]
  },
  {
   "cell_type": "code",
   "execution_count": 16,
   "metadata": {},
   "outputs": [
    {
     "name": "stdout",
     "output_type": "stream",
     "text": [
      "35\n",
      "8\n"
     ]
    }
   ],
   "source": [
    "for num in range(10, 100):\n",
    "    string_num = str(num)\n",
    "    reversed = string_num[::-1]\n",
    "    other_num = int(reversed)\n",
    "    if num * other_num == 1855:\n",
    "        pass\n",
    "    else:\n",
    "        continue\n",
    "    print(num)\n",
    "    each_sum = int(string_num[0]) + int(string_num[1])\n",
    "    print(each_sum)\n",
    "    break\n"
   ]
  },
  {
   "attachments": {},
   "cell_type": "markdown",
   "metadata": {},
   "source": [
    "Q5. 최대값을 찾는 함수를 작성하려 한다. max, sort, sorted 와 같은 기존에 정의된 함수(메소드)를 사용하지 말고, 리스트 자료형을 함수의 인자로 받고 최대값을 return 하는 함수를 작성하라. (for 제어문 사용)\n",
    "\n",
    "예를들어, 함수의 이름은 find_max 이고, v = [17, 92, 18, 33, 58, 7, 33, 42] 리스트 자료형으로 find_max(v) 했을 때 92가 return 되게 한다.\n"
   ]
  },
  {
   "cell_type": "code",
   "execution_count": 17,
   "metadata": {},
   "outputs": [
    {
     "data": {
      "text/plain": [
       "92"
      ]
     },
     "execution_count": 17,
     "metadata": {},
     "output_type": "execute_result"
    }
   ],
   "source": [
    "def find_max(value):\n",
    "    max_item = value[0]\n",
    "    for item in value:\n",
    "        if item > max_item:\n",
    "            max_item = item\n",
    "    return max_item\n",
    "\n",
    "\n",
    "v = [17, 92, 18, 33, 58, 7, 33, 42]\n",
    "find_max(v)\n"
   ]
  },
  {
   "attachments": {},
   "cell_type": "markdown",
   "metadata": {},
   "source": [
    "Q6. 동일한 크기의 리스트 자료형 2개에 대하여 동일 위치의 요소값 더하기, 빼기, 곱하기, 나누기를 할 수 있는 함수를 만들려고 합니다.\n",
    "함수의 인자는 리스트 자료형 2개와 사칙연산 중 하나를 지정할 수 있게 합니다.(option=plus, minus, mul, div) 단, 사칙연산 디폴트(default) 값은 더하기 입니다. 사칙연산이 잘못입력되면 \"해당되는 사칙연산이 없습니다.\"를 프린트하게 합니다. 빼기와 나누기는 함수의 인자로 입력된 순서대로 연산을 합니다.즉, 입력순서가 x,y 이면 x-y, x/y 입니다. (나누기를 위해 자료중에 분모 자리에 해당하는 값이 \"0\"은 입력하지 않는 규칙이 있습니다.)\n",
    "return 되는 결과는 계산된 리스트 자료형 입니다.\n",
    "\n",
    "예를들어, 함수 이름은 list_cal이고 x=[1,2,3,4], y=[4,2,3,1] 리스트 자료형에 대하여, list_cal(x,y,\"minus\")를 입력하면, 결과값은 [-3, 0, 0, 3] 가 return 됩니다.\n"
   ]
  },
  {
   "cell_type": "code",
   "execution_count": 20,
   "metadata": {},
   "outputs": [
    {
     "data": {
      "text/plain": [
       "[-3, 0, 0, 3]"
      ]
     },
     "execution_count": 20,
     "metadata": {},
     "output_type": "execute_result"
    }
   ],
   "source": [
    "def list_cal(value_x, value_y, option=\"plus\"):\n",
    "    result = []\n",
    "    n = len(value_x)\n",
    "    if option == \"plus\":\n",
    "        for index in range(n):\n",
    "            result.append(value_x[index] + value_y[index])\n",
    "    elif option == \"minus\":\n",
    "        for index in range(n):\n",
    "            result.append(value_x[index] - value_y[index])\n",
    "    elif option == \"mul\":\n",
    "        for index in range(n):\n",
    "            result.append(value_x[index] * value_y[index])\n",
    "    elif option == \"div\":\n",
    "        for index in range(n):\n",
    "            result.append(value_x[index] / value_y[index])\n",
    "    else:\n",
    "        print(\"해당되는 사칙연산이 없습니다.\")\n",
    "    return result\n",
    "\n",
    "\n",
    "x = [1, 2, 3, 4]\n",
    "y = [4, 2, 3, 1]\n",
    "list_cal(x, y, \"minus\")"
   ]
  }
 ],
 "metadata": {
  "kernelspec": {
   "display_name": "Python 3 (ipykernel)",
   "language": "python",
   "name": "python3"
  },
  "language_info": {
   "codemirror_mode": {
    "name": "ipython",
    "version": 3
   },
   "file_extension": ".py",
   "mimetype": "text/x-python",
   "name": "python",
   "nbconvert_exporter": "python",
   "pygments_lexer": "ipython3",
   "version": "3.11.4"
  }
 },
 "nbformat": 4,
 "nbformat_minor": 2
}
