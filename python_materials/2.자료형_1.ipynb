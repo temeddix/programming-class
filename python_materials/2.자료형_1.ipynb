{
 "cells": [
  {
   "attachments": {},
   "cell_type": "markdown",
   "metadata": {},
   "source": [
    "# 2.자료형 \n",
    "\n",
    "  2.1 숫자형\n",
    "  \n",
    "  2.2 문자열\n",
    "  \n",
    "  2.3 리스트\n",
    "  \n",
    "  2.4 튜플\n",
    "  \n",
    "  2.5 집합\n",
    "  \n",
    "  2.6 불\n",
    "  \n",
    "  2.7 딕셔너리\n",
    "  "
   ]
  },
  {
   "attachments": {},
   "cell_type": "markdown",
   "metadata": {},
   "source": [
    "## 2.1 숫자형"
   ]
  },
  {
   "attachments": {},
   "cell_type": "markdown",
   "metadata": {},
   "source": [
    "- \"변수 = 숫자\" 의 형태\n",
    "- 즉, \"변수 = 객체\"로 변수는 객체를 가르키는 역할  \n",
    "- 객체(object) : 파이썬은 모든 것이 객체임.\n",
    "- 클래스와 객체의 관계 \n",
    "      * 클래스 : 과자틀과 같은 것 (설계도면)\n",
    "      * 객체 : 과제틀에 의해 만들어진 과자 (클래스로 만들어진 피조물)\n",
    "      * 객체들은 서로 영향을 주고 받지 않음. \n",
    "- 변수 이름 :  letters (upper and lower), underscores (_), numbers. 대소문자 구분 "
   ]
  },
  {
   "attachments": {},
   "cell_type": "markdown",
   "metadata": {},
   "source": [
    "- Q1) 숫자 1을 변수 a에 , 숫자 123.45를 변수 b에 입력하고 type 함수로 변수의 자료형을 나타내라."
   ]
  },
  {
   "cell_type": "code",
   "execution_count": null,
   "metadata": {},
   "outputs": [],
   "source": [
    "a=1 \n",
    "type(a)   # 변수의 자료형을 표시(클래스를 확인)"
   ]
  },
  {
   "cell_type": "code",
   "execution_count": null,
   "metadata": {},
   "outputs": [],
   "source": [
    "b=123.45\n",
    "type(b)"
   ]
  },
  {
   "cell_type": "code",
   "execution_count": null,
   "metadata": {},
   "outputs": [],
   "source": [
    "help(int)   # 클래스에서 사용가능한 메소드를 확인할 수 있음. \n",
    "            #help(객체(또는 변수)) 로 객체가 속한 클래스의 help를 확인할 수 있음."
   ]
  },
  {
   "attachments": {},
   "cell_type": "markdown",
   "metadata": {},
   "source": [
    "- Q2) 위 변수 a,b의 type을 검사할 수 있는 함수로 type 함수 외에도 isinstance가 있다. 이를 사용해보라.\n",
    " \n",
    "   * 클래스 : 과자틀과 같은 것 (설계도면)\n",
    "   * 객체 : 과제틀에 의해 만들어지는 모든 과자 (클래스로 만들어진 피조물)\n",
    "   * 인스턴스 : 만들어진 과자 한 개(객체를 실체화 한 것으로 메모리에 할당 된 객체)\n",
    "              \n",
    "            \"객체는 클래스의 인스턴스이다.\" 라고 표현함. 주로 관계를 나타낼때 사용함.\n",
    "\n",
    "isinstance(변수명(=object), 자료형(=class))  : 변수의 type이 지정된 \"자료형\"과 같으면 True, 틀리면 False\n",
    "   \n",
    "   * type(객체A)  :  \"객체A의 클래스는 무엇이다.\" \n",
    "   * isinstance(객체A, 클래스) : \"객체A는 클래스의 인스턴스이다/아니다\""
   ]
  },
  {
   "cell_type": "code",
   "execution_count": null,
   "metadata": {},
   "outputs": [],
   "source": [
    "isinstance(b,int) #변수의 type을 검사할 수 있음 (클래스를 확인)"
   ]
  },
  {
   "cell_type": "code",
   "execution_count": null,
   "metadata": {},
   "outputs": [],
   "source": [
    "isinstance(b,float)"
   ]
  },
  {
   "cell_type": "code",
   "execution_count": null,
   "metadata": {},
   "outputs": [],
   "source": [
    "isinstance(b, (int,float)) # a 변수가 int, float 중 하나라도 있으면 TRUE"
   ]
  },
  {
   "attachments": {},
   "cell_type": "markdown",
   "metadata": {},
   "source": [
    "- Q3) int와 float형을 서로 바꿀수 있다. float함수와 int함수를 이용하여 위 a,b 변수들의 자료형을 서로 변경해보라.\n",
    "\n",
    "\n",
    "- int 형을 float 형으로 바꾸기 : float()\n",
    "- float 형을 int 형으로 바꾸기 : int()"
   ]
  },
  {
   "cell_type": "code",
   "execution_count": null,
   "metadata": {},
   "outputs": [],
   "source": [
    "c=float(a) \n",
    "type(c)\n",
    "c"
   ]
  },
  {
   "cell_type": "code",
   "execution_count": null,
   "metadata": {},
   "outputs": [],
   "source": [
    "d=int(b) \n",
    "type(d)\n",
    "d"
   ]
  },
  {
   "cell_type": "code",
   "execution_count": null,
   "metadata": {},
   "outputs": [],
   "source": [
    "int(123.9) # 소수점 아래 버림"
   ]
  },
  {
   "attachments": {},
   "cell_type": "markdown",
   "metadata": {},
   "source": [
    "- Q4) 숫자형 변수는 사칙연산 및 계산이 가능하다. 위 변수 a,b를 이용하여 연산을 해보아라.\n",
    "\n",
    "\n",
    "- 사칙연산 : +, -, *, /\n",
    "- 기타 : ** (제곱값), % (나눗셈의 나머지), // (나눗셈의 몫)"
   ]
  },
  {
   "cell_type": "code",
   "execution_count": null,
   "metadata": {},
   "outputs": [],
   "source": [
    "a=3\n",
    "b=4\n",
    "a+b "
   ]
  },
  {
   "cell_type": "code",
   "execution_count": null,
   "metadata": {},
   "outputs": [],
   "source": [
    "a*b"
   ]
  },
  {
   "cell_type": "code",
   "execution_count": null,
   "metadata": {},
   "outputs": [],
   "source": [
    "a/b"
   ]
  },
  {
   "cell_type": "code",
   "execution_count": null,
   "metadata": {},
   "outputs": [],
   "source": [
    "a**b  # a의 b 제곱값"
   ]
  },
  {
   "cell_type": "code",
   "execution_count": null,
   "metadata": {},
   "outputs": [],
   "source": [
    "7%3 # 나눗셈 후 나머지 반환"
   ]
  },
  {
   "cell_type": "code",
   "execution_count": null,
   "metadata": {},
   "outputs": [],
   "source": [
    "7//3 # 나눗셈 후 몫을 반환"
   ]
  },
  {
   "attachments": {},
   "cell_type": "markdown",
   "metadata": {},
   "source": [
    "- Q5) x가 4, y가 3일때 (x+y)*(x+y)의 값을 구하시오. "
   ]
  },
  {
   "attachments": {},
   "cell_type": "markdown",
   "metadata": {},
   "source": [
    "- 숫자는 noniterable(반복 불가능한), immutable(변경불가능한) 객체 임.\n",
    "\n",
    "     * iterable (반복 가능한) : 요소값을 하나씩 개별적으로 리턴가능한 상태 \n",
    "     \n",
    "            숫자 123의 1, 2, 3를 개별적으로 리턴이 불가능함 따라서 iterable한 자료형이 아님.(noniterable)\n",
    "    \n",
    "     * mutable (변경 가능한) : 객체의 값을 수정 가능. 값이 수정되더라도 같은 객체를 가르키는 것\n",
    "     \n",
    "            id()를 통해 주소를 확인할 수 있음. 같은 주소이면 같은 객체를 의미함.\n",
    "            숫자는 immutable 객체이나 빈번하게 사용하는 -5 ~ 256 범위의 integer는 미리 caching 하고 있어 주소가 바뀌지 않음. "
   ]
  },
  {
   "cell_type": "code",
   "execution_count": null,
   "metadata": {},
   "outputs": [],
   "source": [
    "a=1000 \n",
    "print(id(a))\n",
    "a=1001          #a 변수를 변경하면 다른 주소 : immutable\n",
    "print(id(a))"
   ]
  },
  {
   "cell_type": "code",
   "execution_count": null,
   "metadata": {},
   "outputs": [],
   "source": [
    "a=1000\n",
    "b=1000\n",
    "print(id(a),id(b)) # 같은 1000이라는 값을 갖는 a,b 두 변수의 주소는 서로 다름. "
   ]
  },
  {
   "cell_type": "code",
   "execution_count": null,
   "metadata": {},
   "outputs": [],
   "source": [
    "a=10 \n",
    "b=10\n",
    "print(id(a), id(b))  # 단, -5~256 int는 미리 caching 하고 있어 같은 주소"
   ]
  },
  {
   "attachments": {},
   "cell_type": "markdown",
   "metadata": {},
   "source": [
    "## 2.2 문자열"
   ]
  },
  {
   "attachments": {},
   "cell_type": "markdown",
   "metadata": {},
   "source": [
    "- 문자열 구성 방법 \n",
    " 1. 큰따옴표(\")로 양쪽 둘러싸기\n",
    " 2. 작은따옴표(')로 양쪽 둘러싸기\n",
    " 3. 큰따옴표 3개를 연속(\"\"\")으로 써서 양쪽 둘러싸기\n",
    " 4. 작은따옴표 3개를 연속(''')으로 써서 양쪽 둘러싸기\n",
    " \n",
    " \n",
    "- iterable(반복가능한), immutable(변경불가능한) 객체 임."
   ]
  },
  {
   "attachments": {},
   "cell_type": "markdown",
   "metadata": {},
   "source": [
    "- Q1) Hello 라는 문자를 m 변수에 입력하려 한다. 따옴표를 여러가지 사용하여 입력해 보아라."
   ]
  },
  {
   "cell_type": "code",
   "execution_count": null,
   "metadata": {},
   "outputs": [],
   "source": [
    "m=\"Hello\"\n",
    "m"
   ]
  },
  {
   "cell_type": "code",
   "execution_count": null,
   "metadata": {},
   "outputs": [],
   "source": [
    "m='Hello'\n",
    "m"
   ]
  },
  {
   "cell_type": "code",
   "execution_count": null,
   "metadata": {},
   "outputs": [],
   "source": [
    "m=\"\"\"Hello\"\"\"\n",
    "m"
   ]
  },
  {
   "cell_type": "code",
   "execution_count": null,
   "metadata": {},
   "outputs": [],
   "source": [
    "m='''Hello'''\n",
    "m"
   ]
  },
  {
   "cell_type": "code",
   "execution_count": null,
   "metadata": {},
   "outputs": [],
   "source": [
    "type(m)  # m 객체의 클래스"
   ]
  },
  {
   "cell_type": "code",
   "execution_count": null,
   "metadata": {},
   "outputs": [],
   "source": [
    "isinstance(m,str) # m 객체의 클래스는 str 인가?  "
   ]
  },
  {
   "attachments": {},
   "cell_type": "markdown",
   "metadata": {},
   "source": [
    "- Q2) 만약 문자열 안에 작은따옴표(')가 있는 경우라면? \n",
    "     \n",
    "      ex) I'm fine.\n",
    "\n",
    "- 문자열 안에 작은따옴표(') 포함한 경우 큰따옴표로 양쪽둘러싸기"
   ]
  },
  {
   "cell_type": "code",
   "execution_count": null,
   "metadata": {},
   "outputs": [],
   "source": [
    "m=\"I'm fine.\"\n",
    "m"
   ]
  },
  {
   "cell_type": "code",
   "execution_count": null,
   "metadata": {},
   "outputs": [],
   "source": [
    "m=\"I'm fine.\"\n",
    "m\n",
    "print(m)"
   ]
  },
  {
   "attachments": {},
   "cell_type": "markdown",
   "metadata": {},
   "source": [
    "- Q3) 만약 문자열 안에 큰따옴표(\")가 있는 경우라면?\n",
    "\n",
    "      ex) \"I am fine.\" he says.\n",
    "      \n",
    "- 문자열 안에 큰따옴표(\") 포함한 경우 작은따옴표로 양쪽 둘러싸기"
   ]
  },
  {
   "cell_type": "code",
   "execution_count": null,
   "metadata": {},
   "outputs": [],
   "source": [
    "m='\"I am fine.\" he says.'\n",
    "m\n",
    "print(m)"
   ]
  },
  {
   "attachments": {},
   "cell_type": "markdown",
   "metadata": {},
   "source": [
    "- Q4) 만약 문자열 안에 큰따옴표(\")와 작은 따옴표(')가 동시에 사용하는 경우라면?\n",
    "\n",
    "      ex) \"I'm fine.\" he says.\n",
    "      \n",
    "- 작은 따옴표로 양쪽을 둘러싸고, 문자열에 쓰이는 작은 따옴표는 이스케이프 코드(Escape code)를 사용함"
   ]
  },
  {
   "cell_type": "code",
   "execution_count": null,
   "metadata": {},
   "outputs": [],
   "source": [
    "m='\"I\\'m fine,\" he says.' #이스케이프 코드 사용 \\' 은 ' 와 같은 의미\n",
    "m\n",
    "print(m) "
   ]
  },
  {
   "attachments": {},
   "cell_type": "markdown",
   "metadata": {},
   "source": [
    "- 기타 이스케이프 코드 \n",
    "\n",
    "  - \\n : 줄바꿈 (enter기능)\n",
    "  - \\t : tab만큼 띄어쓰기 (tab기능)\n",
    "  "
   ]
  },
  {
   "attachments": {},
   "cell_type": "markdown",
   "metadata": {},
   "source": [
    "- Q5) 여러줄인 문자열을 변수에 대입하고 싶다면?\n",
    "\n",
    "        ex) Life is too short\n",
    "            You need python\n",
    "         \n",
    " 1. 이스케이프 코드 사용 : \\n\n",
    " 2. 연속된 작은 따옴표 3개(''') 또는 큰 따옴표 3개 (\"\"\") 사용"
   ]
  },
  {
   "cell_type": "code",
   "execution_count": null,
   "metadata": {},
   "outputs": [],
   "source": [
    "m='Life is too short\\nYou need python'\n",
    "print(m)\n",
    "m"
   ]
  },
  {
   "cell_type": "code",
   "execution_count": null,
   "metadata": {},
   "outputs": [],
   "source": [
    "m='''\n",
    "Life is too short\n",
    "You need python\n",
    "'''\n",
    "print(m)"
   ]
  },
  {
   "cell_type": "code",
   "execution_count": null,
   "metadata": {},
   "outputs": [],
   "source": [
    "#error\n",
    "m=\"\n",
    "Life is too short\n",
    "You need python\n",
    "\"\n",
    "print(m)"
   ]
  },
  {
   "attachments": {},
   "cell_type": "markdown",
   "metadata": {},
   "source": [
    "- 문자열 연산\n",
    " 1. 문자열 더해서 연결하기 : +\n",
    " 2. 문자열 반복 : 변수명*2\n",
    " 3. 문자열 길이 구하기 : len(변수명)"
   ]
  },
  {
   "attachments": {},
   "cell_type": "markdown",
   "metadata": {},
   "source": [
    "- Q6) \"Python\"을 head 변수에 \" is fun!\"을 tail 변수에 입력하고 두개의 변수를 연결하여 \"Python is fun!\"이라는 문자를 만들어라."
   ]
  },
  {
   "cell_type": "code",
   "execution_count": null,
   "metadata": {},
   "outputs": [],
   "source": [
    "head=\"Python\"\n",
    "tail=\" is fun!\"\n",
    "m=head+tail\n",
    "m"
   ]
  },
  {
   "attachments": {},
   "cell_type": "markdown",
   "metadata": {},
   "source": [
    "- Q7) 위 head변수에 있는 \"Python\"를 두번 반복하여 \"PythonPython\" 이라는 문자를 만들어라."
   ]
  },
  {
   "cell_type": "code",
   "execution_count": null,
   "metadata": {},
   "outputs": [],
   "source": [
    "head+head+head"
   ]
  },
  {
   "cell_type": "code",
   "execution_count": null,
   "metadata": {},
   "outputs": [],
   "source": [
    "head*3"
   ]
  },
  {
   "attachments": {},
   "cell_type": "markdown",
   "metadata": {},
   "source": [
    "- Q8) 위 Q6의 \"Python is fun!\"의 문자열 길이를 구하여라."
   ]
  },
  {
   "cell_type": "code",
   "execution_count": null,
   "metadata": {},
   "outputs": [],
   "source": [
    "#m\n",
    "len(m)"
   ]
  },
  {
   "attachments": {},
   "cell_type": "markdown",
   "metadata": {},
   "source": [
    "- Q9) 숫자 1을 a에 입력하면 int형 변수가 된다. 이를 문자 '1'로 바꿔라. \n",
    "  \n",
    "      str() 함수 사용"
   ]
  },
  {
   "cell_type": "code",
   "execution_count": null,
   "metadata": {},
   "outputs": [],
   "source": [
    "a=1 \n",
    "m=str(a)\n",
    "m"
   ]
  },
  {
   "cell_type": "code",
   "execution_count": null,
   "metadata": {},
   "outputs": [],
   "source": [
    "type(m)"
   ]
  },
  {
   "attachments": {},
   "cell_type": "markdown",
   "metadata": {},
   "source": [
    "- 문자열 인덱싱과 슬라이싱\n",
    " 1. 인덱싱(indexing) \n",
    "          - 문자열의 위치를 정의\n",
    "          - 문자열의 첫 시작은 0부터\n",
    "          \n",
    "            Python\n",
    "            012345   앞에서부터 위치 정의시\n",
    "          - 654321   뒤에서부터 위치 정의할때는 -1, -2, -3...으로 인식\n",
    "            \n",
    " 2. 슬라이싱(slicing) : 문자열의 위치를 이용하여 문자를 잘라내기 \n",
    " \n",
    "          - 변수명[위치] : 문자열의 위치값에 해당하는 문자 하나\n",
    "          - 변수명[위치1:위치2] : 위치1에 해당하는 문자부터 (위치2-1)에 해당하는 문자\n",
    "          - 변수명[위치:] : 위치값에 해당하는 문자부터 끝까지\n",
    "          - 변수명[:위치] : 처음부터 (위치-1)에 해당하는 문자\n",
    "          - 변수명[위치1: 위치2 : 증가분] : 위치1에 해당하는 문자부터 (위치2-1)까지 증가분 만큼 분할\n",
    "          - 변수명[위치1: 위치2 : 감소분] : 위치1에 해당하는 문자부터 (위치2+1)까지 감소분 만큼 분할\n",
    "          - 변수명[::-1] : 전체문자를 거꾸로"
   ]
  },
  {
   "attachments": {},
   "cell_type": "markdown",
   "metadata": {},
   "source": [
    "- Q10) a변수에 \"Life is too short, You need python\"를 입력하여 첫 시작문자 \"L\"과 끝 문자 \"n\"를 찾아 보아라."
   ]
  },
  {
   "cell_type": "code",
   "execution_count": null,
   "metadata": {},
   "outputs": [],
   "source": [
    "a=\"Life is too short, You need python\"\n",
    "a[0]  # 문자열의 첫 시작은 0부터\n",
    "\n",
    "#  Life is too short, You need python\n",
    "#  0         1         2          3 \n",
    "#  0123456789012345678901234567890123\n",
    "#      3         2         1\n",
    "#- 4321098765432109876543210987654321"
   ]
  },
  {
   "cell_type": "code",
   "execution_count": null,
   "metadata": {},
   "outputs": [],
   "source": [
    "len(a)"
   ]
  },
  {
   "cell_type": "code",
   "execution_count": null,
   "metadata": {},
   "outputs": [],
   "source": [
    "a[33] "
   ]
  },
  {
   "cell_type": "code",
   "execution_count": null,
   "metadata": {},
   "outputs": [],
   "source": [
    "a[-1] # 뒤에서 첫번째 문자 "
   ]
  },
  {
   "cell_type": "code",
   "execution_count": null,
   "metadata": {},
   "outputs": [],
   "source": [
    "a[-34] "
   ]
  },
  {
   "attachments": {},
   "cell_type": "markdown",
   "metadata": {},
   "source": [
    "- Q11) 위 a 변수에서 Life 라는 문자열만 잘라내라."
   ]
  },
  {
   "cell_type": "code",
   "execution_count": null,
   "metadata": {},
   "outputs": [],
   "source": [
    "a[0:4] #0,1,2,3 번째 문자를 slicing "
   ]
  },
  {
   "cell_type": "code",
   "execution_count": null,
   "metadata": {},
   "outputs": [],
   "source": [
    "b=a[0]+a[1]+a[2]+a[3]\n",
    "b"
   ]
  },
  {
   "cell_type": "code",
   "execution_count": null,
   "metadata": {},
   "outputs": [],
   "source": [
    "a[:4]"
   ]
  },
  {
   "attachments": {},
   "cell_type": "markdown",
   "metadata": {},
   "source": [
    "- Q12) 위 a 변수에서 \"Life is too short\"라는 문자열과 \"You need python\" 이라는 문자열을 분리하라."
   ]
  },
  {
   "cell_type": "code",
   "execution_count": null,
   "metadata": {},
   "outputs": [],
   "source": [
    "a[:17]  #[:끝번호] 처음부터 끝번호-1 까지"
   ]
  },
  {
   "cell_type": "code",
   "execution_count": null,
   "metadata": {},
   "outputs": [],
   "source": [
    "a[19:]  #[시작번호: ] 시작번호부터 끝까지"
   ]
  },
  {
   "attachments": {},
   "cell_type": "markdown",
   "metadata": {},
   "source": [
    "- 기타"
   ]
  },
  {
   "cell_type": "code",
   "execution_count": null,
   "metadata": {},
   "outputs": [],
   "source": [
    "a[:] #[:] 모든문장"
   ]
  },
  {
   "cell_type": "code",
   "execution_count": null,
   "metadata": {},
   "outputs": [],
   "source": [
    "a[19:-7] # a[19]부터 a[-8]까지 \n",
    "\n",
    "#  Life is too short, You need python\n",
    "#  0         1         2          3 \n",
    "#  0123456789012345678901234567890123\n",
    "#      3         2         1\n",
    "#- 4321098765432109876543210987654321"
   ]
  },
  {
   "attachments": {},
   "cell_type": "markdown",
   "metadata": {},
   "source": [
    "- Q13) \"0123456789\" 이라는 문자열을 입력받고, 위치값 0,2,4,6,8 을 슬라이싱 하라."
   ]
  },
  {
   "cell_type": "code",
   "execution_count": null,
   "metadata": {},
   "outputs": [],
   "source": [
    "num_str=\"0123456789\"\n",
    "num_str[0:9:2]"
   ]
  },
  {
   "cell_type": "code",
   "execution_count": null,
   "metadata": {},
   "outputs": [],
   "source": [
    "num_str[8: :-2] #num_str[8:0:-2] 와 비교 "
   ]
  },
  {
   "cell_type": "code",
   "execution_count": null,
   "metadata": {},
   "outputs": [],
   "source": [
    "num_str[-2: :-2]"
   ]
  },
  {
   "attachments": {},
   "cell_type": "markdown",
   "metadata": {},
   "source": [
    "- Q14) \"0123456789\" 이라는 문자열을 입력받고, 거꾸로 배열하여 \"9876543210\"을 만들어라. "
   ]
  },
  {
   "cell_type": "code",
   "execution_count": null,
   "metadata": {},
   "outputs": [],
   "source": [
    "num_str[::-1]"
   ]
  },
  {
   "attachments": {},
   "cell_type": "markdown",
   "metadata": {},
   "source": [
    "- 문자열 포매팅 \n",
    "\n",
    "  문자열 안에 어떤 값을 삽입하는 방법\n",
    "  \n",
    "  <문자열 포맷코드>\n",
    "  \n",
    "  %s : 문자열\n",
    "  \n",
    "  %c : 문자1개\n",
    "  \n",
    "  %d : 정수\n",
    "  \n",
    "  %f : 소수\n",
    "  \n",
    "  format함수를 이용할 수 있음 "
   ]
  },
  {
   "attachments": {},
   "cell_type": "markdown",
   "metadata": {},
   "source": [
    "- Q15) \"I eat ** apples.\" 라는 문장이 있는데, ** 자리에 숫자를 매번 바꾸고 싶다. 문자열 포매팅을 이용하여 표현해 보라."
   ]
  },
  {
   "cell_type": "code",
   "execution_count": null,
   "metadata": {},
   "outputs": [],
   "source": [
    "\"I eat %d apples.\" %3"
   ]
  },
  {
   "cell_type": "code",
   "execution_count": null,
   "metadata": {},
   "outputs": [],
   "source": [
    "\"I eat {0} apples.\".format(3)"
   ]
  },
  {
   "cell_type": "code",
   "execution_count": null,
   "metadata": {},
   "outputs": [],
   "source": [
    "\"I eat %s apples.\" %\"five\""
   ]
  },
  {
   "cell_type": "code",
   "execution_count": null,
   "metadata": {},
   "outputs": [],
   "source": [
    "\"I eat {0} apples.\".format(\"five\")"
   ]
  },
  {
   "cell_type": "code",
   "execution_count": null,
   "metadata": {},
   "outputs": [],
   "source": [
    "\"I eat {num} apples.\".format(num=\"five\") #변수사용"
   ]
  },
  {
   "attachments": {},
   "cell_type": "markdown",
   "metadata": {},
   "source": [
    "- Q16) \"I ate ** apples, so I was sick for ** days.\" 라는 문장이 있다. ** 자리가 2개가 있으므로 포매팅을 두번 해야할 것이다. 변수를 이용하여 알맞게 표현해보라."
   ]
  },
  {
   "cell_type": "code",
   "execution_count": null,
   "metadata": {
    "scrolled": true
   },
   "outputs": [],
   "source": [
    "number=10\n",
    "day=\"three\"\n",
    "\"I ate %d apples. So I was sick for %s days.\" %(number, day)"
   ]
  },
  {
   "cell_type": "code",
   "execution_count": null,
   "metadata": {},
   "outputs": [],
   "source": [
    "\"I ate %d apples. So I was sick for %s days.\" %(10, \"three\")"
   ]
  },
  {
   "cell_type": "code",
   "execution_count": null,
   "metadata": {},
   "outputs": [],
   "source": [
    "number=10\n",
    "day=\"three\"\n",
    "\"I ate {0} apples. So I was sick for {1} days.\".format(number, day)"
   ]
  },
  {
   "cell_type": "code",
   "execution_count": null,
   "metadata": {},
   "outputs": [],
   "source": [
    "\"I ate %.1f apples. So I was sick for %c days.\" %(5.5, \"T\")"
   ]
  },
  {
   "attachments": {},
   "cell_type": "markdown",
   "metadata": {},
   "source": [
    "- Q17) 위 Q10)의 a=\"Life is too short, You need python\" 변수를 이용하여 기타 문자열 관련한 함수들을 적용해보라.\n",
    "\n",
    "\n",
    "\n",
    "- 문자열 관련 함수\n",
    " 1. 문자 개수 세기 : count\n",
    " 2. 문자 위치 알려주기 : find, index\n",
    " 3. 문자열 삽입 : join\n",
    " 4. 소문자를 대문자로 : upper\n",
    " 5. 대문자를 소문자로 : lower\n",
    " 6. 왼쪽공백지우기 : lstrip\n",
    " 7. 오른쪽공백지우기 : rstrip\n",
    " 8. 양쪽공백지우기 : strip\n",
    " 9. 문자열 바꾸기 : replace\n",
    " 10. 문자열 나누기 : split\n",
    " \n",
    "\n",
    "- \"객체.메소드\" 로 적용  : help(객체.메소드)로 도움말 찾아볼 수 있음. "
   ]
  },
  {
   "cell_type": "code",
   "execution_count": null,
   "metadata": {},
   "outputs": [],
   "source": [
    "a.count('e') #'e' 문자 개수"
   ]
  },
  {
   "cell_type": "code",
   "execution_count": null,
   "metadata": {},
   "outputs": [],
   "source": [
    "a.find('i') # 'i' 문자가 맨 처음 나오는 위치 = a.index('i')"
   ]
  },
  {
   "cell_type": "code",
   "execution_count": null,
   "metadata": {},
   "outputs": [],
   "source": [
    "a.index('i')"
   ]
  },
  {
   "cell_type": "code",
   "execution_count": null,
   "metadata": {},
   "outputs": [],
   "source": [
    "a.find('l') #소문자 'ㅣ' 문자가 맨 처음 나오는 위치이지만 소문자 'ㅣ'은 없으므로 -1 "
   ]
  },
  {
   "cell_type": "code",
   "execution_count": null,
   "metadata": {},
   "outputs": [],
   "source": [
    "a.index('l') #index 함수는 -1을 반환하지 않고 error가 됨"
   ]
  },
  {
   "cell_type": "code",
   "execution_count": null,
   "metadata": {},
   "outputs": [],
   "source": [
    "\"  \".join('abcd') #'abcd' 문자들에 \"  \"를 삽입"
   ]
  },
  {
   "cell_type": "code",
   "execution_count": null,
   "metadata": {},
   "outputs": [],
   "source": [
    "\",\".join('abcd') #'abcd' 문자들에 \",\"를 삽입"
   ]
  },
  {
   "cell_type": "code",
   "execution_count": null,
   "metadata": {},
   "outputs": [],
   "source": [
    "b=\"hi\"\n",
    "b.upper() #대문자로 바꾸기"
   ]
  },
  {
   "cell_type": "code",
   "execution_count": null,
   "metadata": {},
   "outputs": [],
   "source": [
    "b"
   ]
  },
  {
   "cell_type": "code",
   "execution_count": null,
   "metadata": {},
   "outputs": [],
   "source": [
    "b[0].upper()+b[1]  # h만 대문자로"
   ]
  },
  {
   "cell_type": "code",
   "execution_count": null,
   "metadata": {},
   "outputs": [],
   "source": [
    "b=\"HI\"\n",
    "b.lower() #소문자로 바꾸기"
   ]
  },
  {
   "cell_type": "code",
   "execution_count": null,
   "metadata": {},
   "outputs": [],
   "source": [
    "b[0]+b[1].lower()"
   ]
  },
  {
   "cell_type": "code",
   "execution_count": null,
   "metadata": {},
   "outputs": [],
   "source": [
    "b=\"  hi  \" \n",
    "c=b.lstrip() #왼쪽공백지우기\n",
    "c"
   ]
  },
  {
   "cell_type": "code",
   "execution_count": null,
   "metadata": {},
   "outputs": [],
   "source": [
    "b"
   ]
  },
  {
   "cell_type": "code",
   "execution_count": null,
   "metadata": {},
   "outputs": [],
   "source": [
    "b.rstrip() #오른쪽 공백지우기"
   ]
  },
  {
   "cell_type": "code",
   "execution_count": null,
   "metadata": {},
   "outputs": [],
   "source": [
    "b.strip() #양쪽공백지우기"
   ]
  },
  {
   "cell_type": "code",
   "execution_count": null,
   "metadata": {},
   "outputs": [],
   "source": [
    "#print(a)\n",
    "a.replace(\"Life\",\"Your leg\") # 'Life'를 'Your leg'로 문자열 바꾸기"
   ]
  },
  {
   "cell_type": "code",
   "execution_count": null,
   "metadata": {},
   "outputs": [],
   "source": [
    "a.split() #공백을 기준으로 문자열 나눠 리스트형을 만듬"
   ]
  },
  {
   "cell_type": "code",
   "execution_count": null,
   "metadata": {},
   "outputs": [],
   "source": [
    "a.split(',') #\",\"를 기준으로 문자열 나눠 리스트형을 만듬"
   ]
  },
  {
   "attachments": {},
   "cell_type": "markdown",
   "metadata": {},
   "source": [
    "- Q18) str(n)은 n이 숫자형일때 문자형으로 바꿔주는 함수이다. \n",
    "     이 함수를 이용하여 n이 어떤 숫자가 입력되었을 때, n+nn+nnn의 값을 구하는 프로그램을 작성하시오. \n",
    "     ex) n=1일때 1+11+111=123의 값이 나옴"
   ]
  },
  {
   "attachments": {},
   "cell_type": "markdown",
   "metadata": {},
   "source": [
    "- Q19) firstname이 'JongHee' , lastname이 'Chung' 이라고 할 때, \n",
    "     다음 2개의 문장이 나오도록 각각 프로그램을 작성하라.\n",
    "     \n",
    "     1) JongHee Chung   \n",
    "     2) JongHeeJongHeeJongHee\n",
    "   \n",
    "     또한, 위 1)의 문장에서 'ng'단어가 몇번 나오는지 세어보는 프로그램을 작성하라.  "
   ]
  },
  {
   "attachments": {},
   "cell_type": "markdown",
   "metadata": {},
   "source": [
    "- Q20) 위 문제의 1번문장('JongHee Chung')을 만든 후 공백을 기준으로 문자열을 나눈 후, JongHee을 first, Chung을 last 변수로 넣어라."
   ]
  }
 ],
 "metadata": {
  "kernelspec": {
   "display_name": "Python 3 (ipykernel)",
   "language": "python",
   "name": "python3"
  },
  "language_info": {
   "codemirror_mode": {
    "name": "ipython",
    "version": 3
   },
   "file_extension": ".py",
   "mimetype": "text/x-python",
   "name": "python",
   "nbconvert_exporter": "python",
   "pygments_lexer": "ipython3",
   "version": "3.11.4"
  }
 },
 "nbformat": 4,
 "nbformat_minor": 2
}
