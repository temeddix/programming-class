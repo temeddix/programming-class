{
 "cells": [
  {
   "cell_type": "markdown",
   "metadata": {},
   "source": [
    "## 3.4 while 문장\n",
    "\n",
    " - 조건이 맞을 경우 반복해서 문장을 수행해야 할 경우 사용\n",
    " \n",
    "   while 조건문:\n",
    "   \n",
    "          수행할 문장\n",
    "\n",
    "- Q1. 열번찍어 안 넘어가는 나무 없다.\n",
    "\n",
    "    나무를 찍은 횟수(treeHit) 가 10 보다 작으면 하나씩 증가\n",
    "    \n",
    "    만약, treeHit이 10번이면 print(\"나무가 넘어간다.\")\n",
    "    \n",
    "- treeHit의 초기화가 필요함. 0부터 하나씩 증가하면서 10번이 되면 print 하고 끝냄. \n"
   ]
  },
  {
   "cell_type": "code",
   "execution_count": null,
   "metadata": {},
   "outputs": [],
   "source": [
    "treeHit=0\n",
    "\n",
    "while treeHit<10: \n",
    "   # print(treeHit)\n",
    "    treeHit=treeHit+1\n",
    "    \n",
    "    if treeHit==10 :\n",
    "        print(\"나무가 넘어간다.\")\n"
   ]
  },
  {
   "cell_type": "markdown",
   "metadata": {},
   "source": [
    "- Q2. 앞의 문제에서 treeHit이 10보다 작으면 treeHit의 개수를 문자열 포맷팅을 이용하여 print로 return\n",
    "\n",
    "     print(\"나무를 %몇번 찍었다.\")\n",
    " "
   ]
  },
  {
   "cell_type": "code",
   "execution_count": null,
   "metadata": {},
   "outputs": [],
   "source": [
    "treeHit=1\n",
    "\n",
    "while treeHit<11:\n",
    "    print(\"나무를 %d번 찍었다.\" %treeHit)\n",
    "    if treeHit==10 :\n",
    "        print(\"나무가 넘어간다.\")\n",
    "    treeHit=treeHit+1"
   ]
  },
  {
   "cell_type": "markdown",
   "metadata": {},
   "source": [
    "- Q3. 자판기에 커피(coffee)가 10개 있다. 자판기에 넣을돈(money) 300원이 있다. \n",
    "      자판기에서 커피를 사기위해 계속 300원을 투입한다. (while 문장의 조건식 money가 True일때)\n",
    "      커피 10개에서 한개씩 차감한다. 남은 커피 개수를 print한다.\n",
    "      커피가 0개 일때 print(\"커피가 다 떨어졌습니다. 판매를 중지합니다.\")라고 하고 while 문장을 벗어난다.(break)"
   ]
  },
  {
   "cell_type": "code",
   "execution_count": null,
   "metadata": {},
   "outputs": [],
   "source": [
    "coffee=10\n",
    "money=300\n",
    "\n",
    "while money :\n",
    "    coffee=coffee-1\n",
    "    print(\"남은 커피의 양은 %d 입니다.\" %coffee)\n",
    "    \n",
    "    if coffee==0 : \n",
    "        print(\"커피가 다 떨어졌습니다. 판매를 중지합니다.\")\n",
    "        break\n",
    "    "
   ]
  },
  {
   "cell_type": "markdown",
   "metadata": {},
   "source": [
    "- Q4. 1부터 10까지의 숫자 중에서 홀수만 출력하라. (while 문장 이용)\n",
    "\n",
    "      숫자(a)가 10보다 작을 경우에 while 문장 수행\n",
    "      a를 2로 나누었을때 나머지가 1이면 print(a)\n",
    "      "
   ]
  },
  {
   "cell_type": "code",
   "execution_count": null,
   "metadata": {},
   "outputs": [],
   "source": [
    "a=0\n",
    "\n",
    "while a<10:\n",
    "    a=a+1\n",
    "    if a%2 == 1 : print(a)"
   ]
  },
  {
   "cell_type": "markdown",
   "metadata": {},
   "source": [
    "- Q4의 문제를 a를 2로 나누었을때 나머지가 0이 되는 짝수인 경우로 if 문장을 구성하면?\n",
    "\n",
    "  1. 짝수이면 pass  else print(a)\n",
    "  2. 짝수이면 while 문장의 맨 앞으로 가라는 명령어 사용 : continue"
   ]
  },
  {
   "cell_type": "code",
   "execution_count": null,
   "metadata": {},
   "outputs": [],
   "source": [
    "a=0\n",
    "\n",
    "while a<10:\n",
    "    a=a+1\n",
    "    if a%2 == 0 : pass\n",
    "    else : print(a)"
   ]
  },
  {
   "cell_type": "code",
   "execution_count": null,
   "metadata": {},
   "outputs": [],
   "source": [
    "a=0\n",
    "\n",
    "while a<10:\n",
    "    a=a+1\n",
    "    if a%2 == 0 : continue\n",
    "    print(a)"
   ]
  },
  {
   "cell_type": "markdown",
   "metadata": {},
   "source": [
    "-Q5) while 문장을 사용하여 1부터 1000까지의 자연수 중 3의 배수의 합을 구해보시오."
   ]
  },
  {
   "cell_type": "code",
   "execution_count": null,
   "metadata": {},
   "outputs": [],
   "source": [
    "i=1\n",
    "total=0\n",
    "\n",
    "while i<=1000 :\n",
    "    if i%3==0 : total+=i #total=total+i\n",
    "    i=i+1\n",
    "\n",
    "total"
   ]
  },
  {
   "cell_type": "code",
   "execution_count": null,
   "metadata": {},
   "outputs": [],
   "source": [
    "i=0\n",
    "total=0\n",
    "\n",
    "while i<1000 :\n",
    "    i=i+1\n",
    "    if i%3==0 : total+=i #total=total+i\n",
    "\n",
    "total"
   ]
  }
 ],
 "metadata": {
  "kernelspec": {
   "display_name": "Python 3 (ipykernel)",
   "language": "python",
   "name": "python3"
  },
  "language_info": {
   "codemirror_mode": {
    "name": "ipython",
    "version": 3
   },
   "file_extension": ".py",
   "mimetype": "text/x-python",
   "name": "python",
   "nbconvert_exporter": "python",
   "pygments_lexer": "ipython3",
   "version": "3.10.2"
  }
 },
 "nbformat": 4,
 "nbformat_minor": 2
}
