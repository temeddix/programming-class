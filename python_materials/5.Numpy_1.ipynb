{
 "cells": [
  {
   "cell_type": "markdown",
   "metadata": {},
   "source": [
    "## 5. Numpy\n",
    "\n",
    "   - 패키지로 Numerical Python의 줄임말\n",
    "   \n",
    "   - Numpy가 제공하는 것들\n",
    "   \n",
    "     1. 다차원 배열(ndarray)객체를 다룸 : 대규모 데이터 집합을 담을 수 있는 빠르고 유연한 자료구조\n",
    "     2. 반복문 필요없이 전체 데이터 배열을 빠르게 계산할 수 있는 표준 수학 함수\n",
    "     3. 선형대수, 난수 생성기, 푸리에 변환 가능\n",
    "  \n",
    "  \n",
    "   - Install : cmd에서 pip install numpy \n",
    "  \n",
    "  \n",
    "   - import 사용하여 numpy 불러오기\n",
    "   \n",
    "     import numpy : numpy.array 로 사용\n",
    "     \n",
    "     import numpy as np  : np.array로 사용"
   ]
  },
  {
   "cell_type": "code",
   "execution_count": 3,
   "metadata": {},
   "outputs": [
    {
     "data": {
      "text/plain": [
       "array([ 0,  1,  2,  3,  4,  5,  6,  7,  8,  9, 10, 11, 12, 13, 14])"
      ]
     },
     "execution_count": 3,
     "metadata": {},
     "output_type": "execute_result"
    }
   ],
   "source": [
    "import numpy\n",
    "\n",
    "numpy.arange(15)"
   ]
  },
  {
   "cell_type": "code",
   "execution_count": 4,
   "metadata": {},
   "outputs": [
    {
     "data": {
      "text/plain": [
       "array([ 0,  1,  2,  3,  4,  5,  6,  7,  8,  9, 10, 11, 12, 13, 14])"
      ]
     },
     "execution_count": 4,
     "metadata": {},
     "output_type": "execute_result"
    }
   ],
   "source": [
    "import numpy as np\n",
    "\n",
    "np.arange(15)"
   ]
  },
  {
   "cell_type": "markdown",
   "metadata": {},
   "source": [
    "### 5.1. arange 함수\n",
    "\n",
    "- range 함수의 배열 버전\n",
    "\n",
    "- arange([start],stop,[step],dtype=None)\n",
    "\n",
    "- start : default는 0 \n",
    "\n",
    "  step : default는 1, step이 다른값이 쓰여지면 start도 반드시 값이 주어져야 함.\n",
    "  \n",
    "  dtype : 데이타 type을 의미함.  \n",
    "  \n",
    "  * float도 가능"
   ]
  },
  {
   "cell_type": "markdown",
   "metadata": {},
   "source": [
    "Q1. 0~14의 정수배열을 만들고 type을 확인하시오."
   ]
  },
  {
   "cell_type": "code",
   "execution_count": 5,
   "metadata": {},
   "outputs": [
    {
     "name": "stdout",
     "output_type": "stream",
     "text": [
      "[ 0  1  2  3  4  5  6  7  8  9 10 11 12 13 14] int32\n"
     ]
    }
   ],
   "source": [
    "a=np.arange(15) # 0~(15-1)까지 step =1\n",
    "print(a , a.dtype  )"
   ]
  },
  {
   "cell_type": "code",
   "execution_count": 6,
   "metadata": {},
   "outputs": [
    {
     "data": {
      "text/plain": [
       "numpy.ndarray"
      ]
     },
     "execution_count": 6,
     "metadata": {},
     "output_type": "execute_result"
    }
   ],
   "source": [
    "type(a)"
   ]
  },
  {
   "cell_type": "markdown",
   "metadata": {},
   "source": [
    "Q2. 시작점 2, 끝점 8까지 step은 2씩 증가하는 배열을 만들어라."
   ]
  },
  {
   "cell_type": "code",
   "execution_count": 10,
   "metadata": {},
   "outputs": [
    {
     "data": {
      "text/plain": [
       "array([ 2,  4,  6,  8, 10])"
      ]
     },
     "execution_count": 10,
     "metadata": {},
     "output_type": "execute_result"
    }
   ],
   "source": [
    "a=np.arange(2,10,2) # 시작점 2부터 끝점 10보다 작은 숫자까지\n",
    "a"
   ]
  },
  {
   "cell_type": "markdown",
   "metadata": {},
   "source": [
    "Q3. 시작점 0.1, 끝점 0.9, step은 0.1씩 증가하는 배열을 만들어라."
   ]
  },
  {
   "cell_type": "code",
   "execution_count": 11,
   "metadata": {},
   "outputs": [
    {
     "data": {
      "text/plain": [
       "array([0.1, 0.2, 0.3, 0.4, 0.5, 0.6, 0.7, 0.8, 0.9])"
      ]
     },
     "execution_count": 11,
     "metadata": {},
     "output_type": "execute_result"
    }
   ],
   "source": [
    "a=np.arange(0.1, 1.0, 0.1) # 시작점 0.1, 끝점 1.0보다 작은 숫자까지 , step 0.1씩 증가\n",
    "a"
   ]
  },
  {
   "cell_type": "code",
   "execution_count": 12,
   "metadata": {},
   "outputs": [
    {
     "data": {
      "text/plain": [
       "array([0.1, 0.3, 0.5, 0.7, 0.9])"
      ]
     },
     "execution_count": 12,
     "metadata": {},
     "output_type": "execute_result"
    }
   ],
   "source": [
    "a=np.arange(0.1,1.0,0.2)\n",
    "a"
   ]
  },
  {
   "cell_type": "code",
   "execution_count": 13,
   "metadata": {},
   "outputs": [
    {
     "data": {
      "text/plain": [
       "dtype('float64')"
      ]
     },
     "execution_count": 13,
     "metadata": {},
     "output_type": "execute_result"
    }
   ],
   "source": [
    "a.dtype"
   ]
  },
  {
   "cell_type": "markdown",
   "metadata": {},
   "source": [
    "Q4. 위 Q3의 type을 int형으로 바꿔라."
   ]
  },
  {
   "cell_type": "code",
   "execution_count": 14,
   "metadata": {},
   "outputs": [
    {
     "data": {
      "text/plain": [
       "array([0, 0, 0, 0, 0, 0, 0, 0, 0], dtype=int32)"
      ]
     },
     "execution_count": 14,
     "metadata": {},
     "output_type": "execute_result"
    }
   ],
   "source": [
    "a=np.arange(0.1, 1.0, 0.1,dtype='i')  # 정수형으로 바뀜 dtype='int'\n",
    "a"
   ]
  },
  {
   "cell_type": "code",
   "execution_count": 15,
   "metadata": {},
   "outputs": [
    {
     "data": {
      "text/plain": [
       "array([0, 0, 0, 0, 0, 0, 0, 0, 0])"
      ]
     },
     "execution_count": 15,
     "metadata": {},
     "output_type": "execute_result"
    }
   ],
   "source": [
    "a=np.arange(0.1, 1.0, 0.1)  \n",
    "b=np.int32(a)\n",
    "b"
   ]
  },
  {
   "cell_type": "code",
   "execution_count": 16,
   "metadata": {},
   "outputs": [
    {
     "data": {
      "text/plain": [
       "array([0, 0, 0, 0, 0, 0, 0, 0, 0])"
      ]
     },
     "execution_count": 16,
     "metadata": {},
     "output_type": "execute_result"
    }
   ],
   "source": [
    "b=a.astype('int')\n",
    "b"
   ]
  },
  {
   "cell_type": "code",
   "execution_count": 17,
   "metadata": {},
   "outputs": [
    {
     "ename": "TypeError",
     "evalue": "arange() not supported for inputs with DType <class 'numpy.dtype[str_]'>.",
     "output_type": "error",
     "traceback": [
      "\u001b[1;31m---------------------------------------------------------------------------\u001b[0m",
      "\u001b[1;31mTypeError\u001b[0m                                 Traceback (most recent call last)",
      "Cell \u001b[1;32mIn[17], line 1\u001b[0m\n\u001b[1;32m----> 1\u001b[0m a\u001b[38;5;241m=\u001b[39m\u001b[43mnp\u001b[49m\u001b[38;5;241;43m.\u001b[39;49m\u001b[43marange\u001b[49m\u001b[43m(\u001b[49m\u001b[38;5;241;43m0\u001b[39;49m\u001b[43m,\u001b[49m\u001b[38;5;241;43m2\u001b[39;49m\u001b[43m,\u001b[49m\u001b[43mdtype\u001b[49m\u001b[38;5;241;43m=\u001b[39;49m\u001b[38;5;124;43m'\u001b[39;49m\u001b[38;5;124;43m<U32\u001b[39;49m\u001b[38;5;124;43m'\u001b[39;49m\u001b[43m)\u001b[49m  \u001b[38;5;66;03m#문자형\u001b[39;00m\n\u001b[0;32m      2\u001b[0m a\n",
      "\u001b[1;31mTypeError\u001b[0m: arange() not supported for inputs with DType <class 'numpy.dtype[str_]'>."
     ]
    }
   ],
   "source": [
    "#a=np.arange(0,2,dtype='<U32')  #문자형\n",
    "#a"
   ]
  },
  {
   "cell_type": "markdown",
   "metadata": {},
   "source": [
    "Q5. 0~14의 정수배열을 만들고, 행x열 크기가 3x5인 행열로 만들어라."
   ]
  },
  {
   "cell_type": "code",
   "execution_count": 18,
   "metadata": {},
   "outputs": [
    {
     "data": {
      "text/plain": [
       "array([[ 0,  1,  2,  3,  4],\n",
       "       [ 5,  6,  7,  8,  9],\n",
       "       [10, 11, 12, 13, 14]])"
      ]
     },
     "execution_count": 18,
     "metadata": {},
     "output_type": "execute_result"
    }
   ],
   "source": [
    "a=np.arange(15)\n",
    "b=a.reshape(3,5) #배열의 모양을 변환, reshape(row, column)\n",
    "b"
   ]
  },
  {
   "cell_type": "code",
   "execution_count": 19,
   "metadata": {},
   "outputs": [
    {
     "data": {
      "text/plain": [
       "array([[ 0,  1,  2,  3,  4],\n",
       "       [ 5,  6,  7,  8,  9],\n",
       "       [10, 11, 12, 13, 14]])"
      ]
     },
     "execution_count": 19,
     "metadata": {},
     "output_type": "execute_result"
    }
   ],
   "source": [
    "c=a.reshape(-1,5) # \"-1\"을 사용하면 column=5인 상태에서 row을 알아서 정해줌\n",
    "c"
   ]
  },
  {
   "cell_type": "code",
   "execution_count": 20,
   "metadata": {},
   "outputs": [
    {
     "data": {
      "text/plain": [
       "array([[ 0,  1,  2],\n",
       "       [ 3,  4,  5],\n",
       "       [ 6,  7,  8],\n",
       "       [ 9, 10, 11],\n",
       "       [12, 13, 14]])"
      ]
     },
     "execution_count": 20,
     "metadata": {},
     "output_type": "execute_result"
    }
   ],
   "source": [
    "d=a.reshape(5,-1) # \"-1\"을 사용하면 row=5인 상태에서 column을 알아서 정해줌\n",
    "d"
   ]
  },
  {
   "cell_type": "markdown",
   "metadata": {},
   "source": [
    "### 5.2. ndarray 의 속성\n",
    "\n",
    "- ndim : 행렬의 dimension 수\n",
    "\n",
    "- shape : 행렬의 dimension을 나타내는 튜플형 ex) ndim=2인 경우 (row, column)\n",
    "\n",
    "- size :  원소 수 = shape의 dimension 곱\n",
    "\n",
    "- dtype : 데이타 type \n",
    "\n",
    "        cf) 리스트형은 서로 다른 데이터 타입을 가질 수 있으나, ndarray는 같은 데이터 타입만 가능함. \n",
    "            ndarray에서 string > float > int 순서임."
   ]
  },
  {
   "cell_type": "code",
   "execution_count": 25,
   "metadata": {},
   "outputs": [
    {
     "data": {
      "text/plain": [
       "array([ 0,  1,  2,  3,  4,  5,  6,  7,  8,  9, 10, 11, 12, 13, 14])"
      ]
     },
     "execution_count": 25,
     "metadata": {},
     "output_type": "execute_result"
    }
   ],
   "source": [
    "a"
   ]
  },
  {
   "cell_type": "code",
   "execution_count": 26,
   "metadata": {},
   "outputs": [
    {
     "data": {
      "text/plain": [
       "1"
      ]
     },
     "execution_count": 26,
     "metadata": {},
     "output_type": "execute_result"
    }
   ],
   "source": [
    "a.ndim"
   ]
  },
  {
   "cell_type": "code",
   "execution_count": 27,
   "metadata": {},
   "outputs": [
    {
     "data": {
      "text/plain": [
       "(15,)"
      ]
     },
     "execution_count": 27,
     "metadata": {},
     "output_type": "execute_result"
    }
   ],
   "source": [
    "a.shape"
   ]
  },
  {
   "cell_type": "code",
   "execution_count": 28,
   "metadata": {},
   "outputs": [
    {
     "data": {
      "text/plain": [
       "15"
      ]
     },
     "execution_count": 28,
     "metadata": {},
     "output_type": "execute_result"
    }
   ],
   "source": [
    "a.size"
   ]
  },
  {
   "cell_type": "code",
   "execution_count": 29,
   "metadata": {},
   "outputs": [
    {
     "data": {
      "text/plain": [
       "dtype('int32')"
      ]
     },
     "execution_count": 29,
     "metadata": {},
     "output_type": "execute_result"
    }
   ],
   "source": [
    "a.dtype"
   ]
  },
  {
   "cell_type": "code",
   "execution_count": 30,
   "metadata": {},
   "outputs": [
    {
     "name": "stdout",
     "output_type": "stream",
     "text": [
      "[1, 1.5, 's']\n",
      "<class 'int'> <class 'float'> <class 'str'>\n"
     ]
    }
   ],
   "source": [
    "l=[1,1.5,'s'] # 리스트형은 서로 다른 데이터 타입 가능\n",
    "print(l)\n",
    "print(type(l[0]), type(l[1]), type(l[2]))"
   ]
  },
  {
   "cell_type": "code",
   "execution_count": 32,
   "metadata": {},
   "outputs": [
    {
     "name": "stdout",
     "output_type": "stream",
     "text": [
      "[1.  1.5]\n",
      "<class 'numpy.float64'> <class 'numpy.float64'>\n"
     ]
    }
   ],
   "source": [
    "da=np.array([1,1.5 ]) #ndarray는 같은 데이터 타입만 가능함\n",
    "print(da)\n",
    "print(type(da[0]), type(da[1]) )"
   ]
  },
  {
   "cell_type": "markdown",
   "metadata": {},
   "source": [
    "### 5.3.array 함수\n",
    "\n",
    "- 배열을 생성하는 가장 쉬운 방법\n",
    "\n",
    "- 순차적인 객체를 넘겨 받고, 넘겨 받은 데이터가 들어 있는 새로운 Numpy 배열을 생성함.\n",
    "\n",
    "- 리스트를 담고 있는 리스트는 해당 데이터로부터 형태를 추론하여 n차원 형태로 생성됨.\n",
    " "
   ]
  },
  {
   "cell_type": "markdown",
   "metadata": {},
   "source": [
    "Q6.리스트 형식으로 [6,7.5,8,0,1,1] 를 data1에 입력하고 배열로 변환하라."
   ]
  },
  {
   "cell_type": "code",
   "execution_count": 33,
   "metadata": {},
   "outputs": [
    {
     "data": {
      "text/plain": [
       "array([6. , 7.5, 8. , 0. , 1. , 1. ])"
      ]
     },
     "execution_count": 33,
     "metadata": {},
     "output_type": "execute_result"
    }
   ],
   "source": [
    "data1=[6,7.5,8,0,1,1] # 리스트형식\n",
    "a=np.array(data1) \n",
    "a "
   ]
  },
  {
   "cell_type": "code",
   "execution_count": 34,
   "metadata": {},
   "outputs": [
    {
     "data": {
      "text/plain": [
       "dtype('float64')"
      ]
     },
     "execution_count": 34,
     "metadata": {},
     "output_type": "execute_result"
    }
   ],
   "source": [
    "a.dtype"
   ]
  },
  {
   "cell_type": "code",
   "execution_count": 35,
   "metadata": {},
   "outputs": [
    {
     "data": {
      "text/plain": [
       "array([6. , 7.5, 8. , 0. , 1. , 1. ])"
      ]
     },
     "execution_count": 35,
     "metadata": {},
     "output_type": "execute_result"
    }
   ],
   "source": [
    "np.array([6,7.5,8,0,1,1] ) # 직접 입력"
   ]
  },
  {
   "cell_type": "markdown",
   "metadata": {},
   "source": [
    "Q7.[ [1,2,3,4] , [5,6,7,8]] 리스트 자료형을 배열로 변환하여 2x4 행렬이 됨을 확인하라."
   ]
  },
  {
   "cell_type": "code",
   "execution_count": 37,
   "metadata": {},
   "outputs": [
    {
     "data": {
      "text/plain": [
       "array([[1, 2, 3, 4],\n",
       "       [5, 6, 7, 8]])"
      ]
     },
     "execution_count": 37,
     "metadata": {},
     "output_type": "execute_result"
    }
   ],
   "source": [
    "data2=[ [1,2,3,4] , [5,6,7,8]]\n",
    "a=np.array(data2)\n",
    "a"
   ]
  },
  {
   "cell_type": "code",
   "execution_count": 38,
   "metadata": {},
   "outputs": [
    {
     "data": {
      "text/plain": [
       "2"
      ]
     },
     "execution_count": 38,
     "metadata": {},
     "output_type": "execute_result"
    }
   ],
   "source": [
    "a.ndim"
   ]
  },
  {
   "cell_type": "code",
   "execution_count": 39,
   "metadata": {},
   "outputs": [
    {
     "data": {
      "text/plain": [
       "(2, 4)"
      ]
     },
     "execution_count": 39,
     "metadata": {},
     "output_type": "execute_result"
    }
   ],
   "source": [
    "a.shape"
   ]
  },
  {
   "cell_type": "markdown",
   "metadata": {},
   "source": [
    "Q8. [ [[1,2],[3,4]] , [[5,6],[7,8]]] 리스트 자료형을 배열로 변환하여 2x2x2 행렬이 됨을 확인하라."
   ]
  },
  {
   "cell_type": "code",
   "execution_count": 40,
   "metadata": {},
   "outputs": [
    {
     "data": {
      "text/plain": [
       "array([[[1, 2],\n",
       "        [3, 4]],\n",
       "\n",
       "       [[5, 6],\n",
       "        [7, 8]],\n",
       "\n",
       "       [[5, 6],\n",
       "        [7, 8]]])"
      ]
     },
     "execution_count": 40,
     "metadata": {},
     "output_type": "execute_result"
    }
   ],
   "source": [
    "data2=[ [[1,2],[3,4]] , [[5,6],[7,8]] , [[5,6],[7,8]] ]\n",
    "a=np.array(data2)\n",
    "a"
   ]
  },
  {
   "cell_type": "code",
   "execution_count": 41,
   "metadata": {},
   "outputs": [
    {
     "data": {
      "text/plain": [
       "3"
      ]
     },
     "execution_count": 41,
     "metadata": {},
     "output_type": "execute_result"
    }
   ],
   "source": [
    "a.ndim"
   ]
  },
  {
   "cell_type": "code",
   "execution_count": 42,
   "metadata": {},
   "outputs": [
    {
     "data": {
      "text/plain": [
       "(3, 2, 2)"
      ]
     },
     "execution_count": 42,
     "metadata": {},
     "output_type": "execute_result"
    }
   ],
   "source": [
    "a.shape"
   ]
  },
  {
   "cell_type": "markdown",
   "metadata": {},
   "source": [
    "Q9.위 Q6,Q7,Q8의 자료를 튜플형식으로 입력하여 배열로 전환하라. "
   ]
  },
  {
   "cell_type": "code",
   "execution_count": 36,
   "metadata": {},
   "outputs": [
    {
     "data": {
      "text/plain": [
       "array([6. , 7.5, 8. , 0. , 1. , 1. ])"
      ]
     },
     "execution_count": 36,
     "metadata": {},
     "output_type": "execute_result"
    }
   ],
   "source": [
    "data1=(6,7.5,8,0,1,1) # 튜플형식\n",
    "a=np.array(data1) \n",
    "a"
   ]
  },
  {
   "cell_type": "code",
   "execution_count": 43,
   "metadata": {},
   "outputs": [
    {
     "data": {
      "text/plain": [
       "array([[1, 2, 3, 4],\n",
       "       [5, 6, 7, 8]])"
      ]
     },
     "execution_count": 43,
     "metadata": {},
     "output_type": "execute_result"
    }
   ],
   "source": [
    "data2=( (1,2,3,4) , (5,6,7,8)) \n",
    "a=np.array(data2)\n",
    "a"
   ]
  },
  {
   "cell_type": "code",
   "execution_count": 44,
   "metadata": {},
   "outputs": [
    {
     "data": {
      "text/plain": [
       "array([[[1, 2],\n",
       "        [3, 4]],\n",
       "\n",
       "       [[5, 6],\n",
       "        [7, 8]]])"
      ]
     },
     "execution_count": 44,
     "metadata": {},
     "output_type": "execute_result"
    }
   ],
   "source": [
    "data2=( ((1,2),(3,4)) , ((5,6),(7,8)))\n",
    "a=np.array(data2)\n",
    "a"
   ]
  },
  {
   "cell_type": "code",
   "execution_count": 45,
   "metadata": {},
   "outputs": [
    {
     "ename": "TypeError",
     "evalue": "array() takes from 1 to 2 positional arguments but 6 were given",
     "output_type": "error",
     "traceback": [
      "\u001b[1;31m---------------------------------------------------------------------------\u001b[0m",
      "\u001b[1;31mTypeError\u001b[0m                                 Traceback (most recent call last)",
      "Cell \u001b[1;32mIn[45], line 1\u001b[0m\n\u001b[1;32m----> 1\u001b[0m \u001b[43mnp\u001b[49m\u001b[38;5;241;43m.\u001b[39;49m\u001b[43marray\u001b[49m\u001b[43m(\u001b[49m\u001b[38;5;241;43m6\u001b[39;49m\u001b[43m,\u001b[49m\u001b[38;5;241;43m7.5\u001b[39;49m\u001b[43m,\u001b[49m\u001b[38;5;241;43m8\u001b[39;49m\u001b[43m,\u001b[49m\u001b[38;5;241;43m0\u001b[39;49m\u001b[43m,\u001b[49m\u001b[38;5;241;43m1\u001b[39;49m\u001b[43m,\u001b[49m\u001b[38;5;241;43m1\u001b[39;49m\u001b[43m)\u001b[49m \u001b[38;5;66;03m#Error\u001b[39;00m\n",
      "\u001b[1;31mTypeError\u001b[0m: array() takes from 1 to 2 positional arguments but 6 were given"
     ]
    }
   ],
   "source": [
    "np.array(6,7.5,8,0,1,1) #Error"
   ]
  },
  {
   "cell_type": "code",
   "execution_count": 46,
   "metadata": {},
   "outputs": [
    {
     "data": {
      "text/plain": [
       "array([6. , 7.5, 8. , 0. , 1. , 1. ])"
      ]
     },
     "execution_count": 46,
     "metadata": {},
     "output_type": "execute_result"
    }
   ],
   "source": [
    "np.array((6,7.5,8,0,1,1))"
   ]
  },
  {
   "cell_type": "markdown",
   "metadata": {},
   "source": [
    "### 5.4.행렬의 정렬\n",
    "\n",
    "- np.sort(ndarray) : 원본 행렬은 그대로 유지하고, 정렬된 행렬을 반환 \n",
    "             np.sort(행렬, axis=0|1) axis=0은 row 방향 정렬(column fix), axis=1은 column 방향 정렬(row fix)\n",
    "- ndarray.sort() : 원본 행렬 자체를 정렬한 형태로 변환\n",
    "- np.argsort() : 정렬 행렬의 원본 행렬 인덱스를 ndarray 형으로 반환"
   ]
  },
  {
   "cell_type": "markdown",
   "metadata": {},
   "source": [
    "Q10. [3,1,9,5]를 1차원 array로 만들고, 오름차순, 내림차순으로 각각 정렬해 보아라."
   ]
  },
  {
   "cell_type": "code",
   "execution_count": 47,
   "metadata": {},
   "outputs": [
    {
     "name": "stdout",
     "output_type": "stream",
     "text": [
      "[1 3 5 9]\n",
      "[9 5 3 1]\n",
      "[3 1 9 5]\n"
     ]
    }
   ],
   "source": [
    "org_a=np.array([3,1,9,5])\n",
    "print(np.sort(org_a )) # 오름차순\n",
    "print(np.sort(org_a)[::-1]) #내림차순\n",
    "print(org_a)"
   ]
  },
  {
   "cell_type": "code",
   "execution_count": 48,
   "metadata": {},
   "outputs": [
    {
     "name": "stdout",
     "output_type": "stream",
     "text": [
      "None\n",
      "[1 3 5 9]\n",
      "None\n",
      "[9 5 3 1]\n"
     ]
    }
   ],
   "source": [
    "org_b=org_a.copy()\n",
    "print(org_b.sort())# 오름차순 ,반환되는 value는 None\n",
    "print(org_b)       # org_b 자체가 변경됨\n",
    "print(org_b[::-1].sort()) # 내림차순 \n",
    "print(org_b) "
   ]
  },
  {
   "cell_type": "code",
   "execution_count": 50,
   "metadata": {},
   "outputs": [
    {
     "data": {
      "text/plain": [
       "[9, 5, 3, 1]"
      ]
     },
     "execution_count": 50,
     "metadata": {},
     "output_type": "execute_result"
    }
   ],
   "source": [
    "sorted(org_a,reverse=True)"
   ]
  },
  {
   "cell_type": "code",
   "execution_count": 51,
   "metadata": {},
   "outputs": [
    {
     "name": "stdout",
     "output_type": "stream",
     "text": [
      "[6, 0, 4, 1]\n",
      "[1, 4, 0, 6]\n",
      "[6, 4, 1, 0]\n",
      "[6, 4, 1, 0]\n"
     ]
    }
   ],
   "source": [
    "a_list=[1,4,0,6]\n",
    "print(a_list[::-1])\n",
    "print(a_list)\n",
    "print(sorted(a_list,reverse=True)) #sorted 내림차순\n",
    "print(sorted(a_list)[::-1]) #sorted 내림차순(오름차순 한 후 reverse)"
   ]
  },
  {
   "cell_type": "markdown",
   "metadata": {},
   "source": [
    "Q11. 위 Q10의 정렬을 원본 array의 index를 이용하여 표현하라."
   ]
  },
  {
   "cell_type": "code",
   "execution_count": 52,
   "metadata": {},
   "outputs": [
    {
     "data": {
      "text/plain": [
       "array([3, 1, 9, 5])"
      ]
     },
     "execution_count": 52,
     "metadata": {},
     "output_type": "execute_result"
    }
   ],
   "source": [
    "org_a"
   ]
  },
  {
   "cell_type": "code",
   "execution_count": 53,
   "metadata": {},
   "outputs": [
    {
     "name": "stdout",
     "output_type": "stream",
     "text": [
      "[1 0 3 2]\n"
     ]
    }
   ],
   "source": [
    "index_org=np.argsort(org_a) #[3,1,9,5] 의 오름차순 정렬을 원본 index로 표현\n",
    "print(index_org)"
   ]
  },
  {
   "cell_type": "code",
   "execution_count": 56,
   "metadata": {},
   "outputs": [
    {
     "name": "stdout",
     "output_type": "stream",
     "text": [
      "[2 3 0 1]\n"
     ]
    }
   ],
   "source": [
    "index_org=np.argsort(org_a)[::-1] #[3,1,9,5] 의 내림차순 정렬을 원본 index로 표현\n",
    "print(index_org)"
   ]
  },
  {
   "cell_type": "code",
   "execution_count": 55,
   "metadata": {},
   "outputs": [
    {
     "data": {
      "text/plain": [
       "array([3, 1, 9, 5])"
      ]
     },
     "execution_count": 55,
     "metadata": {},
     "output_type": "execute_result"
    }
   ],
   "source": [
    "org_a"
   ]
  },
  {
   "cell_type": "code",
   "execution_count": 57,
   "metadata": {},
   "outputs": [
    {
     "data": {
      "text/plain": [
       "array([9, 5, 3, 1])"
      ]
     },
     "execution_count": 57,
     "metadata": {},
     "output_type": "execute_result"
    }
   ],
   "source": [
    "org_a[index_org]"
   ]
  },
  {
   "cell_type": "markdown",
   "metadata": {},
   "source": [
    "Q12. 2차원 array의 예제로 정렬해 보고, index로 표현해 보아라."
   ]
  },
  {
   "cell_type": "code",
   "execution_count": 58,
   "metadata": {},
   "outputs": [
    {
     "data": {
      "text/plain": [
       "array([[ 8, 12],\n",
       "       [10,  9],\n",
       "       [ 1,  2]])"
      ]
     },
     "execution_count": 58,
     "metadata": {},
     "output_type": "execute_result"
    }
   ],
   "source": [
    "org_a=np.array([8,12,10,9,1,2]).reshape(3,-1)\n",
    "org_a"
   ]
  },
  {
   "cell_type": "code",
   "execution_count": 59,
   "metadata": {},
   "outputs": [
    {
     "name": "stdout",
     "output_type": "stream",
     "text": [
      "[[ 1  2]\n",
      " [ 8  9]\n",
      " [10 12]]\n",
      "[[ 8 12]\n",
      " [ 9 10]\n",
      " [ 1  2]]\n"
     ]
    }
   ],
   "source": [
    "print(np.sort(org_a,axis=0)) #row 방향\n",
    "print(np.sort(org_a,axis=1)) #column 방향"
   ]
  },
  {
   "cell_type": "code",
   "execution_count": 60,
   "metadata": {},
   "outputs": [
    {
     "name": "stdout",
     "output_type": "stream",
     "text": [
      "[[ 8 12]\n",
      " [10  9]\n",
      " [ 1  2]]\n",
      "None\n",
      "[[ 1  2]\n",
      " [ 8  9]\n",
      " [10 12]]\n"
     ]
    }
   ],
   "source": [
    "org_a=np.array([8,12,10,9,1,2]).reshape(3,-1)\n",
    "print(org_a)\n",
    "print(org_a.sort(axis=0))\n",
    "print(org_a)"
   ]
  },
  {
   "cell_type": "code",
   "execution_count": 61,
   "metadata": {},
   "outputs": [
    {
     "name": "stdout",
     "output_type": "stream",
     "text": [
      "[[ 8 12]\n",
      " [10  9]\n",
      " [ 1  2]]\n",
      "None\n",
      "[[ 8 12]\n",
      " [ 9 10]\n",
      " [ 1  2]]\n"
     ]
    }
   ],
   "source": [
    "org_a=np.array([8,12,10,9,1,2]).reshape(3,-1)\n",
    "print(org_a)\n",
    "print(org_a.sort(axis=1))\n",
    "print(org_a)"
   ]
  },
  {
   "cell_type": "code",
   "execution_count": null,
   "metadata": {},
   "outputs": [],
   "source": []
  },
  {
   "cell_type": "markdown",
   "metadata": {},
   "source": [
    "### 5.5.zeros 함수\n",
    "\n",
    "- 모든 원소가 0인 행렬\n",
    "\n",
    "- zeros(shape,dtype)  : dtype 의 default는 float"
   ]
  },
  {
   "cell_type": "markdown",
   "metadata": {},
   "source": [
    "Q13. 5개의 원소값이 0인 배열을 만들어라."
   ]
  },
  {
   "cell_type": "code",
   "execution_count": null,
   "metadata": {},
   "outputs": [],
   "source": [
    "np.zeros(5)"
   ]
  },
  {
   "cell_type": "markdown",
   "metadata": {},
   "source": [
    "Q14. 2x4의 행렬로 모든 원소가 0인 행렬을 만들어라."
   ]
  },
  {
   "cell_type": "code",
   "execution_count": null,
   "metadata": {},
   "outputs": [],
   "source": [
    "a=np.zeros((2,4))  #shape (2,4)인 행렬\n",
    "a"
   ]
  },
  {
   "cell_type": "markdown",
   "metadata": {},
   "source": [
    "Q15. 위 Q14의 문제의 type을 확인하고, int형 zero 행렬을 만들어라. "
   ]
  },
  {
   "cell_type": "code",
   "execution_count": null,
   "metadata": {},
   "outputs": [],
   "source": [
    "print(a.dtype)\n",
    "b=np.zeros((2,4),dtype=int) #int32 형\n",
    "print(b)\n",
    "print(b.dtype)"
   ]
  },
  {
   "cell_type": "markdown",
   "metadata": {},
   "source": [
    "### 5.6.ones 함수\n",
    "\n",
    "- 모든 원소가 1인 행렬\n",
    "\n",
    "- ones(shape,dtype) : dtype 의 default는 float"
   ]
  },
  {
   "cell_type": "code",
   "execution_count": null,
   "metadata": {},
   "outputs": [],
   "source": [
    "np.ones(5)"
   ]
  },
  {
   "cell_type": "code",
   "execution_count": null,
   "metadata": {},
   "outputs": [],
   "source": [
    "np.ones((2,4))"
   ]
  },
  {
   "cell_type": "code",
   "execution_count": null,
   "metadata": {},
   "outputs": [],
   "source": [
    "np.ones((2,4),dtype=int)"
   ]
  },
  {
   "cell_type": "markdown",
   "metadata": {},
   "source": [
    "- Q) 다음과 같은 array가 만들어 지는 프로그램을 작성하라. (arange을 사용)\n",
    "\n",
    " $$\\begin{array}{ccc}\n",
    "[[2 & 3 & 4]\\\\\n",
    "[5 & 6 & 7]\\\\\n",
    "[8 &9 & 10]]\n",
    "\\end{array}$$"
   ]
  },
  {
   "cell_type": "markdown",
   "metadata": {},
   "source": [
    "- Q) 다음과 같은 array가 만들어지는 프로그램을 작성하라. (arange을 사용)\n",
    " \n",
    " \n",
    " $$\\begin{array}{ccccc}\n",
    "[[0 & 2 & 4 & 6 & 8]\\\\\n",
    "[10 & 12& 14&16&18]\\\\\n",
    "[20 &22&24&26&28]]\n",
    "\\end{array}$$"
   ]
  },
  {
   "cell_type": "markdown",
   "metadata": {},
   "source": [
    "- Q) 다음과 같은 array가 만들어지는 프로그램을 작성하라. \n",
    " \n",
    " \n",
    " $$\\begin{array}{ccccc}\n",
    "[[2 & 2 & 2 & 2 & 2]\\\\\n",
    "[2 & 2& 2&2&2]\\\\\n",
    "[2 &2&2&2&2]]\n",
    "\\end{array}$$"
   ]
  },
  {
   "cell_type": "markdown",
   "metadata": {},
   "source": [
    "- Q) 대각선외에는 0값, 대각선은 1또는 특정 수로 이루어진 array를 작성하려 한다. 힌트를 이용하여 다음과 같은 2개의 array를 만들기 위한 프로그램을 작성하라. \n",
    " \n",
    "$$\\begin{array}{ccccc}\n",
    "[[1 & 0 & 0 ]\\\\\n",
    "[0 & 1& 0]\\\\\n",
    "[0 & 0& 1]]\n",
    "\\end{array}$$\n",
    "\n",
    "\n",
    "$$\\begin{array}{ccccc}\n",
    "[[4 & 0 & 0 ]\\\\\n",
    "[0 & 5& 0]\\\\\n",
    "[0 & 0& 6]]\n",
    "\\end{array}$$\n",
    "\n",
    "   힌트) eye(n) : nxn array의 대각선값은 1, 이외는 0\n",
    "   \n",
    "         diag(array) : array의 값을 대각선, 이외는 0\n",
    "         "
   ]
  },
  {
   "cell_type": "markdown",
   "metadata": {},
   "source": [
    "- Q) 학생별 시험성적을 2개의 ndarray를 이용하여 다음과 같이 입력하고, 시험성적순으로 학생이름을 출력해 보아라.\n",
    "\n",
    "     name_array=np.array(['John','Mike','Sarah','Kate','Samuel'])\n",
    "     \n",
    "     score_array=np.array([78,95,84,98,88])"
   ]
  },
  {
   "cell_type": "markdown",
   "metadata": {},
   "source": [
    "- Q) 1부터 10까지 숫자로 이루어진 배열를 만든 뒤, 3,4,5,6,7,8의 숫자에 대해서는 마이너스(-)을 붙여 다음과 같은 배열을 만들어라. \n",
    "\n",
    "[ 1,  2, -3, -4, -5, -6, -7, -8,  9, 10]\n",
    "\n",
    "   단, index를 사용하지 말고 3보다 크거나 같고, 8보다 작거나 같다의 부등호를 사용하라."
   ]
  }
 ],
 "metadata": {
  "kernelspec": {
   "display_name": "Python 3 (ipykernel)",
   "language": "python",
   "name": "python3"
  },
  "language_info": {
   "codemirror_mode": {
    "name": "ipython",
    "version": 3
   },
   "file_extension": ".py",
   "mimetype": "text/x-python",
   "name": "python",
   "nbconvert_exporter": "python",
   "pygments_lexer": "ipython3",
   "version": "3.11.2"
  }
 },
 "nbformat": 4,
 "nbformat_minor": 2
}
