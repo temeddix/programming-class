{
 "cells": [
  {
   "attachments": {},
   "cell_type": "markdown",
   "metadata": {},
   "source": [
    "## 4. 함수 \n",
    "\n",
    "- 들어온 입력값을 받아 어떤 처리를 하여 적절한 결과값을 돌려줌\n",
    "\n",
    "- 일반적인 함수의 구조\n",
    "\n",
    "  def 함수이름(매개변수) : \n",
    "        수행할 문장\n",
    "        return 결과값\n",
    "\n",
    "\n",
    "- Q1. 2개의 입력값을 받아서 서로 더한 결과값을 돌려주는 add 라는 함수 만들어라.\n",
    "  "
   ]
  },
  {
   "cell_type": "code",
   "execution_count": 30,
   "metadata": {},
   "outputs": [],
   "source": [
    "def add(a,b) : \n",
    "    result = a+b\n",
    "    return result"
   ]
  },
  {
   "cell_type": "code",
   "execution_count": 31,
   "metadata": {},
   "outputs": [
    {
     "data": {
      "text/plain": [
       "7"
      ]
     },
     "execution_count": 31,
     "metadata": {},
     "output_type": "execute_result"
    }
   ],
   "source": [
    "add(a=3,b=4) # 매개변수에 a=3, b=4이 입력된것"
   ]
  },
  {
   "cell_type": "code",
   "execution_count": 32,
   "metadata": {},
   "outputs": [
    {
     "data": {
      "text/plain": [
       "7"
      ]
     },
     "execution_count": 32,
     "metadata": {},
     "output_type": "execute_result"
    }
   ],
   "source": [
    "a=add(3,4) \n",
    "a"
   ]
  },
  {
   "cell_type": "code",
   "execution_count": 33,
   "metadata": {},
   "outputs": [
    {
     "ename": "NameError",
     "evalue": "name 'result' is not defined",
     "output_type": "error",
     "traceback": [
      "\u001b[0;31m---------------------------------------------------------------------------\u001b[0m",
      "\u001b[0;31mNameError\u001b[0m                                 Traceback (most recent call last)",
      "Cell \u001b[0;32mIn[33], line 1\u001b[0m\n\u001b[0;32m----> 1\u001b[0m result \u001b[39m# result 변수는 함수 내부에서 정의된 것\u001b[39;00m\n",
      "\u001b[0;31mNameError\u001b[0m: name 'result' is not defined"
     ]
    }
   ],
   "source": [
    "result # result 변수는 함수 내부에서 정의된 것"
   ]
  },
  {
   "cell_type": "code",
   "execution_count": 34,
   "metadata": {},
   "outputs": [
    {
     "data": {
      "text/plain": [
       "7"
      ]
     },
     "execution_count": 34,
     "metadata": {},
     "output_type": "execute_result"
    }
   ],
   "source": [
    "add( b=4, a=3 ) #매개변수를 지정하여 함수 호출 가능 , 이럴경우 매개변수 순서 바꿈이 가능"
   ]
  },
  {
   "cell_type": "code",
   "execution_count": 35,
   "metadata": {},
   "outputs": [],
   "source": [
    "def minus(a,b) : \n",
    "    result = a-b\n",
    "    return result"
   ]
  },
  {
   "cell_type": "code",
   "execution_count": 36,
   "metadata": {},
   "outputs": [
    {
     "data": {
      "text/plain": [
       "1"
      ]
     },
     "execution_count": 36,
     "metadata": {},
     "output_type": "execute_result"
    }
   ],
   "source": [
    "minus(4,3)#4-3"
   ]
  },
  {
   "cell_type": "code",
   "execution_count": 37,
   "metadata": {},
   "outputs": [
    {
     "data": {
      "text/plain": [
       "-1"
      ]
     },
     "execution_count": 37,
     "metadata": {},
     "output_type": "execute_result"
    }
   ],
   "source": [
    "minus(b=4,a=3) #3-4"
   ]
  },
  {
   "attachments": {},
   "cell_type": "markdown",
   "metadata": {},
   "source": [
    "- Q2. 입력값이 없이 say라는 함수를 호출하면 결과값으로 Hi라는 문자가 나오는 함수를 만들어라."
   ]
  },
  {
   "cell_type": "code",
   "execution_count": 38,
   "metadata": {},
   "outputs": [],
   "source": [
    "def say() : \n",
    "    return 'Hi'\n",
    "    "
   ]
  },
  {
   "cell_type": "code",
   "execution_count": 39,
   "metadata": {},
   "outputs": [
    {
     "data": {
      "text/plain": [
       "'Hi'"
      ]
     },
     "execution_count": 39,
     "metadata": {},
     "output_type": "execute_result"
    }
   ],
   "source": [
    "say()"
   ]
  },
  {
   "attachments": {},
   "cell_type": "markdown",
   "metadata": {},
   "source": [
    "- Q3. 2개의 입력값을 받아서 서로 더한 값을 print될 수 있는 함수를 만들어라.(결과값은 존재하지 않는다.)"
   ]
  },
  {
   "cell_type": "code",
   "execution_count": 40,
   "metadata": {},
   "outputs": [],
   "source": [
    "def add(a,b) : \n",
    "    print(\"%d, %d의 합은 %d 입니다.\" %(a,b,a+b))\n",
    "    "
   ]
  },
  {
   "cell_type": "code",
   "execution_count": 41,
   "metadata": {},
   "outputs": [
    {
     "name": "stdout",
     "output_type": "stream",
     "text": [
      "4, 3의 합은 7 입니다.\n"
     ]
    }
   ],
   "source": [
    "add(4,3)"
   ]
  },
  {
   "cell_type": "code",
   "execution_count": 42,
   "metadata": {},
   "outputs": [
    {
     "name": "stdout",
     "output_type": "stream",
     "text": [
      "3, 4의 합은 7 입니다.\n",
      "None\n"
     ]
    }
   ],
   "source": [
    "a=add(3,4)\n",
    "print(a) # return 받은 결과값이 없기에 print를 하면  None이 나옴"
   ]
  },
  {
   "cell_type": "code",
   "execution_count": 43,
   "metadata": {},
   "outputs": [
    {
     "data": {
      "text/plain": [
       "NoneType"
      ]
     },
     "execution_count": 43,
     "metadata": {},
     "output_type": "execute_result"
    }
   ],
   "source": [
    "type(a)"
   ]
  },
  {
   "attachments": {},
   "cell_type": "markdown",
   "metadata": {},
   "source": [
    "- Q4. 2번의 문제에서 결과값 없이 Hi라를 프린트 하는 함수를 만들어라. "
   ]
  },
  {
   "cell_type": "code",
   "execution_count": 52,
   "metadata": {},
   "outputs": [],
   "source": [
    "def say() : \n",
    "    print('Hi')\n",
    "    return 'Hi'"
   ]
  },
  {
   "cell_type": "code",
   "execution_count": 53,
   "metadata": {},
   "outputs": [
    {
     "name": "stdout",
     "output_type": "stream",
     "text": [
      "Hi\n"
     ]
    },
    {
     "data": {
      "text/plain": [
       "'Hi'"
      ]
     },
     "execution_count": 53,
     "metadata": {},
     "output_type": "execute_result"
    }
   ],
   "source": [
    "say()"
   ]
  },
  {
   "cell_type": "code",
   "execution_count": 54,
   "metadata": {},
   "outputs": [
    {
     "name": "stdout",
     "output_type": "stream",
     "text": [
      "Hi\n",
      "Hi\n"
     ]
    }
   ],
   "source": [
    "a=say()\n",
    "print(a)"
   ]
  },
  {
   "attachments": {},
   "cell_type": "markdown",
   "metadata": {},
   "source": [
    "- 입력값의 개수가 함수를 호출할 때마다 바뀔 때 \n",
    "\n",
    "   def 함수이름 (*매개변수 ) : \n",
    "         수행할 문장\n",
    "         \n",
    "\n",
    "- Q5. 여러개의 입력값을 모두 더하는 함수를 만들어라. \n"
   ]
  },
  {
   "cell_type": "code",
   "execution_count": 55,
   "metadata": {},
   "outputs": [],
   "source": [
    "def add_many (*args) : \n",
    "    total=0 \n",
    "    for i in args : \n",
    "        total+=i \n",
    "    return total"
   ]
  },
  {
   "cell_type": "code",
   "execution_count": 56,
   "metadata": {},
   "outputs": [
    {
     "data": {
      "text/plain": [
       "3"
      ]
     },
     "execution_count": 56,
     "metadata": {},
     "output_type": "execute_result"
    }
   ],
   "source": [
    "add_many(1,2)"
   ]
  },
  {
   "cell_type": "code",
   "execution_count": 57,
   "metadata": {},
   "outputs": [
    {
     "data": {
      "text/plain": [
       "15"
      ]
     },
     "execution_count": 57,
     "metadata": {},
     "output_type": "execute_result"
    }
   ],
   "source": [
    "add_many(1,2,3,4,5)"
   ]
  },
  {
   "cell_type": "code",
   "execution_count": 58,
   "metadata": {},
   "outputs": [
    {
     "data": {
      "text/plain": [
       "55"
      ]
     },
     "execution_count": 58,
     "metadata": {},
     "output_type": "execute_result"
    }
   ],
   "source": [
    "add_many(1,2,3,4,5,6,7,8,9,10)"
   ]
  },
  {
   "cell_type": "code",
   "execution_count": 59,
   "metadata": {},
   "outputs": [
    {
     "ename": "TypeError",
     "evalue": "unsupported operand type(s) for +=: 'int' and 'list'",
     "output_type": "error",
     "traceback": [
      "\u001b[0;31m---------------------------------------------------------------------------\u001b[0m",
      "\u001b[0;31mTypeError\u001b[0m                                 Traceback (most recent call last)",
      "Cell \u001b[0;32mIn[59], line 1\u001b[0m\n\u001b[0;32m----> 1\u001b[0m add_many([\u001b[39m1\u001b[39;49m,\u001b[39m2\u001b[39;49m,\u001b[39m3\u001b[39;49m]) \u001b[39m#error\u001b[39;00m\n",
      "Cell \u001b[0;32mIn[55], line 4\u001b[0m, in \u001b[0;36madd_many\u001b[0;34m(*args)\u001b[0m\n\u001b[1;32m      2\u001b[0m total\u001b[39m=\u001b[39m\u001b[39m0\u001b[39m \n\u001b[1;32m      3\u001b[0m \u001b[39mfor\u001b[39;00m i \u001b[39min\u001b[39;00m args : \n\u001b[0;32m----> 4\u001b[0m     total\u001b[39m+\u001b[39;49m\u001b[39m=\u001b[39;49mi \n\u001b[1;32m      5\u001b[0m \u001b[39mreturn\u001b[39;00m total\n",
      "\u001b[0;31mTypeError\u001b[0m: unsupported operand type(s) for +=: 'int' and 'list'"
     ]
    }
   ],
   "source": [
    "add_many([1,2,3]) #error"
   ]
  },
  {
   "attachments": {},
   "cell_type": "markdown",
   "metadata": {},
   "source": [
    "- Q6. 5번 문제에서 자료형을 입력하게 할려면, 매개변수 앞에 * 표시를 제외함."
   ]
  },
  {
   "cell_type": "code",
   "execution_count": 60,
   "metadata": {},
   "outputs": [],
   "source": [
    "def add_many (args) : \n",
    "    total =0 \n",
    "    for i in args : \n",
    "        total+=i \n",
    "    return total"
   ]
  },
  {
   "cell_type": "code",
   "execution_count": 61,
   "metadata": {},
   "outputs": [
    {
     "data": {
      "text/plain": [
       "6"
      ]
     },
     "execution_count": 61,
     "metadata": {},
     "output_type": "execute_result"
    }
   ],
   "source": [
    "add_many((1,2,3))"
   ]
  },
  {
   "cell_type": "code",
   "execution_count": 62,
   "metadata": {},
   "outputs": [
    {
     "data": {
      "text/plain": [
       "55"
      ]
     },
     "execution_count": 62,
     "metadata": {},
     "output_type": "execute_result"
    }
   ],
   "source": [
    "add_many(range(1,11))"
   ]
  },
  {
   "attachments": {},
   "cell_type": "markdown",
   "metadata": {},
   "source": [
    "- Q7. +, x 를 선택하는 변수와 입력값의 개수가 정해지지 않는 2개의 입력변수를 받아 (+,x) 계산하는 함수를 만들어라."
   ]
  },
  {
   "cell_type": "code",
   "execution_count": 63,
   "metadata": {},
   "outputs": [],
   "source": [
    "def add_mul(choice, *args): \n",
    "    if choice == 'add' : \n",
    "        result=0 \n",
    "        for i in args : \n",
    "            result=result+i\n",
    "    elif choice =='mul' :\n",
    "        result=1\n",
    "        for i in args : \n",
    "            result =result*i\n",
    "    return result"
   ]
  },
  {
   "cell_type": "code",
   "execution_count": 64,
   "metadata": {},
   "outputs": [
    {
     "data": {
      "text/plain": [
       "15"
      ]
     },
     "execution_count": 64,
     "metadata": {},
     "output_type": "execute_result"
    }
   ],
   "source": [
    "add_mul('add', 1,2,3,4,5)"
   ]
  },
  {
   "cell_type": "code",
   "execution_count": 65,
   "metadata": {},
   "outputs": [
    {
     "ename": "UnboundLocalError",
     "evalue": "cannot access local variable 'result' where it is not associated with a value",
     "output_type": "error",
     "traceback": [
      "\u001b[0;31m---------------------------------------------------------------------------\u001b[0m",
      "\u001b[0;31mUnboundLocalError\u001b[0m                         Traceback (most recent call last)",
      "Cell \u001b[0;32mIn[65], line 1\u001b[0m\n\u001b[0;32m----> 1\u001b[0m add_mul(\u001b[39m'\u001b[39;49m\u001b[39mdiv\u001b[39;49m\u001b[39m'\u001b[39;49m , \u001b[39m5\u001b[39;49m,\u001b[39m3\u001b[39;49m)\n",
      "Cell \u001b[0;32mIn[63], line 10\u001b[0m, in \u001b[0;36madd_mul\u001b[0;34m(choice, *args)\u001b[0m\n\u001b[1;32m      8\u001b[0m     \u001b[39mfor\u001b[39;00m i \u001b[39min\u001b[39;00m args : \n\u001b[1;32m      9\u001b[0m         result \u001b[39m=\u001b[39mresult\u001b[39m*\u001b[39mi\n\u001b[0;32m---> 10\u001b[0m \u001b[39mreturn\u001b[39;00m result\n",
      "\u001b[0;31mUnboundLocalError\u001b[0m: cannot access local variable 'result' where it is not associated with a value"
     ]
    }
   ],
   "source": [
    "add_mul('div' , 5,3)"
   ]
  },
  {
   "cell_type": "code",
   "execution_count": 77,
   "metadata": {},
   "outputs": [],
   "source": [
    "def add_mul(choice, *args): \n",
    "    if choice == 'add' : \n",
    "        result=0 \n",
    "        for i in args : \n",
    "            result=result+i\n",
    "    elif choice =='mul' :\n",
    "        result=1\n",
    "        for i in args : \n",
    "            result =result*i\n",
    "    else : \n",
    "        return '이 함수는 +,X 만 할 수 있습니다.' # add와 mul 아닌 경우 여기서 바로 함수를 빠져나감\n",
    "    return result"
   ]
  },
  {
   "cell_type": "code",
   "execution_count": 78,
   "metadata": {},
   "outputs": [
    {
     "data": {
      "text/plain": [
       "'이 함수는 +,X 만 할 수 있습니다.'"
      ]
     },
     "execution_count": 78,
     "metadata": {},
     "output_type": "execute_result"
    }
   ],
   "source": [
    "add_mul('div' , 5,3)"
   ]
  },
  {
   "attachments": {},
   "cell_type": "markdown",
   "metadata": {},
   "source": [
    "- Q8. 2개의 입력변수를 받아 결과값은 (+,X) 한 결과를 return하는 함수를 만들어라."
   ]
  },
  {
   "cell_type": "code",
   "execution_count": 79,
   "metadata": {},
   "outputs": [],
   "source": [
    "def add_and_mul(a,b) :\n",
    "    add=a+b\n",
    "    mul=a*b\n",
    "    return (add, mul)   #또는 return a+b, a*b\n",
    "    #return a+b, a*b"
   ]
  },
  {
   "cell_type": "code",
   "execution_count": 80,
   "metadata": {},
   "outputs": [
    {
     "data": {
      "text/plain": [
       "(8, 15)"
      ]
     },
     "execution_count": 80,
     "metadata": {},
     "output_type": "execute_result"
    }
   ],
   "source": [
    "add_and_mul(3,5)  #튜플형식의 결과값을 갖게됨"
   ]
  },
  {
   "cell_type": "code",
   "execution_count": 81,
   "metadata": {},
   "outputs": [],
   "source": [
    "def add_and_mul(a,b) :  \n",
    "    add=a+b\n",
    "    mul=a*b\n",
    "    result=[add,mul]\n",
    "    return [add,mul]  # 리스트형식의 결과값"
   ]
  },
  {
   "cell_type": "code",
   "execution_count": 82,
   "metadata": {},
   "outputs": [
    {
     "data": {
      "text/plain": [
       "[8, 15]"
      ]
     },
     "execution_count": 82,
     "metadata": {},
     "output_type": "execute_result"
    }
   ],
   "source": [
    "add_and_mul(3,5)"
   ]
  },
  {
   "cell_type": "code",
   "execution_count": 83,
   "metadata": {},
   "outputs": [],
   "source": [
    "def add_and_mul(a,b) : \n",
    "    add=a+b\n",
    "    mul=a*b\n",
    "    return add   # 여기서 함수를 나가게 됨. 처음 만나는 return에서 함수를 끝냄.\n",
    "    return mul "
   ]
  },
  {
   "cell_type": "code",
   "execution_count": 84,
   "metadata": {},
   "outputs": [
    {
     "data": {
      "text/plain": [
       "8"
      ]
     },
     "execution_count": 84,
     "metadata": {},
     "output_type": "execute_result"
    }
   ],
   "source": [
    "add_and_mul(3,5)"
   ]
  },
  {
   "attachments": {},
   "cell_type": "markdown",
   "metadata": {},
   "source": [
    "- 매개변수에 초기값 미리 설정하기\n",
    "\n",
    "  초기값이 미리 설정되는 매개변수는 그렇지 않는 변수들 뒤쪽에 쓰여져야 함\n",
    "  \n",
    " \n",
    "- Q9.입력변수로 이름, 나이, 성별을 입력하면 각각에 대해 print 하는 함수를 만들어라. 단, 성별을 초기값을 남자로 미리 설정해 두자. "
   ]
  },
  {
   "cell_type": "code",
   "execution_count": 85,
   "metadata": {},
   "outputs": [],
   "source": [
    "def say_myself(name, old, man=True) : \n",
    "    print(\"나의 이름은 %s 입니다.\" %name)\n",
    "    print(\"나이는 %d살입니다.\" %old)\n",
    "    if man:\n",
    "        print(\"남자입니다.\")\n",
    "    else :\n",
    "        print(\"여자입니다.\")"
   ]
  },
  {
   "cell_type": "code",
   "execution_count": 86,
   "metadata": {},
   "outputs": [
    {
     "name": "stdout",
     "output_type": "stream",
     "text": [
      "나의 이름은 홍길동 입니다.\n",
      "나이는 30살입니다.\n",
      "남자입니다.\n"
     ]
    }
   ],
   "source": [
    "say_myself(\"홍길동\",30)"
   ]
  },
  {
   "cell_type": "code",
   "execution_count": 87,
   "metadata": {},
   "outputs": [
    {
     "name": "stdout",
     "output_type": "stream",
     "text": [
      "나의 이름은 홍길동 입니다.\n",
      "나이는 30살입니다.\n",
      "여자입니다.\n"
     ]
    }
   ],
   "source": [
    "say_myself(\"홍길동\",30,False)"
   ]
  },
  {
   "attachments": {},
   "cell_type": "markdown",
   "metadata": {},
   "source": [
    "- Q10. 2개의 숫자를 입력받아 더하기와 곱하기가 있는 함수를 만드세요. 단, 디폴트로 더하기,또 하나의 숫자는 1로 미리 초기값을 설정하세요."
   ]
  },
  {
   "cell_type": "code",
   "execution_count": 88,
   "metadata": {},
   "outputs": [
    {
     "name": "stdout",
     "output_type": "stream",
     "text": [
      "3 1 add\n",
      "3 1 mul\n",
      "3 2 add\n",
      "3 2 mul\n"
     ]
    },
    {
     "data": {
      "text/plain": [
       "6"
      ]
     },
     "execution_count": 88,
     "metadata": {},
     "output_type": "execute_result"
    }
   ],
   "source": [
    "def add_mul(a, b=1, type1=\"add\") :\n",
    "    print(a, b, type1)\n",
    "    if type1==\"add\": return a+b\n",
    "    elif type1==\"mul\" : return a*b\n",
    "\n",
    "add_mul(3)\n",
    "add_mul(3,type1=\"mul\")  \n",
    "#add_mul(3, \"mul\") #error\n",
    "add_mul(3, 2)\n",
    "add_mul(3, 2,\"mul\")"
   ]
  },
  {
   "attachments": {},
   "cell_type": "markdown",
   "metadata": {},
   "source": [
    "- global 명령어 : 전역변수\n",
    "    \n",
    "    함수 내부에서 global 명령어를 사용하여 변수 정의 \n",
    "     ex) global  a\n",
    "     \n",
    "    함수 외부의 변수를 내부에서 직접 사용하게 됨\n",
    "    \n",
    "\n",
    "- Q11. 함수 외부의 변수 a를 내부에서 +1를 하는 함수를 만들어라. "
   ]
  },
  {
   "cell_type": "code",
   "execution_count": 89,
   "metadata": {},
   "outputs": [
    {
     "name": "stdout",
     "output_type": "stream",
     "text": [
      "11\n"
     ]
    }
   ],
   "source": [
    "a=10\n",
    "\n",
    "def vartest() : \n",
    "    global a  # 함수 외부의 a=10를 인식\n",
    "    a=a+1\n",
    "\n",
    "vartest()\n",
    "print(a)"
   ]
  },
  {
   "cell_type": "code",
   "execution_count": 90,
   "metadata": {},
   "outputs": [
    {
     "name": "stdout",
     "output_type": "stream",
     "text": [
      "10 11\n"
     ]
    }
   ],
   "source": [
    "a=10\n",
    "\n",
    "def vartest(a) :\n",
    "    a=a+1\n",
    "    return a\n",
    "\n",
    "b=vartest(a=a)\n",
    "print(a,b)"
   ]
  },
  {
   "cell_type": "code",
   "execution_count": 91,
   "metadata": {},
   "outputs": [
    {
     "name": "stdout",
     "output_type": "stream",
     "text": [
      "10 20\n"
     ]
    }
   ],
   "source": [
    "# 전역변수 또 다른 예 \n",
    "# 외부에 선언된 a 변수를 함수 내부에서 전역변수로 취급하여 사용. \n",
    "# 단, a값 자체 변경은 불가능함.\n",
    "\n",
    "a=10\n",
    "\n",
    "def vartest() : \n",
    "    #a*=2\n",
    "    return a*2\n",
    "\n",
    "b=vartest()\n",
    "print(a,b)"
   ]
  },
  {
   "attachments": {},
   "cell_type": "markdown",
   "metadata": {},
   "source": [
    "- lambda 함수\n",
    "\n",
    "  함수를 생성할 때 사용하는 예약어, def와 동일한 역할\n",
    "  \n",
    "  보통 함수를 한 줄로 간결하게 만들때 사용함. \n",
    "  \n",
    "  return 명령어 없어도 결과값을 돌려줌.\n",
    "  \n",
    "  lambda 매개변수1, 매개변수2, ... : 매개변수를 사용한 표현식\n",
    "  \n",
    "\n",
    "- Q12. 두개의 인수를 받아 더한 값을 돌려주는 lambda 함수를 작성하라."
   ]
  },
  {
   "cell_type": "code",
   "execution_count": 92,
   "metadata": {},
   "outputs": [],
   "source": [
    "def add(a,b):\n",
    "    return a+b"
   ]
  },
  {
   "cell_type": "code",
   "execution_count": 93,
   "metadata": {},
   "outputs": [
    {
     "name": "stdout",
     "output_type": "stream",
     "text": [
      "7\n"
     ]
    }
   ],
   "source": [
    "add=lambda a, b: a+b\n",
    "result=add(3,4)\n",
    "print(result)"
   ]
  },
  {
   "attachments": {},
   "cell_type": "markdown",
   "metadata": {},
   "source": [
    "- filter 함수\n",
    "\n",
    "  filter(함수이름, 반복가능한 자료형)\n",
    "  \n",
    "  두번째 인수인 반복가능한 자료형 요소가 첫번째 인수인 함수에 입력되었을 때 반환 값이 참인 것만 걸러내서 돌려줌\n",
    " \n",
    " \n",
    "- Q13. 양수값만 돌려주는 함수를 작성하라. "
   ]
  },
  {
   "cell_type": "code",
   "execution_count": 94,
   "metadata": {},
   "outputs": [
    {
     "data": {
      "text/plain": [
       "[1, 2, 6]"
      ]
     },
     "execution_count": 94,
     "metadata": {},
     "output_type": "execute_result"
    }
   ],
   "source": [
    "def positive(x) : \n",
    "    return x>0  #True / False \n",
    "\n",
    "list(filter(positive, [1,-3,2,0,-5,6]))\n"
   ]
  },
  {
   "attachments": {},
   "cell_type": "markdown",
   "metadata": {},
   "source": [
    "- Q14. 위 Q13 문제에서 lambda와 filter를 같이 쓰면?"
   ]
  },
  {
   "cell_type": "code",
   "execution_count": 95,
   "metadata": {},
   "outputs": [
    {
     "data": {
      "text/plain": [
       "[1, 2, 6]"
      ]
     },
     "execution_count": 95,
     "metadata": {},
     "output_type": "execute_result"
    }
   ],
   "source": [
    "list(filter(lambda x : x>0, [1,-3,2,0,-5,6]))"
   ]
  },
  {
   "attachments": {},
   "cell_type": "markdown",
   "metadata": {},
   "source": [
    "- Q15. 위 Q13 문제를 filter 쓰지 않으면?"
   ]
  },
  {
   "cell_type": "code",
   "execution_count": 96,
   "metadata": {},
   "outputs": [
    {
     "data": {
      "text/plain": [
       "[1, 2, 6]"
      ]
     },
     "execution_count": 96,
     "metadata": {},
     "output_type": "execute_result"
    }
   ],
   "source": [
    "def positive_1(arg) : \n",
    "    result=[]\n",
    "    for i in arg : \n",
    "        if i>0 : \n",
    "            result.append(i)\n",
    "    return result\n",
    "\n",
    "positive_1([1,-3,2,0,-5,6])"
   ]
  },
  {
   "attachments": {},
   "cell_type": "markdown",
   "metadata": {},
   "source": [
    "- map 함수\n",
    "\n",
    "  map(함수이름, 반복가능한 자료형) \n",
    "  \n",
    "  입력받은 자료형의 각 요소를 함수가 수행한 결과를 묶어서 돌려주는 함수\n",
    " \n",
    " \n",
    "- Q16. 리스트 요소를 입력받아 각 요소에 2를 곱한 결과값을 돌려주는 함수를 작성하라."
   ]
  },
  {
   "cell_type": "code",
   "execution_count": 97,
   "metadata": {},
   "outputs": [
    {
     "data": {
      "text/plain": [
       "[2, 4, 6, 8]"
      ]
     },
     "execution_count": 97,
     "metadata": {},
     "output_type": "execute_result"
    }
   ],
   "source": [
    "def two_times(x) : \n",
    "    return x*2\n",
    "\n",
    "list(map(two_times, [1,2,3,4]))"
   ]
  },
  {
   "attachments": {},
   "cell_type": "markdown",
   "metadata": {},
   "source": [
    "- Q17. 위 Q16 문제에서 lambda도 같이 쓰면?"
   ]
  },
  {
   "cell_type": "code",
   "execution_count": 98,
   "metadata": {},
   "outputs": [
    {
     "data": {
      "text/plain": [
       "[2, 4, 6, 8]"
      ]
     },
     "execution_count": 98,
     "metadata": {},
     "output_type": "execute_result"
    }
   ],
   "source": [
    "list(map(lambda x: x*2, [1,2,3,4]))"
   ]
  },
  {
   "cell_type": "code",
   "execution_count": 99,
   "metadata": {},
   "outputs": [
    {
     "data": {
      "text/plain": [
       "[2, 4, 6, 8]"
      ]
     },
     "execution_count": 99,
     "metadata": {},
     "output_type": "execute_result"
    }
   ],
   "source": [
    "def two_times_1(arg):\n",
    "    result=[]\n",
    "    for i in arg:\n",
    "        result.append(i*2)\n",
    "    return result\n",
    "\n",
    "two_times_1([1,2,3,4])"
   ]
  },
  {
   "attachments": {},
   "cell_type": "markdown",
   "metadata": {},
   "source": [
    "- Q18. 동일 크기의 리스트 자료형 2개의 동일 위치의 요소값 합을 구하는 함수를 작성하라. lambda,map을 이용"
   ]
  },
  {
   "cell_type": "code",
   "execution_count": 100,
   "metadata": {},
   "outputs": [
    {
     "data": {
      "text/plain": [
       "[5, 4, 6, 5]"
      ]
     },
     "execution_count": 100,
     "metadata": {},
     "output_type": "execute_result"
    }
   ],
   "source": [
    "x=[1,2,3,4]\n",
    "y=[4,2,3,1]\n",
    "list(map(lambda a, b : a+b , x,y))"
   ]
  },
  {
   "cell_type": "code",
   "execution_count": 101,
   "metadata": {},
   "outputs": [
    {
     "data": {
      "text/plain": [
       "[5, 4, 6, 5]"
      ]
     },
     "execution_count": 101,
     "metadata": {},
     "output_type": "execute_result"
    }
   ],
   "source": [
    "def list_plus(a,b):\n",
    "    result=[]\n",
    "    for i in range(len(a)) :\n",
    "        result.append(a[i]+b[i])\n",
    "    return result\n",
    "list_plus(x,y)"
   ]
  },
  {
   "attachments": {},
   "cell_type": "markdown",
   "metadata": {},
   "source": [
    "- Q) 어떤 리스트형 숫자들을 매개변수로 받아 짝수만 return해 주는 함수를 작성하라."
   ]
  },
  {
   "attachments": {},
   "cell_type": "markdown",
   "metadata": {},
   "source": [
    "- Q) 어떤 문자를 입력받아 거꾸로 재배열하는 함수를 작성하라. ex) abc 입력하면 cba return"
   ]
  },
  {
   "attachments": {},
   "cell_type": "markdown",
   "metadata": {},
   "source": [
    "- Q) 어떤 입력값을 받아 평균, 분산, 표준편차를 return 하는 함수를 작성하라. 이때 입력값의 개수는 정해지지 않았다."
   ]
  },
  {
   "attachments": {},
   "cell_type": "markdown",
   "metadata": {},
   "source": [
    "- Q) 절대값을 찾는 함수 ABS를 만들어 보세요.ABS 함수에는 한개의 숫자(정수)를 입력받아 절대값 결과를 결과로 내보내는 함수 입니다. abs라는 파이썬의 함수로 절대값을 구할 수 있으나 이를 사용하지 않습니다. 예를들어, ABS(-3)를 수행하면 3이 나오게 합니다."
   ]
  },
  {
   "attachments": {},
   "cell_type": "markdown",
   "metadata": {},
   "source": [
    "- Q) 약수를 구하는 문제입니다. 적당한 자연수를 input를 이용해 입력받고 그 숫자의 약수를 for 문장(리스트 내포형도 가능)을 이용해서 구해보세요. 결과는 리스트 자료형입니다. "
   ]
  }
 ],
 "metadata": {
  "kernelspec": {
   "display_name": "Python 3 (ipykernel)",
   "language": "python",
   "name": "python3"
  },
  "language_info": {
   "codemirror_mode": {
    "name": "ipython",
    "version": 3
   },
   "file_extension": ".py",
   "mimetype": "text/x-python",
   "name": "python",
   "nbconvert_exporter": "python",
   "pygments_lexer": "ipython3",
   "version": "3.10.2"
  }
 },
 "nbformat": 4,
 "nbformat_minor": 2
}
