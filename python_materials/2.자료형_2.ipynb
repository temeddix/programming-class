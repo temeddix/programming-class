{
 "cells": [
  {
   "cell_type": "markdown",
   "metadata": {},
   "source": [
    "## 2.3 리스트\n",
    "\n",
    "- 숫자, 문자들이 요소로 있는 집합체\n",
    "\n",
    "리스트명 = [요소1, 요소2,요소3,...]\n",
    "\n",
    "- iterable(반복가능한), mutable(변경가능한) 객체 임."
   ]
  },
  {
   "cell_type": "code",
   "execution_count": null,
   "metadata": {},
   "outputs": [],
   "source": [
    "a=[] # 비어있는 리스트 a=list()\n",
    "a"
   ]
  },
  {
   "cell_type": "code",
   "execution_count": null,
   "metadata": {},
   "outputs": [],
   "source": [
    "a=list()\n",
    "a"
   ]
  },
  {
   "cell_type": "code",
   "execution_count": null,
   "metadata": {},
   "outputs": [],
   "source": [
    "b=[1,2,3]\n",
    "b"
   ]
  },
  {
   "cell_type": "code",
   "execution_count": null,
   "metadata": {},
   "outputs": [],
   "source": [
    "c=['Life','is','too','short']   \n",
    "c"
   ]
  },
  {
   "cell_type": "code",
   "execution_count": null,
   "metadata": {},
   "outputs": [],
   "source": [
    "d=[1,2,'Life','is']\n",
    "d"
   ]
  },
  {
   "cell_type": "code",
   "execution_count": null,
   "metadata": {},
   "outputs": [],
   "source": [
    "e=[1,2,['Life','is']] #리스트 자체를 요소값으로 \n",
    "e"
   ]
  },
  {
   "cell_type": "markdown",
   "metadata": {},
   "source": [
    "- 리스트의 인덱싱과 슬라이싱 : 요소들에 위치값을 주고 슬라이싱(문자열과 동일한 방법)\n",
    "- 위치는 0부터 시작"
   ]
  },
  {
   "cell_type": "markdown",
   "metadata": {},
   "source": [
    "- Q1) 위 b 변수에서 1과 3를 각각 찾아보아라."
   ]
  },
  {
   "cell_type": "code",
   "execution_count": null,
   "metadata": {},
   "outputs": [],
   "source": [
    "b"
   ]
  },
  {
   "cell_type": "code",
   "execution_count": null,
   "metadata": {},
   "outputs": [],
   "source": [
    "b[0] # 첫번째 요소값"
   ]
  },
  {
   "cell_type": "code",
   "execution_count": null,
   "metadata": {},
   "outputs": [],
   "source": [
    "b[2]"
   ]
  },
  {
   "cell_type": "code",
   "execution_count": null,
   "metadata": {},
   "outputs": [],
   "source": [
    "b[-3]"
   ]
  },
  {
   "cell_type": "code",
   "execution_count": null,
   "metadata": {},
   "outputs": [],
   "source": [
    "b[-1] #끝에서 첫번째 요소값 b[2]"
   ]
  },
  {
   "cell_type": "markdown",
   "metadata": {},
   "source": [
    "- Q2) 위 e 변수에서  ['Life','is'] 요소값을 찾아보고, 또 'Life'만 슬라이싱 해보아라."
   ]
  },
  {
   "cell_type": "code",
   "execution_count": null,
   "metadata": {},
   "outputs": [],
   "source": [
    "e"
   ]
  },
  {
   "cell_type": "code",
   "execution_count": null,
   "metadata": {},
   "outputs": [],
   "source": [
    "e[2] # 세번째 요소값 list 그자체"
   ]
  },
  {
   "cell_type": "code",
   "execution_count": null,
   "metadata": {},
   "outputs": [],
   "source": [
    "e[2][0] #세번째 요소값 list에서 첫번째 요소값"
   ]
  },
  {
   "cell_type": "code",
   "execution_count": null,
   "metadata": {},
   "outputs": [],
   "source": [
    "e[2][-2]"
   ]
  },
  {
   "cell_type": "markdown",
   "metadata": {},
   "source": [
    "- Q3) 위 c 변수에서 ['Life','is'] 만 슬라이싱 해보아라."
   ]
  },
  {
   "cell_type": "code",
   "execution_count": null,
   "metadata": {},
   "outputs": [],
   "source": [
    "c"
   ]
  },
  {
   "cell_type": "code",
   "execution_count": null,
   "metadata": {},
   "outputs": [],
   "source": [
    "c[0:2] #c[0], c[1] 두개의 요소값"
   ]
  },
  {
   "cell_type": "code",
   "execution_count": null,
   "metadata": {},
   "outputs": [],
   "source": [
    "c[:2] #c[0],c[1] 두개의 요소값"
   ]
  },
  {
   "cell_type": "code",
   "execution_count": null,
   "metadata": {},
   "outputs": [],
   "source": [
    "c[2:4]"
   ]
  },
  {
   "cell_type": "code",
   "execution_count": null,
   "metadata": {},
   "outputs": [],
   "source": [
    "c[2:] # c[2], c[3] 두개의 요소값"
   ]
  },
  {
   "cell_type": "markdown",
   "metadata": {},
   "source": [
    "- Q4) 리스트형 [1,2,3,['a','b','c'],4,5] 를 f변수에 입력하고, ['a','b']를 슬라이싱 해보아라."
   ]
  },
  {
   "cell_type": "code",
   "execution_count": null,
   "metadata": {},
   "outputs": [],
   "source": [
    "f=[1,2,3,['a','b','c'],4,5] \n",
    "#f[3][0:2]\n",
    "f[3][:2]   #f에서 'a','b' 슬라이싱"
   ]
  },
  {
   "cell_type": "markdown",
   "metadata": {},
   "source": [
    "- Q5) [0,1,2,3,4,5,6,7,8,9,10]를 num 변수에 입력하고, [0,2,4,6,8,10] 을 슬라이싱 해 보아라. "
   ]
  },
  {
   "cell_type": "code",
   "execution_count": null,
   "metadata": {},
   "outputs": [],
   "source": [
    "num=[0,1,2,3,4,5,6,7,8,9,10]\n",
    "num[0:11:2]"
   ]
  },
  {
   "cell_type": "code",
   "execution_count": null,
   "metadata": {},
   "outputs": [],
   "source": [
    "num[ : : 2]"
   ]
  },
  {
   "cell_type": "code",
   "execution_count": null,
   "metadata": {},
   "outputs": [],
   "source": [
    "num[-1: : -2] # num[-1: 0: -2] 와 비교"
   ]
  },
  {
   "cell_type": "code",
   "execution_count": null,
   "metadata": {},
   "outputs": [],
   "source": [
    "num[::-1] # reverse와 동일한 효과 "
   ]
  },
  {
   "cell_type": "code",
   "execution_count": null,
   "metadata": {},
   "outputs": [],
   "source": [
    "num.reverse()\n",
    "num"
   ]
  },
  {
   "cell_type": "markdown",
   "metadata": {},
   "source": [
    "- 리스트 연산\n",
    " 1. 리스트 더하기 : +\n",
    " 2. 리스트 반복하기 : *\n",
    " 3. 리스트 길이 구하기 : len"
   ]
  },
  {
   "cell_type": "markdown",
   "metadata": {},
   "source": [
    "- Q6) [1,2,3]과 [4,5,6]을 a와 b로 입력하고, 그 두개의 변수로 [1,2,3,4,5,6]을 만들어라."
   ]
  },
  {
   "cell_type": "code",
   "execution_count": null,
   "metadata": {},
   "outputs": [],
   "source": [
    "a=[1,2,3]\n",
    "b=[4,5,6]\n",
    "a+b"
   ]
  },
  {
   "cell_type": "markdown",
   "metadata": {},
   "source": [
    "- Q7) 위 a변수를 이용하여 [1,2,3,1,2,3]를 만들어라."
   ]
  },
  {
   "cell_type": "code",
   "execution_count": null,
   "metadata": {},
   "outputs": [],
   "source": [
    "a*2"
   ]
  },
  {
   "cell_type": "code",
   "execution_count": null,
   "metadata": {},
   "outputs": [],
   "source": [
    "a"
   ]
  },
  {
   "cell_type": "markdown",
   "metadata": {},
   "source": [
    "- Q8) 위 Q5의 a에 대한 요소 개수를 구하여라."
   ]
  },
  {
   "cell_type": "code",
   "execution_count": null,
   "metadata": {},
   "outputs": [],
   "source": [
    "len(a)"
   ]
  },
  {
   "cell_type": "markdown",
   "metadata": {},
   "source": [
    "- 리스트의 수정과 삭제"
   ]
  },
  {
   "cell_type": "markdown",
   "metadata": {},
   "source": [
    "- Q9) [1,2,3]를 a에 입력하고 3를 4로 수정하라."
   ]
  },
  {
   "cell_type": "code",
   "execution_count": null,
   "metadata": {},
   "outputs": [],
   "source": [
    "a=[1,2,3]\n",
    "a[2]=4 # 3을 4로 수정\n",
    "a"
   ]
  },
  {
   "cell_type": "code",
   "execution_count": null,
   "metadata": {},
   "outputs": [],
   "source": [
    "#mutable 객체인지 확인 \n",
    "a=[1,2,3]\n",
    "print(id(a))\n",
    "a[2]=4  \n",
    "print(id(a))"
   ]
  },
  {
   "cell_type": "markdown",
   "metadata": {},
   "source": [
    "- Q10) 위 a변수에서 요소값 2를 삭제하라."
   ]
  },
  {
   "cell_type": "code",
   "execution_count": null,
   "metadata": {},
   "outputs": [],
   "source": [
    "del a[1] # 2를 삭제\n",
    "a"
   ]
  },
  {
   "cell_type": "markdown",
   "metadata": {},
   "source": [
    "- Q11) [1,2,3,4,5]를 a에 입력하고 [1,2]만 남게 [3,4,5]를 삭제하라."
   ]
  },
  {
   "cell_type": "code",
   "execution_count": null,
   "metadata": {},
   "outputs": [],
   "source": [
    "a=[1,2,3,4,5]\n",
    "del a[2:] # 3,4,5를 삭제\n",
    "a"
   ]
  },
  {
   "cell_type": "markdown",
   "metadata": {},
   "source": [
    "- 리스트 관련 메소드\n",
    " 1. 리스트에 요소 추가 : append , insert, extend\n",
    " 2. 리스트 정렬 : sort\n",
    " 3. 리스트 뒤집기 : reverse\n",
    " 4. 위치반환 : index\n",
    " 5. 리스트 요소 제거 : remove, pop\n",
    " 6. 리스트에 포함된 요소 x의 개수 세기 : count\n",
    " 7. 숫자형일 경우 요소들의 합 : sum\n",
    " 8. 숫자형일 경우 min, max 값 : min, max"
   ]
  },
  {
   "cell_type": "markdown",
   "metadata": {},
   "source": [
    "- Q12) [1,2,3]를 a에 입력하고 4라는 요소값을 추가하여 [1,2,3,4]를 만들어라."
   ]
  },
  {
   "cell_type": "code",
   "execution_count": null,
   "metadata": {
    "scrolled": true
   },
   "outputs": [],
   "source": [
    "a=[1,2,3]\n",
    "a=a+[4]  # a+=[4] 와 동일\n",
    "a "
   ]
  },
  {
   "cell_type": "code",
   "execution_count": null,
   "metadata": {},
   "outputs": [],
   "source": [
    "a=[1,2,3]\n",
    "a.append(4)  #리스트 맨 마지막에 요소 4 추가= a.extend([4])\n",
    "a"
   ]
  },
  {
   "cell_type": "code",
   "execution_count": null,
   "metadata": {},
   "outputs": [],
   "source": [
    "a=[1,2,3]\n",
    "a.extend([4])\n",
    "a"
   ]
  },
  {
   "cell_type": "markdown",
   "metadata": {},
   "source": [
    " - Q13) [1,2,3,4]가 된 a에 2개의 요소를 더 추가하여 [1,2,3,4,5,6]를 만들어라.\n",
    " \n",
    "   a.append(5,6); a.extend(5,6); 모두 error "
   ]
  },
  {
   "cell_type": "code",
   "execution_count": null,
   "metadata": {},
   "outputs": [],
   "source": [
    "a+=[5,6]\n",
    "a"
   ]
  },
  {
   "cell_type": "code",
   "execution_count": null,
   "metadata": {},
   "outputs": [],
   "source": [
    "a=[1,2,3,4]\n",
    "a.extend([5,6]) \n",
    "a"
   ]
  },
  {
   "cell_type": "code",
   "execution_count": null,
   "metadata": {},
   "outputs": [],
   "source": [
    "a=[1,2,3,4]\n",
    "a.append([5,6]) #리스트 안에 리스트 추가 \n",
    "a"
   ]
  },
  {
   "cell_type": "code",
   "execution_count": null,
   "metadata": {},
   "outputs": [],
   "source": [
    "#error\n",
    "a=[1,2,3,4]\n",
    "a.append(5,6)\n",
    "a"
   ]
  },
  {
   "cell_type": "markdown",
   "metadata": {},
   "source": [
    "- Q14) [1,2,3]을 a에 입력하고 [4,1,2,3]를 만들어라. (특정 위치에 요소 추가)"
   ]
  },
  {
   "cell_type": "code",
   "execution_count": null,
   "metadata": {},
   "outputs": [],
   "source": [
    "a=[1,2,3]\n",
    "a.insert(0,4) # index 0 앞에 요소 4 삽입  \n",
    "a"
   ]
  },
  {
   "cell_type": "code",
   "execution_count": null,
   "metadata": {},
   "outputs": [],
   "source": [
    "a.insert(3,5) # index 3 앞에 요소 5 삽입  \n",
    "a"
   ]
  },
  {
   "cell_type": "markdown",
   "metadata": {},
   "source": [
    "- Q15) [1,4,3,2]를 a에 입력하고 오름차순, 내림차순으로 각각 정렬하라."
   ]
  },
  {
   "cell_type": "code",
   "execution_count": null,
   "metadata": {},
   "outputs": [],
   "source": [
    "a=[1,4,3,2]\n",
    "a.sort() #오름차순 정렬하기\n",
    "a"
   ]
  },
  {
   "cell_type": "code",
   "execution_count": null,
   "metadata": {},
   "outputs": [],
   "source": [
    "a.sort(reverse=True) #내림차순 정렬하기\n",
    "a"
   ]
  },
  {
   "cell_type": "markdown",
   "metadata": {},
   "source": [
    "- Q16) [5,2,3]를 a에 입력하고, 거꾸로 뒤집어 [3,2,5]만들어라."
   ]
  },
  {
   "cell_type": "code",
   "execution_count": null,
   "metadata": {},
   "outputs": [],
   "source": [
    "a=[5,2,3] \n",
    "a.reverse() #현재의 리스트를 그대로 거꾸로 뒤집기\n",
    "a"
   ]
  },
  {
   "cell_type": "markdown",
   "metadata": {},
   "source": [
    "- Q17) [1,2,3,1,2,3]를 a에 입력하고, 요소값 3의 위치를 찾아보아라."
   ]
  },
  {
   "cell_type": "code",
   "execution_count": null,
   "metadata": {},
   "outputs": [],
   "source": [
    "a=[1,2,3,1,2,3] \n",
    "b=a.index(3) #요소 3의 index 값 단, 2개 이상일 경우 맨 처음 index 값\n",
    "b"
   ]
  },
  {
   "cell_type": "code",
   "execution_count": null,
   "metadata": {},
   "outputs": [],
   "source": [
    "a.find(3)   #error "
   ]
  },
  {
   "cell_type": "markdown",
   "metadata": {},
   "source": [
    "- Q18) 위 a변수에서 요소 3를 삭제하라."
   ]
  },
  {
   "cell_type": "code",
   "execution_count": null,
   "metadata": {},
   "outputs": [],
   "source": [
    "a.remove(3) #요소 3를 삭제 단, 2개 이상일 경우 첫번째 요소만 삭제\n",
    "a"
   ]
  },
  {
   "cell_type": "markdown",
   "metadata": {},
   "source": [
    "- Q19) 함수 pop의 사용법을 익혀보아라."
   ]
  },
  {
   "cell_type": "code",
   "execution_count": null,
   "metadata": {},
   "outputs": [],
   "source": [
    "a=[1,2,3]\n",
    "a.pop() # 맨 마지막 요소를 return 하고 그 요소를 삭제"
   ]
  },
  {
   "cell_type": "code",
   "execution_count": null,
   "metadata": {},
   "outputs": [],
   "source": [
    "a"
   ]
  },
  {
   "cell_type": "code",
   "execution_count": null,
   "metadata": {},
   "outputs": [],
   "source": [
    "a=[1,2,3]\n",
    "a.pop(1) # a[1]를 return하고 그 요소를 삭제"
   ]
  },
  {
   "cell_type": "code",
   "execution_count": null,
   "metadata": {},
   "outputs": [],
   "source": [
    "a"
   ]
  },
  {
   "cell_type": "markdown",
   "metadata": {},
   "source": [
    "- 기타"
   ]
  },
  {
   "cell_type": "code",
   "execution_count": null,
   "metadata": {},
   "outputs": [],
   "source": [
    "a=[1,2,3,1,2,3]\n",
    "a.count(1) # 요소 1의 개수 return"
   ]
  },
  {
   "cell_type": "code",
   "execution_count": null,
   "metadata": {},
   "outputs": [],
   "source": [
    "1 in a  # 1 이라는 요소값이 a list에 있는지 여부 "
   ]
  },
  {
   "cell_type": "code",
   "execution_count": null,
   "metadata": {},
   "outputs": [],
   "source": [
    "a=[1,2,3]\n",
    "sum(a) # 1,2,3의 합"
   ]
  },
  {
   "cell_type": "markdown",
   "metadata": {},
   "source": [
    "- Q20) a=[1,2,-8,0]에서 min, max 값을 찾아 보시오. (sort 이용)"
   ]
  },
  {
   "cell_type": "markdown",
   "metadata": {},
   "source": [
    "- Q21) q=[11,33,50]에서 3개의 요소값을 합쳐서 113350 을 만들어 보시오."
   ]
  },
  {
   "cell_type": "markdown",
   "metadata": {},
   "source": [
    "* sort, sorted, reverse, reversed의 비교\n",
    "\n",
    "  - sort, reverse는 class 소속의 메소드로 객체.sort, 객체.reverse로 사용하며 결과는 None 이지만, 객체가 변화\n",
    "  \n",
    "  - sorted, reversed는 내장함수로 sorted(객체), reversed(객체)로 사용하면 변화된 객체가 결과로 나오고 원 객체는 변화하지 않음."
   ]
  },
  {
   "cell_type": "code",
   "execution_count": null,
   "metadata": {},
   "outputs": [],
   "source": [
    "num=[2,4,1,0,5,3]\n",
    "print(num.sort()) #print(num.sort(reverse=True))\n",
    "num"
   ]
  },
  {
   "cell_type": "code",
   "execution_count": null,
   "metadata": {},
   "outputs": [],
   "source": [
    "num=[2,4,1,0,5,3]\n",
    "print(sorted(num)) #print(sorted(num, reverse=True))\n",
    "num"
   ]
  },
  {
   "cell_type": "code",
   "execution_count": null,
   "metadata": {},
   "outputs": [],
   "source": [
    "num=[2,4,1,0,5,3]\n",
    "print(num.reverse())\n",
    "num"
   ]
  },
  {
   "cell_type": "code",
   "execution_count": null,
   "metadata": {},
   "outputs": [],
   "source": [
    "num=[2,4,1,0,5,3]\n",
    "print(list(reversed(num)))\n",
    "num"
   ]
  },
  {
   "cell_type": "code",
   "execution_count": null,
   "metadata": {},
   "outputs": [],
   "source": [
    "num=[2,4,1,0,5,3]\n",
    "print(num[::-1])\n",
    "num"
   ]
  },
  {
   "cell_type": "markdown",
   "metadata": {},
   "source": [
    "## 2.4 튜플\n",
    "\n",
    "- 리스트와 비슷 \n",
    " 1. 튜플은 ()로 둘러싸여 있음\n",
    " 2. 튜플은 요소값을 바꿀 수 없음 : 수정, 삭제와 관련 된 append, extend, sort, reverse, remove 등 사용 불가능\n",
    " 3. 인덱싱, 슬라이싱, 연산등은 리스트와 동일\n",
    "\n",
    "- iterable, immutable 객체임."
   ]
  },
  {
   "cell_type": "code",
   "execution_count": null,
   "metadata": {},
   "outputs": [],
   "source": [
    "t=(1,2,'a','b') # t=1,2,'a','b' \n",
    "t[0] #index 0번째 값\n"
   ]
  },
  {
   "cell_type": "code",
   "execution_count": null,
   "metadata": {},
   "outputs": [],
   "source": [
    "t[1:] #index 1번째 값부터 끝까지"
   ]
  },
  {
   "cell_type": "code",
   "execution_count": null,
   "metadata": {},
   "outputs": [],
   "source": [
    "t1=(3,4) \n",
    "t+t1    # 튜플 더하기"
   ]
  },
  {
   "cell_type": "code",
   "execution_count": null,
   "metadata": {},
   "outputs": [],
   "source": [
    "t*2    # 튜플 반복하기 "
   ]
  },
  {
   "cell_type": "code",
   "execution_count": null,
   "metadata": {},
   "outputs": [],
   "source": [
    "len(t)"
   ]
  },
  {
   "cell_type": "markdown",
   "metadata": {},
   "source": [
    "- Q1) q=(1,2,3) 이라는 튜플에 값 4를 추가하여 (1,2,3,4)를 만들어 보시오. "
   ]
  },
  {
   "cell_type": "code",
   "execution_count": null,
   "metadata": {},
   "outputs": [],
   "source": [
    "q=(1,2,3)\n",
    "q1=(4,)\n",
    "q+q1"
   ]
  },
  {
   "cell_type": "code",
   "execution_count": null,
   "metadata": {},
   "outputs": [],
   "source": [
    "type(q1)"
   ]
  },
  {
   "cell_type": "code",
   "execution_count": null,
   "metadata": {},
   "outputs": [],
   "source": [
    "q=(1,2,3)\n",
    "q+=(4,)  # q+=4,\n",
    "print(q)"
   ]
  },
  {
   "cell_type": "code",
   "execution_count": null,
   "metadata": {},
   "outputs": [],
   "source": [
    "t"
   ]
  },
  {
   "cell_type": "code",
   "execution_count": null,
   "metadata": {},
   "outputs": [],
   "source": [
    "t[1]=10 #error"
   ]
  },
  {
   "cell_type": "markdown",
   "metadata": {},
   "source": [
    "- Q2) t=(1,2,'a','b') 튜플에서 2 요소값을 10으로 변경하려 한다. \n",
    "\n",
    "     튜플을 리스트로 바꾸고 (list(tuple)) , 리스트에서 10으로 변경한 후 \n",
    "     다시 리스트를 튜플로 바꾸어라(tuple(list))"
   ]
  },
  {
   "cell_type": "markdown",
   "metadata": {},
   "source": [
    "- Q3) t=(1,2,3) 의 요소값들을 문자로 바꾼 후, join을 하여 \"123\"을 만들고 list로 변환하여 ['1','2','3']이 되도록 한다."
   ]
  },
  {
   "cell_type": "markdown",
   "metadata": {},
   "source": [
    "#### * zip 함수 : 여러개의 iterable한 객체들의 요소들을 쌍을 만들어 튜플형태로 묶어주는 함수\n",
    "\n",
    "     - 각 개체들의 요소 개수가 다를경우에는 최소개에 맞춰 쌍을 만들어 줌"
   ]
  },
  {
   "cell_type": "code",
   "execution_count": null,
   "metadata": {},
   "outputs": [],
   "source": [
    "list(zip([1,2,3],[\"a\",\"b\",\"c\"]))"
   ]
  },
  {
   "cell_type": "code",
   "execution_count": null,
   "metadata": {},
   "outputs": [],
   "source": [
    "list(zip((1,2,3),(\"a\",\"b\",\"c\" )))"
   ]
  },
  {
   "cell_type": "code",
   "execution_count": null,
   "metadata": {},
   "outputs": [],
   "source": [
    "list(zip(\"123\",\"abc\"))"
   ]
  },
  {
   "cell_type": "code",
   "execution_count": null,
   "metadata": {},
   "outputs": [],
   "source": [
    "list(zip(\"123\",\"a\"))"
   ]
  },
  {
   "cell_type": "markdown",
   "metadata": {},
   "source": [
    "- zip(*객체) : unzip 하는 방법으로 결과는 튜플 형식"
   ]
  },
  {
   "cell_type": "code",
   "execution_count": null,
   "metadata": {},
   "outputs": [],
   "source": [
    "a=zip(\"123\",\"abc\")\n",
    "num,st=zip(*a)"
   ]
  },
  {
   "cell_type": "code",
   "execution_count": null,
   "metadata": {},
   "outputs": [],
   "source": [
    "num"
   ]
  },
  {
   "cell_type": "code",
   "execution_count": null,
   "metadata": {},
   "outputs": [],
   "source": [
    "st"
   ]
  },
  {
   "cell_type": "code",
   "execution_count": null,
   "metadata": {},
   "outputs": [],
   "source": [
    "b=[('1','a','ㄱ'),('2','b','ㄴ'),('3','c','ㄷ')]\n",
    "num,st1,st2=zip(*b)"
   ]
  },
  {
   "cell_type": "code",
   "execution_count": null,
   "metadata": {},
   "outputs": [],
   "source": [
    "print(num, st1, st2)"
   ]
  }
 ],
 "metadata": {
  "kernelspec": {
   "display_name": "Python 3 (ipykernel)",
   "language": "python",
   "name": "python3"
  },
  "language_info": {
   "codemirror_mode": {
    "name": "ipython",
    "version": 3
   },
   "file_extension": ".py",
   "mimetype": "text/x-python",
   "name": "python",
   "nbconvert_exporter": "python",
   "pygments_lexer": "ipython3",
   "version": "3.10.2"
  }
 },
 "nbformat": 4,
 "nbformat_minor": 2
}
