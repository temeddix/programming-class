{
 "cells": [
  {
   "cell_type": "code",
   "execution_count": null,
   "id": "b9f1c2c6",
   "metadata": {},
   "outputs": [],
   "source": [
    "# 함수 my_star()를 만들어 봅시다. \n",
    "# 이 함수는 매개변수 a를 가집니다.\n",
    "# 함수 안에서 \"*\"과 a를 곱하고 그 값을 반환합니다.\n",
    "def my_star(a):\n",
    "    return '*' * a\n",
    "\n",
    "# 만든 함수를 사용하여 원하는 수만큼 나열된 1층짜리 별자리를 찍어 출력해 봅시다.\n",
    "print(my_star(5))"
   ]
  },
  {
   "cell_type": "code",
   "execution_count": null,
   "id": "7bcf7ac0",
   "metadata": {},
   "outputs": [],
   "source": [
    "# 다음은 표준어로 \"밥 먹었어요?\"가 담긴 변수 greeting입니다.\n",
    "greeting = \"밥 먹었어요?\"\n",
    "\n",
    "# 이를 print로 출력하면 다음과 같습니다.\n",
    "print(\"서울 :\",greeting)\n",
    "\n",
    "# 함수 busan을 선언하고, 그 안에 변수 greeting에 \"밥 뭇나?\"를 넣어봅시다.\n",
    "def busan():\n",
    "    greeting = \"밥 뭇나?\"\n",
    "    print(\"부산 :\",greeting)\n",
    "# 함수 busan을 실행해보세요.\n",
    "busan()\n",
    "\n",
    "# 변수 greeting을 출력해보세요.\n",
    "print(greeting)"
   ]
  },
  {
   "cell_type": "code",
   "execution_count": null,
   "id": "a17c5ed4",
   "metadata": {},
   "outputs": [],
   "source": [
    "# 동물들의 대회 성적이 제출 순으로 기록되는 리스트입니다\n",
    "score = [55, 58, 60, 45, 100, 95, 70, 88]\n",
    "\n",
    "# 거북이가 마지막으로 제출합니다! 90점을 기록하세요\n",
    "score.append(90)\n",
    "\n",
    "# 6번째로 제출한 두더지는 컨닝을 했어요. 낙제! 기록을 지우세요\n",
    "score.pop(5)\n",
    "print(score)\n",
    "# 괄호 안에 가장 높은 점수를 받은 동물의 점수를 출력하세요\n",
    "print('대상 수상자의 점수는', max(score), '점!')"
   ]
  },
  {
   "cell_type": "code",
   "execution_count": null,
   "id": "4dab64da",
   "metadata": {},
   "outputs": [],
   "source": [
    "# 리스트 nums를 넣었을 때, 최댓값을 반환(return)하는 함수 our_max를 작성해봅시다.\n",
    "def our_max(nums):\n",
    "    maxNum = nums[0]\n",
    "    for i in nums:\n",
    "        if maxNum < i:\n",
    "            maxNum = i\n",
    "    return maxNum\n",
    "print(our_max([1, 2, 10, 9, 3, 7, 0, 99, 27, 85]))"
   ]
  },
  {
   "cell_type": "code",
   "execution_count": null,
   "id": "e5de96e9",
   "metadata": {},
   "outputs": [],
   "source": []
  }
 ],
 "metadata": {
  "kernelspec": {
   "display_name": "Python 3 (ipykernel)",
   "language": "python",
   "name": "python3"
  },
  "language_info": {
   "codemirror_mode": {
    "name": "ipython",
    "version": 3
   },
   "file_extension": ".py",
   "mimetype": "text/x-python",
   "name": "python",
   "nbconvert_exporter": "python",
   "pygments_lexer": "ipython3",
   "version": "3.10.2"
  }
 },
 "nbformat": 4,
 "nbformat_minor": 5
}
