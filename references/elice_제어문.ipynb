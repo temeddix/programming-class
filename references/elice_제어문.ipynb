{
 "cells": [
  {
   "cell_type": "code",
   "execution_count": null,
   "id": "d97f71a3",
   "metadata": {},
   "outputs": [],
   "source": [
    "# input()을 이용해서 숫자(정수) 입력을 받고, 변수 num에 이를 넣어봅시다.\n",
    "num = int(input())\n",
    "\n",
    "# if-else문을 이용해서 만약 입력받은 수가 홀수면 \"(입력받은 수) 홀수입니다.\"\n",
    "# 짝수면 \"(입력받은 수) 짝수입니다.\"를 출력해봅시다.\n",
    "# 괄호는 출력하지 않습니다.\n",
    "if num%2==1:\n",
    "    print(num,\"홀수입니다.\")\n",
    "else:\n",
    "    print(num,\"짝수입니다.\")"
   ]
  },
  {
   "cell_type": "code",
   "execution_count": null,
   "id": "22aa96bd",
   "metadata": {},
   "outputs": [],
   "source": [
    "# 변수 answer에 수 1~50 중 하나를 넣어봅시다.\n",
    "answer = 25\n",
    "\n",
    "# input으로 숫자 입력을 받아서 변수 submit에 저장해봅시다.\n",
    "submit = int(input())\n",
    "\n",
    "# if-elif-else문으로 Up-Down Game을 구현해봅시다.\n",
    "# 만약 answer보다 submit이 더 크면 \"정답보다 더 큰 수를 입력했습니다.\"\n",
    "# 만약 answer보다 submit이 더 작으면 \"정답보다 더 작은 수를 입력했습니다.\"\n",
    "# 만약 answer와 submit이 같으면 \"정답!\" 를 출력합니다.\n",
    "if answer < submit:\n",
    "    print(\"정답보다 더 큰 수를 입력했습니다.\")\n",
    "elif answer > submit:\n",
    "    print(\"정답보다 더 작은 수를 입력했습니다.\")\n",
    "elif answer == submit:\n",
    "    print(\"정답!\")\n"
   ]
  },
  {
   "cell_type": "code",
   "execution_count": null,
   "id": "8cbe5983",
   "metadata": {},
   "outputs": [],
   "source": [
    "# 변수 num에 숫자형으로 값을 입력받아요\n",
    "num = int(input())\n",
    "\n",
    "# 자릿수 판별기를 만들어 보세요\n",
    "if num < 10: \n",
    "    print('한 자리 숫자입니다.')\n",
    "elif  num < 100:\n",
    "    print('두 자리 숫자입니다.')\n",
    "else:\n",
    "    print('세 자리 숫자입니다.')"
   ]
  },
  {
   "cell_type": "code",
   "execution_count": null,
   "id": "2e83b3d9",
   "metadata": {},
   "outputs": [],
   "source": [
    "#코딩별 학교 애벌레 선생님은 성적을 잘 주시는 것으로 유명합니다.\n",
    "#시험 점수가 88점 이상인 학생에게는 A+를, 77점 이상인 학생에게는 A0를 줍니다. \n",
    "#단, 시험 점수가 0점인 학생에게는 가차 없이 F를 줍니다. \n",
    "#이 모든 경우에 해당하지 않는 학생에게는 전부 B+를 주고요.\n",
    "#주어진 미션을 수행해볼까요?\n",
    "\n",
    "score = int(input())\n",
    "\n",
    "if score == 0 :\n",
    "    print('F')\n",
    "elif score >= 88 :\n",
    "    print('A+')\n",
    "elif score >= 77 :\n",
    "    print('A0')\n",
    "else :\n",
    "    print('B+')"
   ]
  },
  {
   "cell_type": "code",
   "execution_count": null,
   "id": "3daf06fa",
   "metadata": {},
   "outputs": [],
   "source": [
    "# 10부터 1까지 거꾸로 연속된 숫자를 출력하는 코드를 작성해 보세요\n",
    "i = 10\n",
    "while i>=1 :\n",
    "    print(i)\n",
    "    i-=1"
   ]
  },
  {
   "cell_type": "code",
   "execution_count": null,
   "id": "caf35542",
   "metadata": {},
   "outputs": [],
   "source": [
    "#while을 이용해서 \"i년째 수감중입니다.\"를 출력해봅시다.\n",
    "#while문이 종료된 후에는, \"감옥에서 석방되었습니다!\"를 출력해봅시다.\n",
    "i=0\n",
    "while i<10:\n",
    "    i+=1\n",
    "    print(i,\"년째 수감 중입니다.\")\n",
    "    if i==10:\n",
    "        print(\"감옥에서 석방되었습니다!\")\n",
    "        break"
   ]
  },
  {
   "cell_type": "code",
   "execution_count": null,
   "id": "1139e4bf",
   "metadata": {},
   "outputs": [],
   "source": [
    "#도도새가 코딩별 은행에 12개월 동안 매월 1만 원씩 적금을 넣어서 12만 원이 되었습니다. \n",
    "#첫 달부터 시작해 12개월까지 적금을 넣고 나면 멈춰야겠죠?\n",
    "#은행에서 만든 다음 코드를 그대로 입력해 보면서 break의 작동 원리를 익혀 봅시다.\n",
    "i = 1\n",
    "while True :\n",
    "    print(i, \"월 만원을 입금했습니다.\")\n",
    "    if i == 12:\n",
    "        print(\"입금 완료! 12만원을 수령하세요!\")\n",
    "        break\n",
    "    i = i + 1"
   ]
  },
  {
   "cell_type": "code",
   "execution_count": null,
   "id": "0beb5bbd",
   "metadata": {},
   "outputs": [],
   "source": [
    "#1부터 10까지의 합을 구해 출력해 보세요.\n",
    "i = 1\n",
    "sum = 0\n",
    "while True:\n",
    "    sum = sum + i\n",
    "    if i == 10:\n",
    "        break\n",
    "    i = i + 1\n",
    "print(sum)"
   ]
  },
  {
   "cell_type": "code",
   "execution_count": null,
   "id": "17d842ce",
   "metadata": {},
   "outputs": [],
   "source": [
    "#겨울잠쥐가 치즈 뷔페에 갔어요. \n",
    "#치즈가 무한으로 제공되지만 건강을 위해 딱 50개만 먹기로 결심했지요. \n",
    "#치즈가 무한으로 제공될 때 50개까지만 추가하는 반복문을 만들어 보세요.\n",
    "cheeze = []\n",
    "while True:\n",
    "    cheeze.append('치즈')\n",
    "    print('치즈 추가!')\n",
    "    if len(cheeze) == 50:\n",
    "        break\n",
    "print('아이~ 배불러!')"
   ]
  },
  {
   "cell_type": "code",
   "execution_count": null,
   "id": "ba8fa462",
   "metadata": {},
   "outputs": [],
   "source": [
    "#코딩별 계단 별자리가 점점 커지고 있습니다. \n",
    "#입력한 수에 따라 계단 별자리를 자동으로 출력하는 프로그램을 작성해 보세요. \n",
    "#3을 입력하면 3층짜리, 5를 입력하면 5층짜리 계단 별자리가 나타나도록 말이죠.\n",
    "n = int(input())\n",
    "\n",
    "for i in range(n):\n",
    "    for _ in range(i + 1):\n",
    "        print('*', end='')\n",
    "\n",
    "    print('')\n",
    "    "
   ]
  },
  {
   "cell_type": "code",
   "execution_count": null,
   "id": "d25d5ef2",
   "metadata": {},
   "outputs": [],
   "source": [
    "#‘I Love Python’을 한 줄에 하나씩 세 번 출력하는 코드를 작성해 보세요.\n",
    "for i in range(3):\n",
    "    print(\"I Love Python!\")"
   ]
  },
  {
   "cell_type": "code",
   "execution_count": null,
   "id": "5c0c1330",
   "metadata": {},
   "outputs": [],
   "source": [
    "#for-range()를 이용해서 19단을 전부 출력해봅시다!\n",
    "\n",
    "for i in range(1,20):\n",
    "    print(\"19 *\",i,\"=\",19*(i))"
   ]
  },
  {
   "cell_type": "code",
   "execution_count": null,
   "id": "dcf1b00b",
   "metadata": {},
   "outputs": [],
   "source": [
    "#range() 함수를 사용해 100까지 한번에 세는 반복문을 작성해 보세요!\n",
    "for i in range(1, 101):\n",
    "    print(i)"
   ]
  },
  {
   "cell_type": "code",
   "execution_count": null,
   "id": "75956cda",
   "metadata": {},
   "outputs": [],
   "source": [
    "## 변수 mix에서 쌀의 개수가 몇 개가 있는지 확인해보고, 이를 출력해봅시다.\n",
    "mix = \"쌀씰쌀쌀씰쌀씰쌀씰쌀쌀씰쌀씰쌀씰쌀쌀씰쌀씰쌀씰쌀쌀씰쌀씰쌀씰쌀쌀씰쌀씰쌀씰쌀쌀씰쌀씰쌀씰쌀쌀씰쌀씰쌀씰쌀쌀씰쌀씰쌀씰쌀쌀씰쌀씰쌀씰쌀쌀씰쌀씰쌀씰쌀쌀씰쌀씰쌀씰쌀쌀씰쌀씰쌀씰쌀쌀씰쌀씰쌀씰쌀쌀씰쌀씰쌀씰쌀쌀씰쌀씰쌀씰쌀쌀씰쌀씰쌀씰쌀쌀씰쌀씰쌀씰쌀쌀씰쌀씰쌀씰쌀쌀씰쌀씰쌀씰쌀쌀씰쌀씰\"\n",
    "\n",
    "count=0\n",
    "\n",
    "for i in mix:\n",
    "    if i=='쌀':\n",
    "        count+=1\n",
    "\n",
    "print(count)"
   ]
  },
  {
   "cell_type": "code",
   "execution_count": null,
   "id": "a0ca48c8",
   "metadata": {},
   "outputs": [],
   "source": []
  }
 ],
 "metadata": {
  "kernelspec": {
   "display_name": "Python 3 (ipykernel)",
   "language": "python",
   "name": "python3"
  },
  "language_info": {
   "codemirror_mode": {
    "name": "ipython",
    "version": 3
   },
   "file_extension": ".py",
   "mimetype": "text/x-python",
   "name": "python",
   "nbconvert_exporter": "python",
   "pygments_lexer": "ipython3",
   "version": "3.10.2"
  }
 },
 "nbformat": 4,
 "nbformat_minor": 5
}
