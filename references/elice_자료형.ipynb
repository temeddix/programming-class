{
 "cells": [
  {
   "cell_type": "code",
   "execution_count": null,
   "id": "3245e0be",
   "metadata": {},
   "outputs": [],
   "source": [
    "# 변수 connect_str를 선언하고, 연결 연산자를 이용해서 '덩덕쿵덕'를 넣어봅시다.\n",
    "connect_str = '덩덕'+'쿵덕'\n",
    "\n",
    "# 변수 iterate_str를 선언하고 반복 연산자를 이용해서 '쿵덕쿵덕'을 넣어봅시다.\n",
    "iterate_str = '쿵덕'*2\n",
    "\n",
    "# 위 두 변수를 이용해서 '덩덕쿵덕쿵덕쿵덕덩덕쿵덕쿵덕쿵덕'을 변수 jajinmori에 넣어봅시다\n",
    "jajinmori = (connect_str+iterate_str)*2"
   ]
  },
  {
   "cell_type": "code",
   "execution_count": null,
   "id": "cc6e436f",
   "metadata": {},
   "outputs": [],
   "source": [
    "#dahyun가 가지고 있는 보석 중에 특별히 빛나는 보석이 있어요! 이를 훔쳐볼까요?\n",
    "dahyun = ['은', '은', '다이아몬드', '은', '은', '은', '은', '은']\n",
    "\n",
    "#이 가방에 한번 넣어봅시다!\n",
    "stealBag1 = dahyun[2]\n",
    "\n",
    "#tzuyu는 금빛 보석을 많이 가지고 있네요! 이도 한번 훔쳐볼까요?\n",
    "tzuyu = ['은', '은', '은', '은', '금', '금', '금', '은', '은', '은']\n",
    "\n",
    "#이 가방에 한번 넣어봅시다!\n",
    "stealBag2 = tzuyu[4:7]\n",
    "\n",
    "#여러분이 훔쳐온 보석은 무엇인지 print()를 이용해서 한번 확인해보세요!\n",
    "print('dahyun로부터 훔쳐온 보석은', stealBag1)\n",
    "print('tzuyu로부터 훔쳐온 보석은', stealBag2)"
   ]
  },
  {
   "cell_type": "code",
   "execution_count": null,
   "id": "d82ebd10",
   "metadata": {},
   "outputs": [],
   "source": [
    "# Q1. == 혹은 != 연산자을 이용해서 True인 명제를 ans1에 넣어봅시다.\n",
    "ans1 = 1!=0\n",
    "\n",
    "# Q2. > 혹은 < 연산자를 이용해서 False인 명제를 ans2에 넣어봅시다.\n",
    "ans2 = 2<1\n",
    "\n",
    "# Q3. >= 혹은 <= 연산자를 이용해서 True인 명제를 ans3에 넣어봅시다.\n",
    "ans3 = 2<=3\n",
    "\n",
    "# 위의 세 변수를 출력해서 True, False 여부를 확인해봅시다.\n",
    "print(ans1, ans2, ans3)"
   ]
  },
  {
   "cell_type": "code",
   "execution_count": null,
   "id": "6275b2fd",
   "metadata": {},
   "outputs": [],
   "source": [
    "# 괄호 안에 적절한 명제를 채워 stat1이 True가 되게 해봅시다.\n",
    "stat1 = 3==3 and 2<4 and (1!=0)\n",
    "\n",
    "# 괄호 안에 적절한 명제를 채워 stat2이 False가 되게 해봅시다.\n",
    "stat2 = 4>=6 or \"apple\"==\"Apple\" or (1==0) \n",
    "\n",
    "# 괄호 안에 적절한 명제를 채워 stat3이 True가 되게 해봅시다.\n",
    "stat3 = not (1==0)\n",
    "\n",
    "# 위의 세 변수를 출력해서 True, False 여부를 확인해봅시다.\n",
    "\n",
    "print(stat1,stat2,stat3)"
   ]
  },
  {
   "cell_type": "code",
   "execution_count": null,
   "id": "31412bab",
   "metadata": {},
   "outputs": [],
   "source": [
    "# 빈 리스트 line_up이 있어요\n",
    "line_up = []\n",
    "\n",
    "# 거북이, 홍학, 토끼 순으로 도착했어요. 차례로 추가해 보세요\n",
    "line_up.append('거북이')\n",
    "line_up.append('홍학')\n",
    "line_up.append('토끼')\n",
    "\n",
    "\n",
    "\n",
    "# 줄을 잘 세웠는지 line_up을 출력해 확인해요\n",
    "print(line_up)\n"
   ]
  },
  {
   "cell_type": "code",
   "execution_count": null,
   "id": "e3fce5fb",
   "metadata": {},
   "outputs": [],
   "source": [
    "# 리스트 line_up에 거북이, 홍학, 토끼 순으로 줄을 서 있어요\n",
    "line_up = ['거북이', '홍학', '토끼']\n",
    "\n",
    "# 거북이와 홍학 사이에 도도새를 넣어 봐요\n",
    "line_up.insert(1,'도도새')\n",
    "\n",
    "# line_up을 출력해 도도새의 위치를 확인해 봐요\n",
    "print(line_up)"
   ]
  },
  {
   "cell_type": "code",
   "execution_count": null,
   "id": "c7130b9e",
   "metadata": {},
   "outputs": [],
   "source": [
    "# 리스트 line_up에 거북이, 도도새, 홍학, 토끼 순으로 줄을 서 있어요\n",
    "line_up = ['거북이', '도도새', '홍학', '토끼']\n",
    "\n",
    "# 새치기한 도도새를 line_up에서 쫓아내 봐요\n",
    "line_up.remove('도도새')\n",
    "\n",
    "# line_up을 출력해 도도새를 잘 쫓아냈는지 확인해 봐요\n",
    "print(line_up)"
   ]
  },
  {
   "cell_type": "code",
   "execution_count": null,
   "id": "e7c3527a",
   "metadata": {},
   "outputs": [],
   "source": [
    "# 리스트 line_up에 거북이, 홍학, 토끼 순으로 줄을 서 있어요\n",
    "line_up = ['거북이', '홍학', '토끼']\n",
    "\n",
    "# line_up을 사전순으로 정렬해 봐요\n",
    "line_up.sort()\n",
    "\n",
    "# 잘 정렬되었는지 출력해 보세요\n",
    "print(line_up)"
   ]
  },
  {
   "cell_type": "code",
   "execution_count": null,
   "id": "b3683b3f",
   "metadata": {},
   "outputs": [],
   "source": [
    "#dahyun의 가방 안에서 '다이아몬드'를 훔쳐볼까요?\n",
    "dahyun = ['은', '은', '은', '은', '은', '은', '은', '은', '은', '은', '은', '은', '은', '은', '은', '은', '은', '은', '은', '은', '은', '은', '은', '은', '은', '은', '은', '은', '은', '은', '은', '은', '은', '은', '은', '은', '은', '은', '은', '은', '은', '은', '다이아몬드', '은']\n",
    "\n",
    "#이 가방에 한번 넣어봅시다!\n",
    "stealBag1 = dahyun[-2]\n",
    "\n",
    "#tzuyu는 가방 안 깊숙히 금을 13개 가지고 있네요! 이것들도 한번 훔쳐볼까요?\n",
    "tzuyu = ['은', '은', '은', '은', '은', '은', '은', '은', '은', '은', '은', '은', '은', '은', '은', '은', '은', '은','금', '금', '금', '금', '금', '금', '금', '금', '금', '금', '금', '금', '금' ]\n",
    "\n",
    "#이 가방에 한번 넣어봅시다!\n",
    "stealBag2 = tzuyu[-13:]\n",
    "\n",
    "#여러분이 훔쳐온 보석은 무엇인지 print()를 이용해서 한번 확인해보세요!\n",
    "print('dahyun로부터 훔쳐온 보석은', stealBag1)\n",
    "print('tzuyu로부터 훔쳐온 보석은', stealBag2)"
   ]
  },
  {
   "cell_type": "code",
   "execution_count": null,
   "id": "c10a5685",
   "metadata": {},
   "outputs": [],
   "source": [
    "# 리스트 ['Apple', 'Banana', 'Chamwae', 'Durian']을 담아 주세요\n",
    "my_list =['Apple', 'Banana', 'Chamwae', 'Durian']\n",
    "\n",
    "# 'Egg'가 my_list에 들어 있는지 확인하고, 그 결과를 넣어 주세요\n",
    "my_var = 'Egg' in my_list"
   ]
  },
  {
   "cell_type": "code",
   "execution_count": null,
   "id": "b6354a3e",
   "metadata": {},
   "outputs": [],
   "source": [
    "# 문자열 'Impossible'을 담아 주세요\n",
    "my_str = 'Impossible'\n",
    "\n",
    "# len을 이용해 my_str의 길이를 넣어 주세요\n",
    "my_var = len(my_str)"
   ]
  },
  {
   "cell_type": "code",
   "execution_count": null,
   "id": "adfbbe81",
   "metadata": {},
   "outputs": [],
   "source": [
    "# 리스트에 [3, 6, 9]가 담겨 있어요\n",
    "my_list = [3, 6, 9]\n",
    "\n",
    "# [3, 6, 9]를 3번 반복한 리스트를 담아 주세요\n",
    "my_var = my_list*3"
   ]
  },
  {
   "cell_type": "code",
   "execution_count": null,
   "id": "7cf169f2",
   "metadata": {},
   "outputs": [],
   "source": [
    "# 엘리스 토끼가 강화 무기에 넣고 싶은 내용을 item1, item2, item3에 적었어요\n",
    "item1 = '완전 좋고'\n",
    "item2 = '빛나며'\n",
    "item3 = '손에 착착 감기는'\n",
    "\n",
    "# item1, item2, item3을 이어 붙여서 무기를 만들어 보세요\n",
    "weapon = item1+\" \"+ item2+\" \" +item3 +\" 무기\"\n",
    "\n",
    "# 만든 무기 weapon을 출력해 확인해요\n",
    "print(weapon)"
   ]
  },
  {
   "cell_type": "code",
   "execution_count": null,
   "id": "b39b1696",
   "metadata": {},
   "outputs": [],
   "source": [
    "# 기차에 승객이 3명 있어요\n",
    "train = ['성진', '찬경', '준영']\n",
    "\n",
    "# 서울역: 승객 '주아'를 맨 뒤에 태우세요\n",
    "train.append('주아')\n",
    "print('서울역 도착. // ', train)\n",
    "\n",
    "# 대전역: 1등석 승객 '동빈'을 맨 앞에 태우세요\n",
    "train.insert(0,'동빈')\n",
    "print('대전역 도착. // ', train)\n",
    "\n",
    "# 부산역: 종착역이니 사전순으로 정렬해 주세요\n",
    "train.sort()\n",
    "print('부산역 도착. // ', train)\n",
    "print('오늘도 코딩별 기차를 이용해 주셔서 감사합니다.')"
   ]
  },
  {
   "cell_type": "code",
   "execution_count": null,
   "id": "7a03f8b8",
   "metadata": {},
   "outputs": [],
   "source": [
    "# 도마뱀 빌이 장바구니에 담은 과일 리스트입니다\n",
    "fruits = ['바나나', '딸기', '두리안', '망고']\n",
    "\n",
    "# '딸기'가 fruits 안에 들어 있다면 지우고, 없다면 메시지를 출력하세요\n",
    "if '딸기' in fruits :\n",
    "    fruits.remove('딸기')\n",
    "else:\n",
    "    print('딸기는 fruits안에 없습니다.')"
   ]
  },
  {
   "cell_type": "code",
   "execution_count": null,
   "id": "3e05fc6b",
   "metadata": {},
   "outputs": [],
   "source": [
    "# my_list에 리스트 원소가 들어 있어요\n",
    "my_list = [1, 2, 2, 3, 3, 3]\n",
    "\n",
    "# my_list 안에 있는 원소 3의 개수를 변수에 저장하세요\n",
    "var =my_list.count(3)\n",
    "\n",
    "# my_list가 [1, 2, 3]이 되도록 소괄호 안에 숫자를 입력해 원소 2와 3을 지워 주세요\n",
    "my_list.pop(1)\n",
    "my_list.pop(2) \n",
    "my_list.pop(2) "
   ]
  },
  {
   "cell_type": "code",
   "execution_count": null,
   "id": "59bab250",
   "metadata": {},
   "outputs": [],
   "source": [
    "# 리스트 ['Seeing', 'is', 'Believing']을 변수에 저장하세요\n",
    "my_list =['Seeing', 'is', 'Believing']\n",
    "\n",
    "# my_list의 원소를 공백('')을 접착 문자열로 붙여서 var에 담아 주세요\n",
    "var =' '.join(my_list)"
   ]
  },
  {
   "cell_type": "code",
   "execution_count": null,
   "id": "97d62ada",
   "metadata": {},
   "outputs": [],
   "source": [
    "# 우리 민요 군밤 타령의 가사\n",
    "lyrics = '바람이,분다,바람이,불어,연평,바다에,어허어얼싸,돈바람,분다,얼싸,좋네,아,좋네,군밤이요,에헤라,생률,밤이로구나,달도,밝다,달도,밝아,우주,강산에,어허어얼싸,저,달이,밝아,얼싸,좋네,아,좋네,군밤이요,에헤라,생률,밤이로구나'\n",
    "\n",
    "# 쉼표(,)를 기준으로 쪼개어 리스트로 만들고 변수에 저장해 주세요\n",
    "lyrics_list =lyrics.split(\",\")\n",
    "\n",
    "# 17번째 가사를 인덱싱해 출력해 보세요\n",
    "print(lyrics_list[16])"
   ]
  },
  {
   "cell_type": "code",
   "execution_count": null,
   "id": "5920dae7",
   "metadata": {},
   "outputs": [],
   "source": [
    "# 1, 2, 3, 4, 5를 튜플 자료형으로 저장해 보세요\n",
    "my_tuple =1,2,3,4,5\n",
    "\n",
    "# my_tuple을 인덱싱해 인덱스 2의 원소를 담아 보세요\n",
    "var1 =my_tuple[2]\n",
    "\n",
    "# my_tuple을 슬라이싱하여 원소 1, 2, 3을 담아 보세요\n",
    "var2 =my_tuple[:3]\n",
    "\n",
    "# my_tuple의 길이를 담아 보세요\n",
    "var3 =len(my_tuple)"
   ]
  },
  {
   "cell_type": "code",
   "execution_count": null,
   "id": "3fef8114",
   "metadata": {},
   "outputs": [],
   "source": [
    "# '사과'와 'apple', '바나나’와 'banana', '당근'과 'carrot'을 짝을 지어 넣어 주세요\n",
    "my_dict = {'사과':'apple', '바나나':'banana', '당근':'carrot'}\n",
    "\n",
    "# 사과를 영어로 뭐라고 하는지 my_dict에서 찾아 저장해요\n",
    "my_var =my_dict['사과']\n",
    "\n",
    "# 당근은 싫어요! my_dict에서 당근-carrot을 찾아 삭제하세요\n",
    "del my_dict['당근']\n",
    "\n",
    "# 체리는 좋아요! my_dict에 체리-cherry를 추가해요\n",
    "my_dict['체리'] ='cherry'"
   ]
  },
  {
   "cell_type": "code",
   "execution_count": null,
   "id": "7d352600",
   "metadata": {},
   "outputs": [],
   "source": [
    "jeju_word = ['혼저 옵서', '지꺼지게', '놀당 갑서양']\n",
    "\n",
    "# Key = 제주 방언, Value = 표준어인 딕셔너리를 만들어 주세요\n",
    "jeju_dict =dict(zip(jeju_word, ['어서오세요','즐겁게','놀다 가세요']))\n",
    "\n",
    "# jeju_word에 담긴 제주 방언의 표준어를 한 줄에 하나씩 출력하는 반복문을 완성하세요\n",
    "for i in jeju_word:\n",
    "    print(jeju_dict[i])\n"
   ]
  }
 ],
 "metadata": {
  "kernelspec": {
   "display_name": "Python 3 (ipykernel)",
   "language": "python",
   "name": "python3"
  },
  "language_info": {
   "codemirror_mode": {
    "name": "ipython",
    "version": 3
   },
   "file_extension": ".py",
   "mimetype": "text/x-python",
   "name": "python",
   "nbconvert_exporter": "python",
   "pygments_lexer": "ipython3",
   "version": "3.10.2"
  }
 },
 "nbformat": 4,
 "nbformat_minor": 5
}
