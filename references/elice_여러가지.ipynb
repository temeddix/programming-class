{
 "cells": [
  {
   "cell_type": "code",
   "execution_count": null,
   "id": "ccfab17b",
   "metadata": {},
   "outputs": [],
   "source": [
    "#count와 while문을 활용하여 10부터 1까지 거꾸로 숫자를 세어 보세요.\n",
    "count = 10\n",
    "\n",
    "while count > 0:\n",
    "    print(count)\n",
    "    count -= 1"
   ]
  },
  {
   "cell_type": "code",
   "execution_count": null,
   "id": "8a5df3e1",
   "metadata": {},
   "outputs": [],
   "source": [
    "#한글로 된 임의의 길이의 문자열을 입력시 그 길이만큼 “개굴”을 출력하도록 하세요. \n",
    "#단, 공백은 그대로 유지되어야 하며 줄바꿈 없이 출력하세요.\n",
    "# 예를들어, input 입력 : 안녕 나는 엘리스야\n",
    "#결과 : 개굴개굴 개굴개굴 개굴개굴개굴개굴\n",
    "ipt = input()\n",
    "\n",
    "for elem in ipt:\n",
    "    if elem != \" \":\n",
    "        print(\"개굴\", end=\"\")\n",
    "    else:\n",
    "        print(\" \", end=\"\")"
   ]
  },
  {
   "cell_type": "code",
   "execution_count": null,
   "id": "b9f270e1",
   "metadata": {},
   "outputs": [],
   "source": [
    "#frogList에 담긴 문자열 중 ‘F’로 시작하는 값을 return 하는 \n",
    "#isPrince 함수를 동작하도록 작성하기\n",
    "#(단, frogList에는 반드시 F으로 시작하는 이름이 하나 들어있습니다.)\n",
    "\n",
    "def isPrince(frogList): \n",
    "    for nm in frogList:\n",
    "        if(nm[0]==\"F\") : return(nm)\n",
    "    \n",
    "\n",
    "print(isPrince(['Alice', 'Bob', 'Frog']))"
   ]
  },
  {
   "cell_type": "code",
   "execution_count": null,
   "id": "a1c9f896",
   "metadata": {},
   "outputs": [],
   "source": [
    "#세 줄에 걸쳐 정수 3개가 입력됩니다.\n",
    "#세 정수 중 중간값을 출력합니다.\n",
    "n = []\n",
    "for i in range(3):\n",
    "    n.append(input())\n",
    "n = list(map(int,n))\n",
    "n.sort()\n",
    "\n",
    "print((n[1]))"
   ]
  },
  {
   "cell_type": "code",
   "execution_count": null,
   "id": "46e0773f",
   "metadata": {},
   "outputs": [],
   "source": [
    "#어떤 자연수 n이 소수라면 \"소수입니다.\" 를, 소수가 아니라면 \"소수가 아닙니다.\"를 출력하세요.\n",
    "\n",
    "n = int(input())\n",
    "\n",
    "is_prime = True\n",
    "for i in range(2, n):\n",
    "    if n % i == 0:\n",
    "        is_prime = False\n",
    "\n",
    "if n < 2:\n",
    "    is_prime = False\n",
    "\n",
    "if is_prime:\n",
    "    print('소수입니다.')\n",
    "else:\n",
    "    print('소수가 아닙니다.')"
   ]
  },
  {
   "cell_type": "code",
   "execution_count": null,
   "id": "2b53eabe",
   "metadata": {},
   "outputs": [],
   "source": [
    "#특정 구구단의 단수의 구구단을 출력하세요.\n",
    "#입력받은 N단의 결과값을 각 줄마다 출력합니다.(2<=N<=9)\n",
    "N = int(input())\n",
    "for i in range(1, 10) :\n",
    "    print(N * i)"
   ]
  },
  {
   "cell_type": "code",
   "execution_count": null,
   "id": "bb4e4890",
   "metadata": {},
   "outputs": [],
   "source": [
    "#숫자들이 입력되면 짝이 없는 숫자를 찾아내서 출력하는 함수를 작성해보세요.\n",
    "#숫자가 같다면 짝을 이룬 것으로 생각합니다.\n",
    "#첫 줄에는 숫자들이 리스트 values에 공백으로 구분되어 입력됩니다. \n",
    "#숫자의 개수는 항상 홀수입니다.\n",
    "#입력되는 숫자는 0 이상 9 이하입니다.\n",
    "# 입력 : 1 1 2 3 3 4 4 5 5\n",
    "# 결과 : 2\n",
    "\n",
    "values = [int(v) for v in input().split()]\n",
    "\n",
    "count = [0] * 10\n",
    "\n",
    "for v in values :\n",
    "    count[v] += 1\n",
    "\n",
    "for i in range(len(count)) :\n",
    "    if count[i] == 1 :\n",
    "        print(i)"
   ]
  },
  {
   "cell_type": "code",
   "execution_count": null,
   "id": "9d9eb5ee",
   "metadata": {},
   "outputs": [],
   "source": [
    "#문자열을 입력받으면 아래와 같이 부분 문자열을 모두 출력하는 함수를 작성하세요.\n",
    "#예를 들어 ABC가 입력되면\n",
    "#결과 \n",
    "#A\n",
    "#AB\n",
    "#ABC\n",
    "\n",
    "s=input()\n",
    "\n",
    "for t in range(0,len(s)) : \n",
    "    print(s[:(t+1)])"
   ]
  },
  {
   "cell_type": "code",
   "execution_count": null,
   "id": "14302c62",
   "metadata": {},
   "outputs": [],
   "source": [
    "#입력된 값들의 평균과 평균 초과의 값들을 출력하는 함수를 만듭니다.\n",
    "#입력 : 리스트 values에 수학 점수들이 공백으로 구분되어 입력됩니다\n",
    "#1 2 3 4 5 6 7 8 9 10\n",
    "#결과 :  (5.5, [6, 7, 8, 9, 10])\n",
    "def solve(values) :\n",
    "\n",
    "    mean = sum(values) / len(values)\n",
    "    \n",
    "    result = []\n",
    "    for v in values :\n",
    "        if v > mean :\n",
    "            result.append(v)\n",
    "            \n",
    "    return mean, result\n",
    "\n",
    "values = [int(v) for v in input().split()]\n",
    "solve(values)"
   ]
  },
  {
   "cell_type": "code",
   "execution_count": null,
   "id": "e01fb263",
   "metadata": {},
   "outputs": [],
   "source": [
    "#엘리스가 지금 쓰고 있는 모자의 고유번호인 정수 N이 입력됩니다.\n",
    "#선물로 받을 모자의 고유번호로서, N의 약수의 합을 출력합니다.\n",
    "\n",
    "def solve(N) :\n",
    "    result = []\n",
    "    for i in range(1, n+1) :\n",
    "        if n % i == 0 :\n",
    "\n",
    "            result.append(i)\n",
    "            \n",
    "    return sum(result)"
   ]
  }
 ],
 "metadata": {
  "kernelspec": {
   "display_name": "Python 3 (ipykernel)",
   "language": "python",
   "name": "python3"
  },
  "language_info": {
   "codemirror_mode": {
    "name": "ipython",
    "version": 3
   },
   "file_extension": ".py",
   "mimetype": "text/x-python",
   "name": "python",
   "nbconvert_exporter": "python",
   "pygments_lexer": "ipython3",
   "version": "3.10.2"
  }
 },
 "nbformat": 4,
 "nbformat_minor": 5
}
