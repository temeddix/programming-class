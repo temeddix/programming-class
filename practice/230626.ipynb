{
 "cells": [
  {
   "cell_type": "code",
   "execution_count": null,
   "id": "4a92f0d4",
   "metadata": {},
   "outputs": [],
   "source": [
    "3+3"
   ]
  },
  {
   "cell_type": "code",
   "execution_count": null,
   "id": "308fbe24",
   "metadata": {},
   "outputs": [],
   "source": [
    "3-3"
   ]
  },
  {
   "cell_type": "code",
   "execution_count": null,
   "id": "481f435e",
   "metadata": {},
   "outputs": [],
   "source": [
    "a=\"hello\""
   ]
  },
  {
   "cell_type": "code",
   "execution_count": null,
   "id": "acd0313f",
   "metadata": {},
   "outputs": [],
   "source": [
    "a"
   ]
  }
 ],
 "metadata": {
  "kernelspec": {
   "display_name": "Python 3 (ipykernel)",
   "language": "python",
   "name": "python3"
  },
  "language_info": {
   "codemirror_mode": {
    "name": "ipython",
    "version": 3
   },
   "file_extension": ".py",
   "mimetype": "text/x-python",
   "name": "python",
   "nbconvert_exporter": "python",
   "pygments_lexer": "ipython3",
   "version": "3.11.4"
  }
 },
 "nbformat": 4,
 "nbformat_minor": 5
}
