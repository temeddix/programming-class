{
 "cells": [
  {
   "cell_type": "markdown",
   "metadata": {},
   "source": [
    "Q1. 콩주머니 47개를 6명에게 나누어 줄려고 합니다. 47를 6으로 나누어 소수점 2째자리까지 표현해 보세요. \n",
    "    \n",
    "    *round(숫자1, 숫자2) : 숫자1를 숫자2 자리까지 반올림, 숫자2가 0은 1의 자리, 1은 0.1, 2는 0.01의 자리, -1은 10의 자리를 의미함"
   ]
  },
  {
   "cell_type": "markdown",
   "metadata": {},
   "source": [
    "Q2. 콩주머니 47개를 6명에 똑같이 나누어 주려고 합니다. 한명에게 몇개씩 줄 수 있고, 몇개가 남을까요? "
   ]
  },
  {
   "cell_type": "markdown",
   "metadata": {},
   "source": [
    "Q3. 100.0과 0.01를 e를 이용하여 10의 제곱승으로 표현할 수 있다. 100.0은 1e2 , 0.01은 1e-2이다.\n",
    "\n",
    "    이를 이용하여 20000.0과 0.0002를 표현해보아라."
   ]
  },
  {
   "cell_type": "markdown",
   "metadata": {},
   "source": [
    "Q4.str1의 변수에 \"Welcome to\"을 입력하고, opt_str에 \"SeoulSydneyBeijingNashville\"을 입력한 뒤 다음 4개의 문장을 만들어라.\n",
    "\n",
    "    Welcome to Seoul\n",
    "\n",
    "    Welcome to Sydney\n",
    "\n",
    "    Welcome to Beijing\n",
    "\n",
    "    Welcome to Nashville"
   ]
  },
  {
   "cell_type": "markdown",
   "metadata": {},
   "source": [
    "Q5. A학생 점수 40, B학생 점수 55점을 A와 B 변수에 입력한 후 다음 문장을 문자열 포매팅을 이용하여 완성하라.\n",
    "\n",
    "    A학생 점수는 40점이고, B학생 점수는 55점입니다. 두 학생의 평균은 47.5점 입니다."
   ]
  },
  {
   "cell_type": "markdown",
   "metadata": {},
   "source": [
    "Q6. 3명의 학생에 대한 점수를 다음과 같이 얻었다. 70,88,50\n",
    "\n",
    "    이를 리스트형으로 score라는 변수에 입력하고, 평균, 최소값, 최대값을 구하여라."
   ]
  },
  {
   "cell_type": "markdown",
   "metadata": {},
   "source": [
    "Q7. 5명의 학생에 대한 점수를 다음과 같이 얻었다. 70,88,50,91,67\n",
    "\n",
    "이를 리스트형으로 score라는 변수에 입력하였다. 그런데, 이 중 50점을 받은 학생이 본인의 점수를 삭제해 달라고 요청해왔다. \n",
    "\n",
    "삭제 명령을 사용하여 50점을 지워라."
   ]
  },
  {
   "cell_type": "markdown",
   "metadata": {},
   "source": [
    "Q8. 6개의 색깔 문자열 'Black', 'Blue', 'Green', 'Orange', 'Red', 'Yellow'을 집합형으로 입력하고 변수 color라 하자.\n",
    "  \n",
    "6개의 색깔 문자열에 쓰인 알파벳을 대소문자 구분없이 유니크(unique)하게 찾고 싶다. (예를들어 모두 소문자로 바꾼후 찾는다든지...)\n",
    "\n",
    "적당한 방법으로 찾아보아라."
   ]
  },
  {
   "cell_type": "markdown",
   "metadata": {},
   "source": [
    "Q9.다음과 같은 자료를 dic 변수에 딕셔너리형으로 작성하고, value의 평균, min,max 값을 구하여라.\n",
    "\n",
    "|Key  |Value|\n",
    "|-----|-----|\n",
    "|Id_01| 90  |         \n",
    "|Id_02| 87  |\n",
    "|Id_03|93   |\n",
    "|Id_04|78   |\n",
    "|Id_05|91   |"
   ]
  },
  {
   "cell_type": "markdown",
   "metadata": {},
   "source": [
    "Q10.다음과 같은 자료를 dic 변수에 딕셔너리형으로 작성하라.\n",
    "\n",
    "|Key  |Value|\n",
    "|-----|-----|\n",
    "|Id_01| 90  |         \n",
    "|Id_02| 87  |\n",
    "|Id_03|93   |\n",
    "|Id_04|78   |\n",
    "|Id_05|91   |\n",
    " \n",
    " 또한, 다음과 같은 자료를 dic1 변수에 딕셔너리형으로 작성하라.\n",
    " \n",
    "|Key  |Value|\n",
    "|-----|-----|\n",
    "|Id_06| 100 |         \n",
    "|Id_07| 50  |  \n",
    " \n",
    " 그리고, dic 변수에 dic1 변수의 내용을 추가하여라. "
   ]
  },
  {
   "cell_type": "markdown",
   "metadata": {},
   "source": [
    "Q11. 3명의 학생 ID1, ID2, ID3 이 있다. 2번의 시험을 봐서 score1, score2를 얻었다. \n",
    "\n",
    "(1) ID라는 변수에는 'ID1','ID2','ID3'가 요소값으로 하는 리스트 자료형을, \n",
    "score 라는 변수에는 [10,30],[50,26],[60,87] 를 요소값으로 하는 리스트 자료형을 생성하라. \n",
    "또한, 두 score의 값을 합(sum)하여 total 이라는 변수에 3개의 요소값을 갖는 자료형을 생성하라. 단, 직접 손으로 계산하지 않고, map을 사용한다. \n",
    "\n",
    "(2) 최종적으로 3개의 변수를 모아 나오는 결과값이 [('ID1', [10, 30], 40), ('ID2', [50, 26], 76), ('ID3', [60, 87], 147)] 가 되도록 한다.\n",
    "\n",
    "|ID   |score1|score2|\n",
    "|-----|-----|-------|\n",
    "|ID1  | 10  | 30    |  \n",
    "|ID2  | 50  | 26    |\n",
    "|ID3  | 60  | 87    |"
   ]
  }
 ],
 "metadata": {
  "kernelspec": {
   "display_name": "Python 3 (ipykernel)",
   "language": "python",
   "name": "python3"
  },
  "language_info": {
   "codemirror_mode": {
    "name": "ipython",
    "version": 3
   },
   "file_extension": ".py",
   "mimetype": "text/x-python",
   "name": "python",
   "nbconvert_exporter": "python",
   "pygments_lexer": "ipython3",
   "version": "3.10.2"
  }
 },
 "nbformat": 4,
 "nbformat_minor": 2
}
