{
 "cells": [
  {
   "cell_type": "markdown",
   "metadata": {},
   "source": [
    "## 6.pandas\n",
    "  - Numpy의 배열기반 스타일이나, \n",
    "  - 차이점은 표 형식의 데이터나 다양한 형태의 데이터를 다루는 데 초점을 맞춰 설계\n",
    "  \n",
    "  - Install : cmd에서 pip install pandas\n",
    "  - import pandas as pd : pd.Series로 사용"
   ]
  },
  {
   "cell_type": "code",
   "execution_count": null,
   "metadata": {},
   "outputs": [],
   "source": [
    "import pandas as pd\n",
    "obj = pd.Series([4,7,-5,3])\n",
    "obj"
   ]
  },
  {
   "cell_type": "markdown",
   "metadata": {},
   "source": [
    "### 6.1. Series\n",
    "\n",
    "- 일련의 객체를 담을 수 있는 1차원 배열같은 자료 구조 \n",
    "- 왼쪽이 index, 오른쪽이 value 값\n",
    "- 위 예제에서 index는 [0,1,2,3] , values는 [4,7,-5,3]"
   ]
  },
  {
   "cell_type": "code",
   "execution_count": null,
   "metadata": {},
   "outputs": [],
   "source": [
    "obj.index  #index 리턴"
   ]
  },
  {
   "cell_type": "code",
   "execution_count": null,
   "metadata": {},
   "outputs": [],
   "source": [
    "obj.values  #value 리턴"
   ]
  },
  {
   "cell_type": "markdown",
   "metadata": {},
   "source": [
    "Q1.value가 [4,7,-5,3]이고 index가 ['d','b','a','c'] 인 series 을 생성하시오. "
   ]
  },
  {
   "cell_type": "code",
   "execution_count": null,
   "metadata": {},
   "outputs": [],
   "source": [
    "obj=pd.Series([4,7,-5,3],index=['d','b','a','c'])\n",
    "obj"
   ]
  },
  {
   "cell_type": "markdown",
   "metadata": {},
   "source": [
    "Q2. index가 'a'인 value의 값은?"
   ]
  },
  {
   "cell_type": "code",
   "execution_count": null,
   "metadata": {},
   "outputs": [],
   "source": [
    "obj['a']   # index가 'a'인 value"
   ]
  },
  {
   "cell_type": "markdown",
   "metadata": {},
   "source": [
    "Q3. index가 'a','b'인 value의 값은?"
   ]
  },
  {
   "cell_type": "code",
   "execution_count": null,
   "metadata": {},
   "outputs": [],
   "source": [
    "obj[['a','b']] #index가 'a','b'의 value"
   ]
  },
  {
   "cell_type": "markdown",
   "metadata": {},
   "source": [
    "Q4. value가 0보다 큰 값들은?"
   ]
  },
  {
   "cell_type": "code",
   "execution_count": null,
   "metadata": {},
   "outputs": [],
   "source": [
    "#obj>0\n",
    "obj[obj>0] #obj가 0보다 큰 값의 value"
   ]
  },
  {
   "cell_type": "markdown",
   "metadata": {},
   "source": [
    "Q5.{'Ohio': 35000, 'Texas': 71000, 'Oregon': 16000, 'Utah': 5000} 딕셔너리 자료형을 만들고, 딕셔너리의 key를 index로 하는 series을 생성하시오."
   ]
  },
  {
   "cell_type": "code",
   "execution_count": null,
   "metadata": {},
   "outputs": [],
   "source": [
    "sdata={'Ohio':35000,'Texas':71000,'Oregon':16000,'Utah':5000} #딕셔너리 자료형\n",
    "sdata"
   ]
  },
  {
   "cell_type": "code",
   "execution_count": null,
   "metadata": {},
   "outputs": [],
   "source": [
    "obj=pd.Series(sdata) # pandas의 Series로 key를 index로 하는 자료형 \n",
    "obj"
   ]
  },
  {
   "cell_type": "markdown",
   "metadata": {},
   "source": [
    "Q6. [4,7,-5,3] 인 series을 만들고 나서, index을 바꿀려고 한다. \n",
    "    기존의 [0,1,2,3] index을 ['Bob','Steve','Jeff','Ryan']로 바꾸시오."
   ]
  },
  {
   "cell_type": "code",
   "execution_count": null,
   "metadata": {},
   "outputs": [],
   "source": [
    "obj=pd.Series([4,7,-5,3])\n",
    "obj.index=['Bob','Steve','Jeff','Ryan'] #index 이름을 대입하여 변경\n",
    "obj"
   ]
  },
  {
   "cell_type": "markdown",
   "metadata": {},
   "source": [
    "Q7.value에 2을 더하시오."
   ]
  },
  {
   "cell_type": "code",
   "execution_count": null,
   "metadata": {},
   "outputs": [],
   "source": [
    "obj+2"
   ]
  },
  {
   "cell_type": "markdown",
   "metadata": {},
   "source": [
    "Q8. numpy로 array [10,11,12,13,14]와 [0,1,2,3,4]을 만들고 이를 series 형태로 바꾸어 각각 x,y라는 변수에 넣고 x+y을 계산하라."
   ]
  },
  {
   "cell_type": "code",
   "execution_count": null,
   "metadata": {},
   "outputs": [],
   "source": [
    "import numpy as np\n",
    "\n",
    "x = pd.Series(np.arange(10, 15))\n",
    "y = pd.Series(np.arange(0, 5))\n",
    "print(x)\n",
    "print(y)\n",
    "print(x + y)"
   ]
  },
  {
   "cell_type": "markdown",
   "metadata": {},
   "source": [
    "Q9. series 형태를 더할 때, index가 같은 것끼리 더해진다. 이를 알아보기 위해 위 x변수의 index을 ['x1', 'x2', 'x3', 'x4', 'x5'] , \n",
    "y변수의 index는 ['y1', 'y2', 'x3', 'x4', 'x5']로 바꿔 다시 x+y를 계산하라."
   ]
  },
  {
   "cell_type": "code",
   "execution_count": null,
   "metadata": {},
   "outputs": [],
   "source": [
    "x = pd.Series(np.arange(10, 15), index=['x1', 'x2', 'x3', 'x4', 'x5'])\n",
    "y = pd.Series(np.arange(0, 5), index=['y1', 'y2', 'x3', 'x4', 'x5'])\n",
    "print(x)\n",
    "print(y)\n",
    "print(x + y) # matching the index."
   ]
  },
  {
   "cell_type": "markdown",
   "metadata": {},
   "source": [
    "### 6.2.DataFrame\n",
    "\n",
    "- 표 같은 스프레드시트 형식의 자료구조\n",
    "- 여러개의 컬럼이 있는데, 서로 다른 종류의 자료형을 담을 수 있음. \n",
    "- 행과 열에 대한 index를 갖고 있음"
   ]
  },
  {
   "cell_type": "code",
   "execution_count": null,
   "metadata": {},
   "outputs": [],
   "source": [
    "data = {'state' : ['Ohio','Ohio','Ohio','Nevada','Nevada','Nevada'],\n",
    "        'year' : [2000,2001,2002,2001,2002,2003],\n",
    "        'pop' : [1.5,1.7,3.6,2.4,2.9,3.2]}\n",
    "data   "
   ]
  },
  {
   "cell_type": "code",
   "execution_count": null,
   "metadata": {},
   "outputs": [],
   "source": [
    "frame=pd.DataFrame(data)   #column에 대한 index 이름이 state,year, pop (변수이름으로 인식) 이고 row에 대한 index는 0~5\n",
    "frame"
   ]
  },
  {
   "cell_type": "markdown",
   "metadata": {},
   "source": [
    "Q10. 처음 5개의 row만 출력하라."
   ]
  },
  {
   "cell_type": "code",
   "execution_count": null,
   "metadata": {},
   "outputs": [],
   "source": [
    "frame.head() # 처음 5개의 row만 출력"
   ]
  },
  {
   "cell_type": "markdown",
   "metadata": {},
   "source": [
    "Q11. 컬럼 state만 선택하여 value을 확인하라."
   ]
  },
  {
   "cell_type": "code",
   "execution_count": null,
   "metadata": {},
   "outputs": [],
   "source": [
    "frame['state']  # 컬럼 변수"
   ]
  },
  {
   "cell_type": "markdown",
   "metadata": {},
   "source": [
    "Q12. 컬럼 state와 pop을 선택하여 value을 확인하라."
   ]
  },
  {
   "cell_type": "code",
   "execution_count": null,
   "metadata": {},
   "outputs": [],
   "source": [
    "frame[['state','pop']]  "
   ]
  },
  {
   "cell_type": "markdown",
   "metadata": {},
   "source": [
    "Q13.컬럼 이름을 순서대로 'a','b','c' 로 바꿔라."
   ]
  },
  {
   "cell_type": "code",
   "execution_count": null,
   "metadata": {},
   "outputs": [],
   "source": [
    "frame.columns "
   ]
  },
  {
   "cell_type": "code",
   "execution_count": null,
   "metadata": {},
   "outputs": [],
   "source": [
    "frame.columns = ['a','b','c'] #컬럼 갯수가 정확히 맞아야 함.\n",
    "frame"
   ]
  },
  {
   "cell_type": "markdown",
   "metadata": {},
   "source": [
    "Q14. 컬럼 이름 'a'만 'state'로 바꿔라. "
   ]
  },
  {
   "cell_type": "code",
   "execution_count": null,
   "metadata": {},
   "outputs": [],
   "source": [
    "frame.rename(columns = {\"a\": \"state\"}, inplace = True)\n",
    "frame"
   ]
  },
  {
   "cell_type": "markdown",
   "metadata": {},
   "source": [
    "Q15. row가 4번째인 value을 확인하라."
   ]
  },
  {
   "cell_type": "code",
   "execution_count": null,
   "metadata": {},
   "outputs": [],
   "source": [
    "frame.loc[3] #loc는 row의 index 지정 가능"
   ]
  },
  {
   "cell_type": "code",
   "execution_count": null,
   "metadata": {},
   "outputs": [],
   "source": [
    "frame.iloc[3]"
   ]
  },
  {
   "cell_type": "markdown",
   "metadata": {},
   "source": [
    "Q16. row의 index 값이 1,2인 value을 확인하라."
   ]
  },
  {
   "cell_type": "code",
   "execution_count": null,
   "metadata": {},
   "outputs": [],
   "source": [
    "frame[1:3] # row index (1,2)값 "
   ]
  },
  {
   "cell_type": "markdown",
   "metadata": {},
   "source": [
    "Q17. row의 index 값이 1,2이고 column이 'b','c'인 value을 확인하라."
   ]
  },
  {
   "cell_type": "code",
   "execution_count": null,
   "metadata": {},
   "outputs": [],
   "source": [
    "frame[1:3][['b','c']]"
   ]
  },
  {
   "cell_type": "markdown",
   "metadata": {},
   "source": [
    "Q18. row의 index 값을 기존의 [0,1,2,3,4,5]에서 ['id1','id2','id3','id4','id5','id6'] 로 바꿔라."
   ]
  },
  {
   "cell_type": "code",
   "execution_count": null,
   "metadata": {},
   "outputs": [],
   "source": [
    "frame.index=['id1','id2','id3','id4','id5','id6']  #row index 변경\n",
    "frame"
   ]
  },
  {
   "cell_type": "markdown",
   "metadata": {},
   "source": [
    "Q19. row의 index값 'id4'의 value을 확인하라."
   ]
  },
  {
   "cell_type": "code",
   "execution_count": null,
   "metadata": {},
   "outputs": [],
   "source": [
    "frame.loc['id4']"
   ]
  },
  {
   "cell_type": "code",
   "execution_count": null,
   "metadata": {},
   "outputs": [],
   "source": [
    "frame.iloc[1:3]"
   ]
  },
  {
   "cell_type": "code",
   "execution_count": null,
   "metadata": {},
   "outputs": [],
   "source": [
    "frame.iloc[3]   # frame.loc[3]은 error 발생 loc는 index 명을 , iloc는 내재된 정수 index 사용 가능"
   ]
  },
  {
   "cell_type": "markdown",
   "metadata": {},
   "source": [
    "Q20. frame에 debt라는 column 변수를 추가하고 value은 0,1,2,3,4,5의 값을 arange로 채워넣어라."
   ]
  },
  {
   "cell_type": "code",
   "execution_count": null,
   "metadata": {},
   "outputs": [],
   "source": [
    "frame['debt'] =np.arange(6) # 변수 추가 \n",
    "frame"
   ]
  },
  {
   "cell_type": "markdown",
   "metadata": {},
   "source": [
    "Q21. frame에서 state 라는 column 변수를 삭제하라."
   ]
  },
  {
   "cell_type": "code",
   "execution_count": null,
   "metadata": {},
   "outputs": [],
   "source": [
    "frame.drop('state' , axis=1) # column 변수 (axis=1) 'state' 삭제"
   ]
  },
  {
   "cell_type": "markdown",
   "metadata": {},
   "source": [
    "Q22. frame에서 id3라는 row를 삭제하라."
   ]
  },
  {
   "cell_type": "code",
   "execution_count": null,
   "metadata": {},
   "outputs": [],
   "source": [
    "frame.index=['id1','id2','id3','id4','id5','id6']\n",
    "frame.drop('id3') # row index 'id3' 삭제   frame.drop('id3',axis=0)"
   ]
  },
  {
   "cell_type": "markdown",
   "metadata": {},
   "source": [
    "Q23. frame에서 숫자형 변수 b,c,debt에 대한 기술통계자료를 얻어라."
   ]
  },
  {
   "cell_type": "code",
   "execution_count": null,
   "metadata": {},
   "outputs": [],
   "source": [
    "rs=frame.describe() #숫자형 변수에 대한 통계자료 \n",
    "rs"
   ]
  },
  {
   "cell_type": "markdown",
   "metadata": {},
   "source": [
    "Q24. 위 통계표에서 debt 변수의 std 값만 따로 구하시오."
   ]
  },
  {
   "cell_type": "code",
   "execution_count": null,
   "metadata": {},
   "outputs": [],
   "source": [
    "rs['debt'].loc['std']"
   ]
  },
  {
   "cell_type": "code",
   "execution_count": null,
   "metadata": {},
   "outputs": [],
   "source": [
    "frame['debt'].describe()['std']"
   ]
  },
  {
   "cell_type": "markdown",
   "metadata": {},
   "source": [
    "Q25. 다음과 같은 dataframe을 만들어라. (values는 arange 사용)\n",
    "\n",
    "|  |x1 |x2 |x3 |x4 |x5 |\n",
    "|--|---|---|---|---|---|\n",
    "|case1 | 10 | 11 |12 |13 |14\n",
    "|case2 | 0 | 1| 2| 3| 4| "
   ]
  },
  {
   "cell_type": "code",
   "execution_count": null,
   "metadata": {},
   "outputs": [],
   "source": [
    "x = pd.DataFrame(np.array([np.arange(10, 15), np.arange(0, 5)]), columns=['x1','x2','x3','x4','x5'], index=['case1', 'case2'])\n",
    "x   #columns 에는 변수명 , index는 row에 대한 index명 "
   ]
  },
  {
   "cell_type": "markdown",
   "metadata": {},
   "source": [
    "- Q) 다음의 data series에서 \n",
    "<pre>\n",
    "0      0           \n",
    "1      1            \n",
    "2      2           \n",
    "3      3           \n",
    "4      4           \n",
    "5      5           \n",
    "6      6           \n",
    "7      7           \n",
    "8      8           \n",
    "9      9           \n",
    "10    10           \n",
    "</pre>\n",
    "다음과 같은 일부분을 찾는 프로그램을 작성하시오.\n",
    "<pre>\n",
    "0    0           \n",
    "1    1           \n",
    "2    2           \n",
    "3    3           \n",
    "4    4           \n",
    "5    5      \n",
    "</pre>"
   ]
  },
  {
   "cell_type": "markdown",
   "metadata": {},
   "source": [
    "- Q) 다음의 data series을\n",
    "<pre>\n",
    "A    1               \n",
    "B    2               \n",
    "C    3               \n",
    "D    4               \n",
    "E    5               \n",
    "</pre>\n",
    "다음과 같이 index 순서를 바꾸는 프로그램을 작성하시오.\n",
    "(힌트) reindex(index=[index 순서])\n",
    "<pre>\n",
    "B    2               \n",
    "A    1               \n",
    "C    3               \n",
    "D    4               \n",
    "E    5               \n",
    "</pre>"
   ]
  },
  {
   "cell_type": "markdown",
   "metadata": {},
   "source": [
    "- Q) 다음의 data series의 value들의 sum을 구하시오. \n",
    "<pre>\n",
    "0    100.0             \n",
    "1    120.0             \n",
    "2    101.0             \n",
    "3      3.0             \n",
    "</pre>"
   ]
  },
  {
   "cell_type": "markdown",
   "metadata": {},
   "source": [
    "- Q) 다음의 딕셔너리 자료형으로 data frame을 만들고, col1이 4인 경우만 고르는 프로그램을 작성하라.\n",
    "\n",
    "{'col1': [1, 4, 3, 4, 5], 'col2': [4, 5, 6, 7, 8], 'col3': [7, 8, 9, 0, 1]}"
   ]
  },
  {
   "cell_type": "markdown",
   "metadata": {},
   "source": [
    "- Q) 위 딕셔너리 자료형 예제에서 col1이 4인 경우를 제거하는 프로그램을 작성하라."
   ]
  },
  {
   "cell_type": "markdown",
   "metadata": {},
   "source": [
    "- Q) 위 딕셔너리 자료형 예제에서 처음 3개만 선택하는 프로그램을 작성하라."
   ]
  }
 ],
 "metadata": {
  "kernelspec": {
   "display_name": "Python 3 (ipykernel)",
   "language": "python",
   "name": "python3"
  },
  "language_info": {
   "codemirror_mode": {
    "name": "ipython",
    "version": 3
   },
   "file_extension": ".py",
   "mimetype": "text/x-python",
   "name": "python",
   "nbconvert_exporter": "python",
   "pygments_lexer": "ipython3",
   "version": "3.10.2"
  }
 },
 "nbformat": 4,
 "nbformat_minor": 2
}
