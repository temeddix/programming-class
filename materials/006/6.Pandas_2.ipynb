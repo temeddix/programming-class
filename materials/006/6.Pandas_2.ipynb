{
 "cells": [
  {
   "cell_type": "markdown",
   "metadata": {},
   "source": [
    "### 6.3. 기술통계 계산과 요약\n",
    "\n",
    " - 누락된 데이타를 제외하고 계산됨\n",
    " - describe, count, min(max), idxmin(idxmax), quantile, sum, mean, median, mad, var, std..."
   ]
  },
  {
   "cell_type": "markdown",
   "metadata": {},
   "source": [
    "Q1. DataFrame을 이용하여 아래와 같은 테이블을 만들어라.\n",
    "\n",
    "\n",
    "| |one | two |\n",
    "|--|--|--|\n",
    "|a |1.40 |NaN|\n",
    "|b |7.10 |-4.5|\n",
    "|c |NaN |NaN |\n",
    "|d |0.75 |-1.3|"
   ]
  },
  {
   "cell_type": "code",
   "execution_count": 1,
   "metadata": {},
   "outputs": [
    {
     "data": {
      "text/html": [
       "<div>\n",
       "<style scoped>\n",
       "    .dataframe tbody tr th:only-of-type {\n",
       "        vertical-align: middle;\n",
       "    }\n",
       "\n",
       "    .dataframe tbody tr th {\n",
       "        vertical-align: top;\n",
       "    }\n",
       "\n",
       "    .dataframe thead th {\n",
       "        text-align: right;\n",
       "    }\n",
       "</style>\n",
       "<table border=\"1\" class=\"dataframe\">\n",
       "  <thead>\n",
       "    <tr style=\"text-align: right;\">\n",
       "      <th></th>\n",
       "      <th>one</th>\n",
       "      <th>two</th>\n",
       "    </tr>\n",
       "  </thead>\n",
       "  <tbody>\n",
       "    <tr>\n",
       "      <th>a</th>\n",
       "      <td>1.40</td>\n",
       "      <td>NaN</td>\n",
       "    </tr>\n",
       "    <tr>\n",
       "      <th>b</th>\n",
       "      <td>7.10</td>\n",
       "      <td>-4.5</td>\n",
       "    </tr>\n",
       "    <tr>\n",
       "      <th>c</th>\n",
       "      <td>NaN</td>\n",
       "      <td>NaN</td>\n",
       "    </tr>\n",
       "    <tr>\n",
       "      <th>d</th>\n",
       "      <td>0.75</td>\n",
       "      <td>-1.3</td>\n",
       "    </tr>\n",
       "  </tbody>\n",
       "</table>\n",
       "</div>"
      ],
      "text/plain": [
       "    one  two\n",
       "a  1.40  NaN\n",
       "b  7.10 -4.5\n",
       "c   NaN  NaN\n",
       "d  0.75 -1.3"
      ]
     },
     "execution_count": 1,
     "metadata": {},
     "output_type": "execute_result"
    }
   ],
   "source": [
    "import pandas as pd\n",
    "import numpy as np\n",
    "\n",
    "df=pd.DataFrame([ [1.4,np.nan],[7.1,-4.5],[np.nan, ],[0.75,-1.3]], \n",
    "               index=['a','b','c','d'],columns=['one','two'])\n",
    "\n",
    "df  #np.nan 의 의미는 NaN으로 누락된 데이타, 즉 결측치를 의미함. 또는 space로 해도 결측값이 됨"
   ]
  },
  {
   "cell_type": "code",
   "execution_count": null,
   "metadata": {},
   "outputs": [],
   "source": [
    "df.two"
   ]
  },
  {
   "cell_type": "markdown",
   "metadata": {},
   "source": [
    "Q2. one, two 변수에 대한 기술통계량을 구하여라."
   ]
  },
  {
   "cell_type": "code",
   "execution_count": null,
   "metadata": {},
   "outputs": [],
   "source": [
    "df.describe() # 기술통계"
   ]
  },
  {
   "cell_type": "markdown",
   "metadata": {},
   "source": [
    "Q3. 각 변수의 데이타의 개수를 구하시오."
   ]
  },
  {
   "cell_type": "code",
   "execution_count": null,
   "metadata": {},
   "outputs": [],
   "source": [
    "df.count()  # 데이타 개수"
   ]
  },
  {
   "cell_type": "code",
   "execution_count": null,
   "metadata": {},
   "outputs": [],
   "source": [
    "df.count().one "
   ]
  },
  {
   "cell_type": "code",
   "execution_count": null,
   "metadata": {},
   "outputs": [],
   "source": [
    "df.one.count()"
   ]
  },
  {
   "cell_type": "markdown",
   "metadata": {},
   "source": [
    "Q4. 각 변수의 sum을 구하여라."
   ]
  },
  {
   "cell_type": "code",
   "execution_count": null,
   "metadata": {},
   "outputs": [],
   "source": [
    "df.sum()"
   ]
  },
  {
   "cell_type": "code",
   "execution_count": null,
   "metadata": {},
   "outputs": [],
   "source": [
    "df.sum().one"
   ]
  },
  {
   "cell_type": "code",
   "execution_count": null,
   "metadata": {},
   "outputs": [],
   "source": [
    "df['one'].sum() #df.one.sum()"
   ]
  },
  {
   "cell_type": "markdown",
   "metadata": {},
   "source": [
    "Q5. 각 row별 sum 값을 구하여라."
   ]
  },
  {
   "cell_type": "code",
   "execution_count": null,
   "metadata": {},
   "outputs": [],
   "source": [
    "df.sum(axis=1) # 각 row별 통계값 , df.sum(axis='columns')"
   ]
  },
  {
   "cell_type": "code",
   "execution_count": null,
   "metadata": {},
   "outputs": [],
   "source": [
    "df.sum(axis=1).a"
   ]
  },
  {
   "cell_type": "markdown",
   "metadata": {},
   "source": [
    "Q6. 각 row별 mean 값을 구하되, NaN도 포함하여 계산하여 결측치가 있으면 mean 값이 NaN이 되게 하시오."
   ]
  },
  {
   "cell_type": "code",
   "execution_count": null,
   "metadata": {},
   "outputs": [],
   "source": [
    "df"
   ]
  },
  {
   "cell_type": "code",
   "execution_count": null,
   "metadata": {},
   "outputs": [],
   "source": [
    "df.mean(axis=1)"
   ]
  },
  {
   "cell_type": "code",
   "execution_count": null,
   "metadata": {},
   "outputs": [],
   "source": [
    "df.mean(axis=1, skipna=False) # skipna=False 는 NaN을 포함하여 계산 즉, 결측치가 있으면 계산되지 않고 NaN이 됨"
   ]
  },
  {
   "cell_type": "markdown",
   "metadata": {},
   "source": [
    "Q7. column별 min 값을 구하시오."
   ]
  },
  {
   "cell_type": "code",
   "execution_count": null,
   "metadata": {},
   "outputs": [],
   "source": [
    "df.min() # min  데이타 값을 리턴"
   ]
  },
  {
   "cell_type": "markdown",
   "metadata": {},
   "source": [
    "Q8. column별 min값이 있는 index 값을 찾으시오."
   ]
  },
  {
   "cell_type": "code",
   "execution_count": null,
   "metadata": {},
   "outputs": [],
   "source": [
    "df"
   ]
  },
  {
   "cell_type": "code",
   "execution_count": null,
   "metadata": {},
   "outputs": [],
   "source": [
    "df.idxmin() # min이 있는 index 값을 리턴"
   ]
  },
  {
   "cell_type": "markdown",
   "metadata": {},
   "source": [
    "Q9. column별 25%사분위값을 구하시오."
   ]
  },
  {
   "cell_type": "code",
   "execution_count": null,
   "metadata": {},
   "outputs": [],
   "source": [
    "df.quantile(0.25) # 사분위값 0~1 의 값을 입력 : 0.25는 25% 값"
   ]
  },
  {
   "cell_type": "markdown",
   "metadata": {},
   "source": [
    "Q10.column별 표본표준편차를 구하시오."
   ]
  },
  {
   "cell_type": "code",
   "execution_count": null,
   "metadata": {},
   "outputs": [],
   "source": [
    "df.std() #표준편차"
   ]
  },
  {
   "cell_type": "markdown",
   "metadata": {},
   "source": [
    "Q11. value가 1~100인 series 배열을 만들고 기술통계량을 구하여라."
   ]
  },
  {
   "cell_type": "code",
   "execution_count": null,
   "metadata": {},
   "outputs": [],
   "source": [
    "x = pd.Series(np.arange(1, 101))  \n",
    "x"
   ]
  },
  {
   "cell_type": "code",
   "execution_count": null,
   "metadata": {},
   "outputs": [],
   "source": [
    "x.describe()"
   ]
  },
  {
   "cell_type": "markdown",
   "metadata": {},
   "source": [
    "Q12. x는 1~100 ,y= 2+3*x+e , where e ~ N(0,1) 인, (x,y) 변수로 구성된 dataframe을 만들어라."
   ]
  },
  {
   "cell_type": "code",
   "execution_count": null,
   "metadata": {},
   "outputs": [],
   "source": [
    "xy = pd.DataFrame({'x':np.arange(1, 101), 'y': 2 + 3 * np.arange(1, 101)+ np.random.normal(size=100)})\n",
    "xy.head()"
   ]
  },
  {
   "cell_type": "markdown",
   "metadata": {},
   "source": [
    "Q13. x,y의 covariance, correlation을 구하세요."
   ]
  },
  {
   "cell_type": "code",
   "execution_count": null,
   "metadata": {},
   "outputs": [],
   "source": [
    "xy.cov() # covariance 행렬"
   ]
  },
  {
   "cell_type": "code",
   "execution_count": null,
   "metadata": {},
   "outputs": [],
   "source": [
    "xy.corr() # correlation 행렬"
   ]
  },
  {
   "cell_type": "code",
   "execution_count": null,
   "metadata": {},
   "outputs": [],
   "source": [
    "xy.corr().x.y"
   ]
  },
  {
   "cell_type": "markdown",
   "metadata": {},
   "source": [
    "### 6.4. Dataframe 병합\n",
    "\n",
    "- 하나 이상의 key를 기준으로 DataFrame의 row를 합침\n",
    "\n",
    "  pd.merge(왼쪽_df, 오른쪽_df, how='option', left_on='key', right_on='key')\n",
    "  \n",
    "  \n",
    "- left_on, right_on의 key 배열에서 key가 여러개일 경우는 ['key1','key2',,,]\n",
    "\n",
    "- left_on, right_on 모두 동일한 key 이름일 경우는 on='key' 사용\n",
    "\n",
    "\n",
    "- how option \n",
    "\n",
    "   1) inner : 교집합 형식으로 양쪽 테이블 공통적으로 모두 존재\n",
    "   \n",
    "   2) left :  왼쪽 테이블이 기준\n",
    "   \n",
    "   3) right : 오른쪽 테이블이 기준\n",
    "   \n",
    "   4) outer : 합집합 형식으로 양쪽 테이블 모두 존재\n",
    "   "
   ]
  },
  {
   "cell_type": "markdown",
   "metadata": {},
   "source": [
    "Q14. 다음과 같은 테이블을 df1 변수에 만들어라.\n",
    "\n",
    "\n",
    "| |Key |data1 |\n",
    "|--|--|--|\n",
    "|0 |a |10 |\n",
    "|1 |b |11 |\n",
    "|2 |c |12 |\n",
    "|3 |d |13 |\n",
    "|4 |e |14 |\n",
    "\n",
    "다음과 같은 테이블을 df2 변수에 만들어라.\n",
    "\n",
    "| |Key |data2|\n",
    "|--|--|--|\n",
    "|0 |a |0 |\n",
    "|1 |b |1 |\n",
    "|2 |f |2 | "
   ]
  },
  {
   "cell_type": "code",
   "execution_count": null,
   "metadata": {},
   "outputs": [],
   "source": [
    "import pandas as pd\n",
    "import numpy as np\n",
    "df1=pd.DataFrame({'Key' : ['a','b','c','d','e'], 'data1':np.arange(10,15)})\n",
    "df1"
   ]
  },
  {
   "cell_type": "code",
   "execution_count": null,
   "metadata": {},
   "outputs": [],
   "source": [
    "df2=pd.DataFrame({'Key':['a','b','f'], 'data2': np.arange(3)})\n",
    "df2"
   ]
  },
  {
   "cell_type": "markdown",
   "metadata": {},
   "source": [
    "Q15. df1, df2 테이블에 있는 key변수를 중심으로 inner (교집합)을 만드시오."
   ]
  },
  {
   "cell_type": "code",
   "execution_count": null,
   "metadata": {},
   "outputs": [],
   "source": [
    "pd.merge(df1, df2, how='inner',left_on='Key', right_on='Key')"
   ]
  },
  {
   "cell_type": "markdown",
   "metadata": {},
   "source": [
    "Q16. df1 테이블을(왼쪽 테이블) 기준으로 df2 테이블을 붙여라. (기준 key 변수)"
   ]
  },
  {
   "cell_type": "code",
   "execution_count": null,
   "metadata": {},
   "outputs": [],
   "source": [
    "pd.merge(df1,df2,how='left',on='Key') "
   ]
  },
  {
   "cell_type": "markdown",
   "metadata": {},
   "source": [
    "Q17. df2 테이블을(오른쪽 테이블) 기준으로 df1을 붙여라.(key변수 기준)"
   ]
  },
  {
   "cell_type": "code",
   "execution_count": null,
   "metadata": {},
   "outputs": [],
   "source": [
    "pd.merge(df1,df2,how='right',on='Key') "
   ]
  },
  {
   "cell_type": "markdown",
   "metadata": {},
   "source": [
    "Q18. df1, df2 모두 합치기(합집합 형식) (key변수 기준)"
   ]
  },
  {
   "cell_type": "code",
   "execution_count": null,
   "metadata": {},
   "outputs": [],
   "source": [
    "pd.merge(df1,df2,how='outer',on='Key') "
   ]
  },
  {
   "cell_type": "markdown",
   "metadata": {},
   "source": [
    "Q19. df1, df2에 있는 key 변수를 index로 만드시오."
   ]
  },
  {
   "cell_type": "code",
   "execution_count": null,
   "metadata": {},
   "outputs": [],
   "source": [
    "# index를 다시 setting 하는 방법 set_index\n",
    "df1=df1.set_index('Key') #df1.set_index('Key', inplace=True)\n",
    "df1"
   ]
  },
  {
   "cell_type": "code",
   "execution_count": null,
   "metadata": {},
   "outputs": [],
   "source": [
    "df2=df2.set_index('Key') #df2.set_index('Key', inplace=True)\n",
    "df2"
   ]
  },
  {
   "cell_type": "markdown",
   "metadata": {},
   "source": [
    "Q20. df1, df2에 있는 key index를 기준으로 inner(교집합)테이블 생성"
   ]
  },
  {
   "cell_type": "code",
   "execution_count": null,
   "metadata": {},
   "outputs": [],
   "source": [
    "pd.merge(df1, df2, how='inner',left_index=True, right_index=True)"
   ]
  },
  {
   "cell_type": "markdown",
   "metadata": {},
   "source": [
    "Q21. 다시 원래대로 index setting 하시오."
   ]
  },
  {
   "cell_type": "code",
   "execution_count": null,
   "metadata": {},
   "outputs": [],
   "source": [
    "df1=df1.reset_index() # df1.reset_index(inplace=True)\n",
    "df2=df2.reset_index() # df2.reset_index(inplace=True)\n",
    "df2"
   ]
  },
  {
   "cell_type": "markdown",
   "metadata": {},
   "source": [
    "Q22. df1, df2를 행방향으로 연결하시오. 단, df2의 변수명 중 data2을 data1으로 먼저 바꾸시오."
   ]
  },
  {
   "cell_type": "code",
   "execution_count": null,
   "metadata": {},
   "outputs": [],
   "source": [
    "df2.rename(columns = {'data2' : 'data1'}, inplace = True) # 변수이름 바꾸기\n",
    "#df2.columns=['Key','data1']\n",
    "df3=pd.concat([df1,df2])"
   ]
  },
  {
   "cell_type": "code",
   "execution_count": null,
   "metadata": {},
   "outputs": [],
   "source": [
    "df3.reset_index(inplace=True)"
   ]
  },
  {
   "cell_type": "markdown",
   "metadata": {},
   "source": [
    "### 6.5. 데이터 집계\n",
    "\n",
    "- groupby를 통해 데이터 요약을 할 수 있음."
   ]
  },
  {
   "cell_type": "markdown",
   "metadata": {},
   "source": [
    "Q23. 다음의 테이블을 xx로 만들어라.\n",
    "\n",
    "| | x| y| z|\n",
    "|--|--|--|--|\n",
    "|0|m|23|30|\n",
    "|1|f|20|15|\n",
    "|2|f|21|20|\n",
    "|3|m|20|35|\n",
    "|4|f|23|40|\n",
    "|5|m|24|30|\n",
    "|6|m|21|10|\n",
    "|7|m|25|25|"
   ]
  },
  {
   "cell_type": "code",
   "execution_count": null,
   "metadata": {},
   "outputs": [],
   "source": [
    "x = [\"m\", \"f\", \"f\", \"m\", \"f\", \"m\", \"m\",\"m\"]\n",
    "y = [23, 20, 21, 20, 23, 24, 21, 25]\n",
    "z = [30, 15, 20, 35, 40, 30, 10, 25]\n",
    "\n",
    "xx = pd.DataFrame({'x':x, 'y':y, 'z':z})\n",
    "xx"
   ]
  },
  {
   "cell_type": "markdown",
   "metadata": {},
   "source": [
    "Q24. xx 데이타의 x변수 기준으로 y와 z변수를 sum 값을 구하여라. "
   ]
  },
  {
   "cell_type": "code",
   "execution_count": null,
   "metadata": {},
   "outputs": [],
   "source": [
    "xx.groupby('x').sum()   # xx 데이타의 x 변수 기준으로 y와 z를 sum"
   ]
  },
  {
   "cell_type": "markdown",
   "metadata": {},
   "source": [
    "Q25. xx 데이타의 x변수를 기준으로 y와 z변수의 평균을 구하여라."
   ]
  },
  {
   "cell_type": "code",
   "execution_count": null,
   "metadata": {},
   "outputs": [],
   "source": [
    "xx.groupby('x').mean()   #평균"
   ]
  },
  {
   "cell_type": "markdown",
   "metadata": {},
   "source": [
    "Q26. xx데이타의 x변수 기준으로 y만 sum 값을 구하여라."
   ]
  },
  {
   "cell_type": "code",
   "execution_count": null,
   "metadata": {},
   "outputs": [],
   "source": [
    "xx.groupby('x').sum().y # xx 데이타의 x 변수 기준으로 y만 sum"
   ]
  },
  {
   "cell_type": "code",
   "execution_count": null,
   "metadata": {},
   "outputs": [],
   "source": [
    "sum_x=xx.groupby('x').sum()\n",
    "sum_x['y']"
   ]
  },
  {
   "cell_type": "markdown",
   "metadata": {},
   "source": [
    "Q27. x변수의 m/f 별 count를 세어 xx 데이터 프레임에 merge를 이용하여 값을 넣어라."
   ]
  },
  {
   "cell_type": "code",
   "execution_count": null,
   "metadata": {},
   "outputs": [],
   "source": [
    "xx_c=pd.DataFrame(xx.x.value_counts()) \n",
    "xx_c.columns=['count']\n",
    "xx_c.reset_index()\n",
    "xx=pd.merge(xx,xx_c,  how='inner',left_on='x', right_index=True)\n",
    "xx"
   ]
  },
  {
   "cell_type": "markdown",
   "metadata": {},
   "source": [
    "Q28.x1과 x2에 성공률이 0.2인 베르누이 분포을 따르는 10개의 랜덤넘버를 발생하시오. "
   ]
  },
  {
   "cell_type": "code",
   "execution_count": null,
   "metadata": {},
   "outputs": [],
   "source": [
    "x1 = np.random.binomial(1, 0.2, 10)\n",
    "x2 = np.random.binomial(1, 0.2, 10)\n",
    "x1"
   ]
  },
  {
   "cell_type": "code",
   "execution_count": null,
   "metadata": {},
   "outputs": [],
   "source": [
    "x2"
   ]
  },
  {
   "cell_type": "markdown",
   "metadata": {},
   "source": [
    "Q29. x1과 x2의 value 0과 1의 조합별 count을 만들어 table을 만드시오."
   ]
  },
  {
   "cell_type": "code",
   "execution_count": null,
   "metadata": {},
   "outputs": [],
   "source": [
    "pd.crosstab(x1, x2)  #0과 1의 조합별로 count "
   ]
  },
  {
   "cell_type": "markdown",
   "metadata": {},
   "source": [
    "### 6.6. 데이터 입출력\n",
    "\n",
    "- csv 파일 입출력 : \",\"가 구분자\n",
    "- read_csv : 데이타 입력\n",
    "- to_csv : 데이타 출력"
   ]
  },
  {
   "cell_type": "markdown",
   "metadata": {},
   "source": [
    "Q30.ex3.csv 파일을 불러와서 data 변수에 넣으시오. 단, ex3.csv에 있는 변수명을 인식하시오."
   ]
  },
  {
   "cell_type": "code",
   "execution_count": null,
   "metadata": {},
   "outputs": [],
   "source": [
    "import os\n",
    "\n",
    "os.getcwd()"
   ]
  },
  {
   "cell_type": "code",
   "execution_count": null,
   "metadata": {},
   "outputs": [],
   "source": [
    "data = pd.read_csv('ex3.csv',header=None)  #변수명을 인식하지 못하고 데이타로 읽음\n",
    "data"
   ]
  },
  {
   "cell_type": "code",
   "execution_count": null,
   "metadata": {},
   "outputs": [],
   "source": [
    "data = pd.read_csv('ex3.csv')#변수명을 인식\n",
    "data"
   ]
  },
  {
   "cell_type": "markdown",
   "metadata": {},
   "source": [
    "Q31. score 변수의 평균을 구하시오."
   ]
  },
  {
   "cell_type": "code",
   "execution_count": null,
   "metadata": {},
   "outputs": [],
   "source": [
    "m=data.score.mean() # score 변수의 평균 \n",
    "m"
   ]
  },
  {
   "cell_type": "markdown",
   "metadata": {},
   "source": [
    "Q32.data에 위 평균값을 mean 이라는 변수로 추가하시오."
   ]
  },
  {
   "cell_type": "code",
   "execution_count": null,
   "metadata": {},
   "outputs": [],
   "source": [
    "data['mean']=m #평균값을 mean 이라는 변수명으로 추가하기\n",
    "data "
   ]
  },
  {
   "cell_type": "markdown",
   "metadata": {},
   "source": [
    "Q33. score 변수로 sort 하시오.\n",
    "\n",
    " sort_values(by=[기준변수], ascending=Fasle) #내림차순 #기준변수가 여러개 일경우 \",\"로 나열"
   ]
  },
  {
   "cell_type": "code",
   "execution_count": null,
   "metadata": {},
   "outputs": [],
   "source": [
    "data.sort_values(by=['score'], inplace=True) #디폴트 오름차순\n",
    "print(data)\n",
    "data.sort_values(by=['score'],ascending=False, inplace=True) #내림차순 옵션 ascending=False\n",
    "print(data)\n",
    "data.sort_values(by=['score','ID'],ascending=False, inplace=True)\n",
    "print(data)"
   ]
  },
  {
   "cell_type": "markdown",
   "metadata": {},
   "source": [
    "Q34. score 내림차순 순서대로 rank를 주시오.\n",
    "\n",
    "   df['기준'].rank(ascending=Fasle) : 내림차순"
   ]
  },
  {
   "cell_type": "code",
   "execution_count": null,
   "metadata": {
    "scrolled": true
   },
   "outputs": [],
   "source": [
    "data['rank']=data['score'].rank(ascending=False).astype(int) #data.score.rank(ascending=False).astype(int)\n",
    "data"
   ]
  },
  {
   "cell_type": "markdown",
   "metadata": {},
   "source": [
    "Q35. score,ID 내림차순 순서대로 rank를 주시오"
   ]
  },
  {
   "cell_type": "code",
   "execution_count": null,
   "metadata": {},
   "outputs": [],
   "source": [
    "data[['score','ID']].apply(list, axis=1)  # apply : 'score', 'ID' 변수를  row별로 list로 묶어서 하나의 요소값으로 처리"
   ]
  },
  {
   "cell_type": "code",
   "execution_count": null,
   "metadata": {},
   "outputs": [],
   "source": [
    "data[['score','ID']].apply(list, axis=1).rank(ascending=False).astype(int)"
   ]
  },
  {
   "cell_type": "markdown",
   "metadata": {},
   "source": [
    "Q36. data를 \"ex4.csv\" 파일로 내보내기 하시오."
   ]
  },
  {
   "cell_type": "code",
   "execution_count": null,
   "metadata": {},
   "outputs": [],
   "source": [
    "data.to_csv('ex4.csv')"
   ]
  },
  {
   "cell_type": "code",
   "execution_count": null,
   "metadata": {},
   "outputs": [],
   "source": [
    ",ID,score,mean\n",
    "0,1,50,45.4\n",
    "1,2,23,45.4\n",
    "2,3,14,45.4\n",
    "3,4,90,45.4\n",
    "4,5,50,45.4"
   ]
  },
  {
   "cell_type": "code",
   "execution_count": null,
   "metadata": {},
   "outputs": [],
   "source": [
    "data.to_csv('ex5.csv',index=False) #row index 미포함"
   ]
  },
  {
   "cell_type": "code",
   "execution_count": null,
   "metadata": {},
   "outputs": [],
   "source": [
    "ID,score,mean\n",
    "1,50,45.4\n",
    "2,23,45.4\n",
    "3,14,45.4\n",
    "4,90,45.4\n",
    "5,50,45.4"
   ]
  },
  {
   "cell_type": "code",
   "execution_count": null,
   "metadata": {},
   "outputs": [],
   "source": [
    "data.to_csv('ex6.csv',header=False,index=False) #row index, 변수명 미포함"
   ]
  },
  {
   "cell_type": "code",
   "execution_count": null,
   "metadata": {},
   "outputs": [],
   "source": [
    "1,50,45.4\n",
    "2,23,45.4\n",
    "3,14,45.4\n",
    "4,90,45.4\n",
    "5,50,45.4"
   ]
  }
 ],
 "metadata": {
  "kernelspec": {
   "display_name": "Python 3 (ipykernel)",
   "language": "python",
   "name": "python3"
  },
  "language_info": {
   "codemirror_mode": {
    "name": "ipython",
    "version": 3
   },
   "file_extension": ".py",
   "mimetype": "text/x-python",
   "name": "python",
   "nbconvert_exporter": "python",
   "pygments_lexer": "ipython3",
   "version": "3.10.2"
  }
 },
 "nbformat": 4,
 "nbformat_minor": 2
}
