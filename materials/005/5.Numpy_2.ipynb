{
 "cells": [
  {
   "cell_type": "markdown",
   "metadata": {},
   "source": [
    "### 5.7.산술 연산\n",
    "\n",
    "- for 문장 없이 데이터를 일괄 처리하여 연산 가능\n",
    "\n",
    "- 같은 크기의 배열 간의 산술 연산은 배열의 각 원소 단위로 적용됨\n"
   ]
  },
  {
   "cell_type": "markdown",
   "metadata": {},
   "source": [
    "Q1. 다음의 행렬을 a 변수에 입력하고 a*a, a-a, 1/a, a**0.5 값을 확인하라.\n",
    " \n",
    " $$\\begin{bmatrix}\n",
    "1 & 2 & 3 \\\\\n",
    "4 & 5 & 6\n",
    "\\end{bmatrix}$$"
   ]
  },
  {
   "cell_type": "code",
   "execution_count": null,
   "metadata": {},
   "outputs": [],
   "source": [
    "import numpy as np\n",
    "a=np.arange(1,7).reshape(-1,3)\n",
    "#a=np.array([[1,2,3],[4,5,6]])\n",
    "print(a)"
   ]
  },
  {
   "cell_type": "code",
   "execution_count": null,
   "metadata": {},
   "outputs": [],
   "source": [
    "a*a # 각 원소의 곱"
   ]
  },
  {
   "cell_type": "code",
   "execution_count": null,
   "metadata": {},
   "outputs": [],
   "source": [
    "a-a # 각 원소의 차"
   ]
  },
  {
   "cell_type": "code",
   "execution_count": null,
   "metadata": {},
   "outputs": [],
   "source": [
    "1/a #각 원소의 역분수"
   ]
  },
  {
   "cell_type": "code",
   "execution_count": null,
   "metadata": {},
   "outputs": [],
   "source": [
    "a*0.5"
   ]
  },
  {
   "cell_type": "code",
   "execution_count": null,
   "metadata": {},
   "outputs": [],
   "source": [
    "a**0.5 # 각 원소의 sqrt"
   ]
  },
  {
   "cell_type": "markdown",
   "metadata": {},
   "source": [
    "Q2.아래 2개의 행렬을 x1, y1변수에 입력하고, x1+y1, x1-y1, x1/y1 x1*y1 값을 확인하라.\n",
    "\n",
    "$$\\begin{bmatrix} \n",
    " 1 & 1  \\\\\n",
    "3 & 3 \n",
    "\\end{bmatrix}$$\n",
    "\n",
    "$$\\begin{bmatrix} \n",
    "3 & 1 \\\\\n",
    "3 & 1 \n",
    "\\end{bmatrix}$$\n"
   ]
  },
  {
   "cell_type": "code",
   "execution_count": null,
   "metadata": {},
   "outputs": [],
   "source": [
    "x1 = np.array([[1,1], [3,3]])\n",
    "y1 = np.array([[3,1], [3,1]])\n",
    "print(x1)\n",
    "print(y1)"
   ]
  },
  {
   "cell_type": "code",
   "execution_count": null,
   "metadata": {},
   "outputs": [],
   "source": [
    "x1+y1"
   ]
  },
  {
   "cell_type": "code",
   "execution_count": null,
   "metadata": {},
   "outputs": [],
   "source": [
    "x1-y1"
   ]
  },
  {
   "cell_type": "code",
   "execution_count": null,
   "metadata": {},
   "outputs": [],
   "source": [
    "x1/y1"
   ]
  },
  {
   "cell_type": "code",
   "execution_count": null,
   "metadata": {},
   "outputs": [],
   "source": [
    "x1*y1"
   ]
  },
  {
   "cell_type": "markdown",
   "metadata": {},
   "source": [
    "- 브로드캐스팅 : 크기가 다른 배열간의 연산\n",
    "\n",
    "  1. 상수항의 연산\n",
    "  2. (row,column) 행렬과 벡터간의 연산\n",
    "  3. (row,column) 행렬과 (row,1) 행렬간의 연산"
   ]
  },
  {
   "cell_type": "markdown",
   "metadata": {},
   "source": [
    "Q3. 아래 행렬을 x1에 입력하고, 상수항 4를 더하고, 빼고, 곱하고, 나누고, 4만큼 제곱승 해보아라.\n",
    "\n",
    "\n",
    "$$\\begin{bmatrix} \n",
    " 1 & 1  \\\\\n",
    " 3 & 3  \n",
    "\\end{bmatrix}$$\n"
   ]
  },
  {
   "cell_type": "code",
   "execution_count": null,
   "metadata": {},
   "outputs": [],
   "source": [
    "x1 = np.array([[1,1], [3,3]])\n",
    "s=4 \n",
    "x1+s # 모든 원소에 스칼라 만큼 더하기"
   ]
  },
  {
   "cell_type": "code",
   "execution_count": null,
   "metadata": {},
   "outputs": [],
   "source": [
    "x1-s # 모든 원소에 스칼라 만큼 빼기"
   ]
  },
  {
   "cell_type": "code",
   "execution_count": null,
   "metadata": {},
   "outputs": [],
   "source": [
    "x1*s # 모든 원소에 스칼라 만큼 곱하기"
   ]
  },
  {
   "cell_type": "code",
   "execution_count": null,
   "metadata": {},
   "outputs": [],
   "source": [
    "x1/s # 모든 원소에 스칼라 만큼 나누기"
   ]
  },
  {
   "cell_type": "code",
   "execution_count": null,
   "metadata": {},
   "outputs": [],
   "source": [
    "x1**s # 모든 원소에 스칼라 만큼 제곱승 하기"
   ]
  },
  {
   "cell_type": "markdown",
   "metadata": {},
   "source": [
    "Q3. 아래 행렬을 x1과 y1에 입력하고, x1+y1, x1-y1, x1*y1을 계산해 보아라.\n",
    "\n",
    "$$\\begin{bmatrix} \n",
    " 1 & 1  \\\\\n",
    " 3 & 3  \n",
    "\\end{bmatrix}$$\n",
    "\n",
    "$$\\begin{bmatrix} \n",
    "  2 & 3  \n",
    "\\end{bmatrix}$$\n"
   ]
  },
  {
   "cell_type": "code",
   "execution_count": null,
   "metadata": {},
   "outputs": [],
   "source": [
    "x1 = np.array([[1,1], [3,3]])\n",
    "y1 = np.array([2,3])"
   ]
  },
  {
   "cell_type": "code",
   "execution_count": null,
   "metadata": {},
   "outputs": [],
   "source": [
    "x1.shape #(2,2) 행렬"
   ]
  },
  {
   "cell_type": "code",
   "execution_count": null,
   "metadata": {},
   "outputs": [],
   "source": [
    "y1.shape  #(2,) 로 원소 2개인 원소"
   ]
  },
  {
   "cell_type": "code",
   "execution_count": null,
   "metadata": {},
   "outputs": [],
   "source": [
    "x1+y1 # 벡터인 y1이 x1의 row 개수 만큼 있다고 가정하에 연산을 함\n",
    "      # 즉, array([[1, 1],   과 array([[2, 3],   의 연산을 함\n",
    "      #           [3, 3]])             [2, 3]]) "
   ]
  },
  {
   "cell_type": "code",
   "execution_count": null,
   "metadata": {},
   "outputs": [],
   "source": [
    "x1-y1"
   ]
  },
  {
   "cell_type": "code",
   "execution_count": null,
   "metadata": {},
   "outputs": [],
   "source": [
    "x1*y1"
   ]
  },
  {
   "cell_type": "markdown",
   "metadata": {},
   "source": [
    "Q4. 아래 행렬을 x1과 y1에 입력하고, x1+y1, x1-y1, x1*y1 을 계산해 보아라.\n",
    "\n",
    "$$\\begin{bmatrix}\n",
    " 1 & 1  \\\\\n",
    " 3 & 3  \n",
    "\\end{bmatrix}$$\n",
    "\n",
    "$$\\begin{bmatrix} \n",
    "  2 \\\\\n",
    "   3 \n",
    "\\end{bmatrix}$$"
   ]
  },
  {
   "cell_type": "code",
   "execution_count": null,
   "metadata": {},
   "outputs": [],
   "source": [
    "x1 = np.array([[1,1], [3,3]])\n",
    "y1 = np.array([[2],[3]])"
   ]
  },
  {
   "cell_type": "code",
   "execution_count": null,
   "metadata": {},
   "outputs": [],
   "source": [
    "y1.shape   #(2,1) 행렬"
   ]
  },
  {
   "cell_type": "code",
   "execution_count": null,
   "metadata": {},
   "outputs": [],
   "source": [
    "x1+y1 #  column이 한개인 행렬 y1이 x1의 column 개수 만큼 있다고 가정하에 연산을 함\n",
    "      # 즉, array([[1, 1],   과 array([[2, 2],   의 연산을 함\n",
    "      #           [3, 3]])             [3, 3]]) "
   ]
  },
  {
   "cell_type": "code",
   "execution_count": null,
   "metadata": {},
   "outputs": [],
   "source": [
    "x1-y1"
   ]
  },
  {
   "cell_type": "code",
   "execution_count": null,
   "metadata": {},
   "outputs": [],
   "source": [
    "x1*y1"
   ]
  },
  {
   "cell_type": "markdown",
   "metadata": {},
   "source": [
    "- 선형대수 \n",
    "\n",
    "  1. T (or transpose) : 전치행렬\n",
    "  2. dot ( or @) : 행렬곱셈\n",
    "  $ \\begin{bmatrix}x_1 \\ x_2 \\ x_3\\end{bmatrix}\n",
    "\\cdot\n",
    "\\begin{bmatrix}y_1 \\\\ y_2 \\\\ y_3\\end{bmatrix}\n",
    "= x_1 y_1 + x_2 y_2 + x_3 y_3$\n",
    "  3. inv : 역행렬 (numpy.linalg)\n",
    "  4. solve : A가 정사각 행렬일 때 , Ax=b를 만족하는 x를 구하는 함수 (numpy.linalg)\n",
    "  5. det : 행렬식 (numpy.linalg) \n",
    "  \n",
    "  \n",
    "- numpy.linalg 는 행렬의 분할과 역행렬, 행렬식과 같은 것들을 포함하고 있음.\n",
    "\n",
    "  np.linalg.inv, np.linalg.solve, np.linalg.det"
   ]
  },
  {
   "cell_type": "markdown",
   "metadata": {},
   "source": [
    "Q5. 아래 행렬을 x변수에 입력하고, 전치행렬을 만들어라.\n",
    " \n",
    "$$\\begin{bmatrix} \n",
    " 1 & 2  \\\\\n",
    " 3 & 4  \n",
    "\\end{bmatrix}$$"
   ]
  },
  {
   "cell_type": "code",
   "execution_count": null,
   "metadata": {},
   "outputs": [],
   "source": [
    "x = np.array([[1,2], [3,4]])\n",
    "x"
   ]
  },
  {
   "cell_type": "code",
   "execution_count": null,
   "metadata": {},
   "outputs": [],
   "source": [
    "x.T   #전치행렬"
   ]
  },
  {
   "cell_type": "code",
   "execution_count": null,
   "metadata": {},
   "outputs": [],
   "source": [
    "x.transpose()"
   ]
  },
  {
   "cell_type": "markdown",
   "metadata": {},
   "source": [
    "Q6. X'X 행렬 곱셈을 해보아라."
   ]
  },
  {
   "cell_type": "code",
   "execution_count": null,
   "metadata": {},
   "outputs": [],
   "source": [
    "x.T.dot(x) # X'X 행렬 곱셈"
   ]
  },
  {
   "cell_type": "code",
   "execution_count": null,
   "metadata": {},
   "outputs": [],
   "source": [
    "np.dot(x.T, x)"
   ]
  },
  {
   "cell_type": "code",
   "execution_count": null,
   "metadata": {},
   "outputs": [],
   "source": [
    "x.T @ x"
   ]
  },
  {
   "cell_type": "markdown",
   "metadata": {},
   "source": [
    "Q6.$ (X'X)^{-1} $ 를 구하여라."
   ]
  },
  {
   "cell_type": "code",
   "execution_count": null,
   "metadata": {},
   "outputs": [],
   "source": [
    "inv_x=np.linalg.inv(x.T@x)  # inv 함수는 numpy.linalg에 있음.\n",
    "inv_x"
   ]
  },
  {
   "cell_type": "markdown",
   "metadata": {},
   "source": [
    "Q7. 다음식의 해 x,y를 구하여라.\n",
    "\n",
    " $ \\begin{bmatrix}3 \\ 1\\\\\n",
    " 1 \\ 2 \\end{bmatrix}\n",
    "\\cdot\n",
    "\\begin{bmatrix}x \\\\ y\\end{bmatrix}\n",
    "= \\begin{bmatrix}9 \\\\ 8\\end{bmatrix}$"
   ]
  },
  {
   "cell_type": "code",
   "execution_count": null,
   "metadata": {},
   "outputs": [],
   "source": [
    "a = np.array([[3,1], [1,2]])\n",
    "b = np.array([[9],[8]])\n",
    "x = np.linalg.solve(a,b)\n",
    "x"
   ]
  },
  {
   "cell_type": "markdown",
   "metadata": {},
   "source": [
    "Q8.다음 행렬의 행렬식을 구하여라. \n",
    "\n",
    " $ \\begin{bmatrix}3 \\ 1\\\\\n",
    " 1 \\ 2 \\end{bmatrix}$"
   ]
  },
  {
   "cell_type": "code",
   "execution_count": null,
   "metadata": {},
   "outputs": [],
   "source": [
    "a = np.array([[3,1], [1,2]])\n",
    "np.linalg.det(a)  #ad-bc 의 값"
   ]
  },
  {
   "cell_type": "markdown",
   "metadata": {},
   "source": [
    "- Q) 다음의 array를 각 원소별로 5로 나눴을 때 나머지로 이루어진 array를 찾아라.\n",
    "\n",
    "[0, 1, 2, 3, 4 ,5 ,6]"
   ]
  },
  {
   "cell_type": "markdown",
   "metadata": {},
   "source": [
    "- Q) 다음의 array의 각 원소들의 절대값으로 이루어진 array를 찾아라. 힌트) 절대값 함수 : abs(x) \n",
    "    \n",
    "[-1.4,  2.0 ]"
   ]
  },
  {
   "cell_type": "markdown",
   "metadata": {},
   "source": [
    "- Q) 다음의 array X,Y,Z에 대하여 X+Y와 X-Z의 결과값이 무엇일지 프로그램을 돌리기 전에 알아보아라.\n",
    "\n",
    " \n",
    " $ X=\\begin{bmatrix} 0 \\ 1 \\ 2 \\\\\n",
    " 3 \\ 4 \\ 5 \\\\ \n",
    " 6 \\ 7 \\ 8 \\\\ \n",
    " 9 \\ 10 \\ 11 \\end{bmatrix}$\n",
    "\n",
    "$ Y=\\begin{bmatrix} 10 \\ 11 \\ 12 \\end{bmatrix}$\n",
    "\n",
    "\n",
    "$ Z=\\begin{bmatrix} 10 \\\\ 11 \\\\ 12 \\\\ 13 \\end{bmatrix}$\n",
    "\n",
    " "
   ]
  },
  {
   "cell_type": "markdown",
   "metadata": {},
   "source": [
    "- Q) 2개의 미지수로 되어 있는 다음 2개식의 해를 구하시오.\n",
    "\n",
    " 2X+3Y=6                         \n",
    " X-4Y=2\n",
    " \n",
    " "
   ]
  }
 ],
 "metadata": {
  "kernelspec": {
   "display_name": "Python 3 (ipykernel)",
   "language": "python",
   "name": "python3"
  },
  "language_info": {
   "codemirror_mode": {
    "name": "ipython",
    "version": 3
   },
   "file_extension": ".py",
   "mimetype": "text/x-python",
   "name": "python",
   "nbconvert_exporter": "python",
   "pygments_lexer": "ipython3",
   "version": "3.10.2"
  }
 },
 "nbformat": 4,
 "nbformat_minor": 2
}
