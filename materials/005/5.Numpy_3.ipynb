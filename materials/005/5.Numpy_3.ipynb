{
 "cells": [
  {
   "cell_type": "markdown",
   "metadata": {},
   "source": [
    "### 5.8. 인덱싱과 슬라이싱\n",
    "\n",
    " - 행렬에서 위치 지정과 잘라내기 방법\n",
    " - (행,열)의 순서로 지정함\n",
    " - 문자열의 인덱싱과 유사함"
   ]
  },
  {
   "cell_type": "markdown",
   "metadata": {},
   "source": [
    "Q1.다음의 행렬에 대해서 슬라이싱을 해보자. \n",
    "\n",
    " $ \\begin{bmatrix} 1 \\ 2 \\ 3 \\\\\n",
    " 4 \\ 5 \\ 6 \\\\ \n",
    " 7 \\ 8 \\ 9  \\end{bmatrix} $"
   ]
  },
  {
   "cell_type": "code",
   "execution_count": 1,
   "metadata": {},
   "outputs": [
    {
     "data": {
      "text/plain": [
       "array([[1, 2, 3],\n",
       "       [4, 5, 6],\n",
       "       [7, 8, 9]])"
      ]
     },
     "execution_count": 1,
     "metadata": {},
     "output_type": "execute_result"
    }
   ],
   "source": [
    "import numpy as np\n",
    "\n",
    "arr=np.array([[1,2,3],[4,5,6],[7,8,9]])\n",
    "arr"
   ]
  },
  {
   "cell_type": "code",
   "execution_count": null,
   "metadata": {},
   "outputs": [],
   "source": [
    "%aut"
   ]
  },
  {
   "cell_type": "markdown",
   "metadata": {},
   "source": [
    "- 행의 index arr[i] , arr[i,:] , arr[i][:]"
   ]
  },
  {
   "cell_type": "code",
   "execution_count": null,
   "metadata": {},
   "outputs": [],
   "source": [
    "arr[2] # 행이나 열이나 위치는 0부터 시작. 행의 \"2\" 위치 "
   ]
  },
  {
   "cell_type": "code",
   "execution_count": null,
   "metadata": {},
   "outputs": [],
   "source": [
    "arr[2,:]"
   ]
  },
  {
   "cell_type": "code",
   "execution_count": null,
   "metadata": {},
   "outputs": [],
   "source": [
    "arr[2][:]"
   ]
  },
  {
   "cell_type": "code",
   "execution_count": null,
   "metadata": {},
   "outputs": [],
   "source": [
    "arr[:2] # 행위치 \"0\",\"1\" "
   ]
  },
  {
   "cell_type": "markdown",
   "metadata": {},
   "source": [
    "- 열의 index arr[:,i]  "
   ]
  },
  {
   "cell_type": "code",
   "execution_count": null,
   "metadata": {},
   "outputs": [],
   "source": [
    "arr[:,2]  #열 위치 \"2\"에 해당하는것  "
   ]
  },
  {
   "cell_type": "code",
   "execution_count": null,
   "metadata": {},
   "outputs": [],
   "source": [
    "arr[:,:2] # 열위치 \"0\",\"1\""
   ]
  },
  {
   "cell_type": "markdown",
   "metadata": {},
   "source": [
    "- i번째 행과 j번째 열의 index arr[i,j] , arr[i][j]"
   ]
  },
  {
   "cell_type": "code",
   "execution_count": null,
   "metadata": {},
   "outputs": [],
   "source": [
    "arr[0,2] # 행 위치 \"0\", 열위치 \"2\"에 해당하는 값  arr[0][2]"
   ]
  },
  {
   "cell_type": "code",
   "execution_count": null,
   "metadata": {},
   "outputs": [],
   "source": [
    "arr[:2, 1:] # 행위치 \"0\",\"1\" & 열위치 \"1\",\"2\" "
   ]
  },
  {
   "cell_type": "code",
   "execution_count": null,
   "metadata": {},
   "outputs": [],
   "source": [
    "arr[1, :2] # 행위치 \"1\" & 열위치 \"0\",\"1\" "
   ]
  },
  {
   "cell_type": "code",
   "execution_count": null,
   "metadata": {},
   "outputs": [],
   "source": [
    "arr[0, 1: ]=0 #행위치 \"0\" & 열위치 \"1\",\"2\" 의 값에 0를 넣기\n",
    "arr"
   ]
  },
  {
   "cell_type": "code",
   "execution_count": null,
   "metadata": {},
   "outputs": [],
   "source": [
    "#arr[[0,2]] #행위치를 [0,2]로 지정  cf) arr[0,2] 는행위치 \"0\" & 열위치 \"2\"\n",
    "arr[[0,2]]"
   ]
  },
  {
   "cell_type": "markdown",
   "metadata": {},
   "source": [
    "Q2. 8x4 행렬을 특정한 값으로 초기화 하지 않은 행렬 (np.empty)로 생성하고, for문장과 range을 이용하여\n",
    "다음과 같은 행렬을 만들어라.\n",
    "\n",
    "\n",
    " $ \\begin{bmatrix} 0 \\ 0 \\ 0 \\ 0 \\\\\n",
    " 1 \\ 1 \\ 1 \\ 1 \\\\ \n",
    " 2 \\ 2 \\ 2 \\ 2 \\\\\n",
    " 3 \\ 3 \\ 3 \\ 3 \\\\\n",
    " 4 \\ 4 \\ 4 \\ 4 \\\\\n",
    " 5 \\ 5 \\ 5 \\ 5 \\\\\n",
    " 6 \\ 6 \\ 6 \\ 6 \\\\\n",
    " 7 \\ 7 \\ 7 \\ 7 \\end{bmatrix} $\n"
   ]
  },
  {
   "cell_type": "code",
   "execution_count": null,
   "metadata": {},
   "outputs": [],
   "source": [
    "arr=np.empty((8,4)) # 8x4 행렬  : 특정한 값으로 초기화하지 않는 행렬 생성\n",
    "arr"
   ]
  },
  {
   "cell_type": "code",
   "execution_count": null,
   "metadata": {},
   "outputs": [],
   "source": [
    "for i in range(8) :   # i는 0,1,2,...,7의 정수\n",
    "    arr[i]=i          # arr[i] i번째 위치의 행\n",
    "\n",
    "arr"
   ]
  },
  {
   "cell_type": "markdown",
   "metadata": {},
   "source": [
    "Q3. 위 8x4 행렬에서 행을 선택하여 다음과 같은 행렬을 만들어라.\n",
    "\n",
    " $ \\begin{bmatrix} \n",
    " 4 \\ 4 \\ 4 \\ 4 \\\\\n",
    " 3 \\ 3 \\ 3 \\ 3 \\\\\n",
    " 0 \\ 0 \\ 0 \\ 0 \\\\ \n",
    " 6 \\ 6 \\ 6 \\ 6 \\\\ \n",
    " \\end{bmatrix} $"
   ]
  },
  {
   "cell_type": "code",
   "execution_count": null,
   "metadata": {
    "scrolled": true
   },
   "outputs": [],
   "source": [
    "arr[[4,3,0,6]]  #행를 원하는 순서대로 배열 "
   ]
  },
  {
   "cell_type": "code",
   "execution_count": null,
   "metadata": {},
   "outputs": [],
   "source": [
    "np.vstack([arr[4],arr[3],arr[0],arr[6]])"
   ]
  },
  {
   "cell_type": "markdown",
   "metadata": {},
   "source": [
    "Q4.다음의 8x4 행렬을 만들어라.\n",
    "\n",
    " $ \\begin{bmatrix} 0 & 1 & 2 & 3 \\\\\n",
    " 4 & 5 & 6 & 7 \\\\ \n",
    " 8 & 9 & 10 & 11 \\\\\n",
    "12 & 13 & 14 & 15 \\\\\n",
    "16 & 17 & 18 & 19 \\\\\n",
    "20 & 21 & 22 & 23 \\\\\n",
    "24 & 25 & 26 & 27 \\\\\n",
    "28 & 29 & 30 & 31 \\end{bmatrix} $\n",
    "\n",
    "이를 이용하여 열을 선택하여 다음과 같은 행렬을 만들어라.\n",
    "\n",
    " $ \\begin{bmatrix} 2 & 1 & 3 \\\\\n",
    " 6 & 5 & 7 \\\\ \n",
    " 10 & 9  & 11 \\\\\n",
    "14 & 13  & 15 \\\\\n",
    "18 & 17  & 19 \\\\\n",
    "22 & 21  & 23 \\\\\n",
    "26 & 25  & 27 \\\\\n",
    "30 & 29  & 31 \\end{bmatrix} $"
   ]
  },
  {
   "cell_type": "code",
   "execution_count": null,
   "metadata": {},
   "outputs": [],
   "source": [
    "arr=np.arange(32).reshape(8,4)\n",
    "arr"
   ]
  },
  {
   "cell_type": "code",
   "execution_count": null,
   "metadata": {},
   "outputs": [],
   "source": [
    "arr[:,[2,1,3]]"
   ]
  },
  {
   "cell_type": "code",
   "execution_count": null,
   "metadata": {},
   "outputs": [],
   "source": [
    "#arr[:,2]\n",
    "np.vstack([arr[:,2] ,arr[:,1] ,arr[:,3] ]).T"
   ]
  },
  {
   "cell_type": "code",
   "execution_count": null,
   "metadata": {},
   "outputs": [],
   "source": [
    "a=arr[:,2].reshape(8,1) #arr[:,2].reshape(-1,1)\n",
    "b=arr[:,1].reshape(8,1) #arr[:,1].reshape(-1,1)\n",
    "c=arr[:,3].reshape(8,1) #arr[:,3].reshape(-1,1)\n",
    "\n",
    "np.hstack([a,b,c])"
   ]
  },
  {
   "cell_type": "code",
   "execution_count": null,
   "metadata": {},
   "outputs": [],
   "source": [
    "arr[[1,5,7,2],[0,3,1,2]] #[1,0] ,[5,3],[7,1],[2,2] 를 선택"
   ]
  },
  {
   "cell_type": "code",
   "execution_count": null,
   "metadata": {},
   "outputs": [],
   "source": [
    "arr[[1,5,7,2]] [:, [0,3,1,2]]"
   ]
  },
  {
   "cell_type": "markdown",
   "metadata": {},
   "source": [
    "### 5.9. 수학, 통계 매서드 \n",
    "\n",
    "- 배열 전체 혹은 배열에서 한 축을 따르는 자료에 대한 통계를 계산하는 함수\n",
    "\n",
    "  ex) sum, mean, std, var, min, max, argmin, argmax, cumsum, cumprod\n",
    "  \n",
    "  np.메서드(변수) : 행x열 전체에 대한 통계량\n",
    "  \n",
    "  np.메서드(변수,0) : 열별 행에 대한 통계량\n",
    "  \n",
    "  np.메서드(변수,1) : 행별 열에 대한 통계량\n",
    "  \n",
    "  \n",
    "- 기타 : maximum, minimum, modf"
   ]
  },
  {
   "cell_type": "markdown",
   "metadata": {},
   "source": [
    "Q5. 5x4 행렬에 N(0,1)을 따르는 랜덤 넘버를 발생시켜 행렬을 만들어라."
   ]
  },
  {
   "cell_type": "code",
   "execution_count": null,
   "metadata": {},
   "outputs": [],
   "source": [
    "arr=np.random.randn(5,4) # 행 5, 열 4 의 행렬 랜덤 넘버 발생~N(0,1)\n",
    "arr"
   ]
  },
  {
   "cell_type": "markdown",
   "metadata": {},
   "source": [
    "- 20개 데이타의 평균값을 구하라. np.mean()"
   ]
  },
  {
   "cell_type": "code",
   "execution_count": null,
   "metadata": {},
   "outputs": [],
   "source": [
    "np.mean(arr)"
   ]
  },
  {
   "cell_type": "markdown",
   "metadata": {},
   "source": [
    "- 행별 평균값을 구하라. np.mean( , 1)"
   ]
  },
  {
   "cell_type": "code",
   "execution_count": null,
   "metadata": {},
   "outputs": [],
   "source": [
    "np.mean(arr,1) # row별 평균값 "
   ]
  },
  {
   "cell_type": "code",
   "execution_count": null,
   "metadata": {},
   "outputs": [],
   "source": [
    "np.mean(arr[:,0])"
   ]
  },
  {
   "cell_type": "markdown",
   "metadata": {},
   "source": [
    "- 열별 평균값을 구하라. np.mean(,0)"
   ]
  },
  {
   "cell_type": "code",
   "execution_count": null,
   "metadata": {},
   "outputs": [],
   "source": [
    "np.mean(arr,0) # column별 평균값"
   ]
  },
  {
   "cell_type": "markdown",
   "metadata": {},
   "source": [
    "- 열별 표준편차를 구하여라.np.std(, 0) -> 분모가 n인 값"
   ]
  },
  {
   "cell_type": "code",
   "execution_count": null,
   "metadata": {},
   "outputs": [],
   "source": [
    "np.std(arr,0) # column별 standard deviation "
   ]
  },
  {
   "cell_type": "markdown",
   "metadata": {},
   "source": [
    "- 표본표준편차를 구할 때 : np.std(, ddof=1) 분모가 n-1인 값"
   ]
  },
  {
   "cell_type": "code",
   "execution_count": null,
   "metadata": {},
   "outputs": [],
   "source": [
    "np.std(arr,1,ddof=1)"
   ]
  },
  {
   "cell_type": "markdown",
   "metadata": {},
   "source": [
    "- 행별 최소값을 갖는 index값을 반환 : np.argmin(,1)"
   ]
  },
  {
   "cell_type": "code",
   "execution_count": null,
   "metadata": {},
   "outputs": [],
   "source": [
    "np.argmin(arr,1)  # row별 최소값을 갖는 위치값을 반환"
   ]
  },
  {
   "cell_type": "markdown",
   "metadata": {},
   "source": [
    "- 행렬을 누적sum  : np.cumsum() (0,0)+(0,1)+(0,2)+...(4,0)+(4,1)+(4,2)+(4,3) 으로 누적"
   ]
  },
  {
   "cell_type": "code",
   "execution_count": null,
   "metadata": {},
   "outputs": [],
   "source": [
    "np.cumsum(arr) #(0,0)부터 (4,3) 까지 누적되는 값"
   ]
  },
  {
   "cell_type": "code",
   "execution_count": null,
   "metadata": {},
   "outputs": [],
   "source": [
    "np.cumsum(arr,1) #row별 누적되는 값"
   ]
  },
  {
   "cell_type": "markdown",
   "metadata": {},
   "source": [
    "- 2개의 행렬에 대한 각 원소값의 비교로 max,min 값 찾기 : np.maximum(), np.minimum() "
   ]
  },
  {
   "cell_type": "code",
   "execution_count": null,
   "metadata": {},
   "outputs": [],
   "source": [
    "arr1=np.random.randn(5,4) # 행 5, 열 4 의 행렬 랜덤 넘버 발생~N(0,1)\n",
    "arr2=np.random.randn(5,4)\n",
    "arr1 "
   ]
  },
  {
   "cell_type": "code",
   "execution_count": null,
   "metadata": {},
   "outputs": [],
   "source": [
    "arr2"
   ]
  },
  {
   "cell_type": "code",
   "execution_count": null,
   "metadata": {},
   "outputs": [],
   "source": [
    "np.maximum(arr1,arr2)"
   ]
  },
  {
   "cell_type": "code",
   "execution_count": null,
   "metadata": {},
   "outputs": [],
   "source": [
    "np.minimum(arr1,arr2)"
   ]
  },
  {
   "cell_type": "markdown",
   "metadata": {},
   "source": [
    "- 각 원소의 정수 부분과 소수점 부분을 배열로 반환 : np.modf()"
   ]
  },
  {
   "cell_type": "code",
   "execution_count": null,
   "metadata": {},
   "outputs": [],
   "source": [
    "arr=np.random.randn(5,4) # 행 5, 열 4 의 행렬 랜덤 넘버 발생~N(0,1)\n",
    "arr"
   ]
  },
  {
   "cell_type": "code",
   "execution_count": null,
   "metadata": {},
   "outputs": [],
   "source": [
    "remainder, whole_part = np.modf(arr)\n",
    "remainder #소수\n",
    "#whole_part #정수"
   ]
  },
  {
   "cell_type": "code",
   "execution_count": null,
   "metadata": {},
   "outputs": [],
   "source": [
    "whole_part"
   ]
  },
  {
   "cell_type": "markdown",
   "metadata": {},
   "source": [
    "### 5.10. 난수 생성\n",
    "\n",
    "   - numpy.random 모듈을 이용\n",
    "   - 다양한 종류의 확률분포로 부터 난수 생성 가능 \n",
    "   - rand : 균등(0,1) \n",
    "   - uniform : 균등분포\n",
    "   - randn : N(0,1) \n",
    "   - normal : 정규분포\n",
    "   - binomial : 이항분포 "
   ]
  },
  {
   "cell_type": "markdown",
   "metadata": {},
   "source": [
    "Q6. N(10,2^2)의 분포로부터 난수를 생성하여 4x4 행렬을 만드시오."
   ]
  },
  {
   "cell_type": "code",
   "execution_count": null,
   "metadata": {},
   "outputs": [],
   "source": [
    "help(np.random)"
   ]
  },
  {
   "cell_type": "code",
   "execution_count": null,
   "metadata": {},
   "outputs": [],
   "source": [
    "?np.random.normal"
   ]
  },
  {
   "cell_type": "code",
   "execution_count": null,
   "metadata": {},
   "outputs": [],
   "source": [
    "samples= np.random.normal(loc=10, scale=2, size=(4,4)) # N(10,2^2)\n",
    "samples"
   ]
  },
  {
   "cell_type": "code",
   "execution_count": null,
   "metadata": {},
   "outputs": [],
   "source": [
    "# simulation1 \n",
    "samples= np.random.normal(loc=10, scale=2, size=(100000,)) \n",
    "#samples\n",
    "print(np.mean(samples), np.std(samples,ddof=1))"
   ]
  },
  {
   "cell_type": "code",
   "execution_count": null,
   "metadata": {},
   "outputs": [],
   "source": [
    "#simulation2 표본평균의 평균, 표준편차(표준오차)\n",
    "samples= np.random.normal(loc=10, scale=2, size=(10000,50)) \n",
    "#samples\n",
    "#np.mean(samples, axis=1)\n",
    "print(np.mean(np.mean(samples, axis=1)), np.std(np.mean(samples, axis=1)))"
   ]
  },
  {
   "cell_type": "code",
   "execution_count": null,
   "metadata": {},
   "outputs": [],
   "source": [
    "2/np.sqrt(50)"
   ]
  },
  {
   "cell_type": "markdown",
   "metadata": {},
   "source": [
    "Q7.U(0,10)의 분포로부터 난수를 생성하여 10x10 행렬을 만드시오."
   ]
  },
  {
   "cell_type": "code",
   "execution_count": null,
   "metadata": {},
   "outputs": [],
   "source": [
    "samples=np.random.uniform(low=0, high=10, size=(10,10))  \n",
    "samples"
   ]
  },
  {
   "cell_type": "markdown",
   "metadata": {},
   "source": [
    "Q8. B(10,0.2)의 분포로부터 난수를 생성하여 4x2 행렬을 만드시오."
   ]
  },
  {
   "cell_type": "code",
   "execution_count": null,
   "metadata": {},
   "outputs": [],
   "source": [
    "samples = np.random.binomial(n=10, p=0.2, size=(4,2)) \n",
    "samples"
   ]
  },
  {
   "cell_type": "markdown",
   "metadata": {},
   "source": [
    "### 5.11. 파일 입출력\n",
    "\n",
    "- numpy.loadtxt : 텍스트 파일을 파이썬 자료로 입력\n",
    "- numpy.savetxt : 파이썬의 자료를 텍스트 파일로 출력"
   ]
  },
  {
   "cell_type": "code",
   "execution_count": null,
   "metadata": {},
   "outputs": [],
   "source": [
    "import os\n",
    "\n",
    "#os.getcwd()\n",
    "#os.chdir(\"c:\\\\jonghee\\\\python\")\n",
    "os.getcwd()"
   ]
  },
  {
   "cell_type": "code",
   "execution_count": null,
   "metadata": {},
   "outputs": [],
   "source": [
    "arr=np.loadtxt('ex1.csv',delimiter=\",\")\n",
    "arr"
   ]
  },
  {
   "cell_type": "code",
   "execution_count": null,
   "metadata": {},
   "outputs": [],
   "source": [
    "np.savetxt('ex2.csv', arr, delimiter=',')"
   ]
  },
  {
   "cell_type": "markdown",
   "metadata": {},
   "source": [
    "- Q) 다음의 A에서 B를 만들어보라. \n",
    "\n",
    " \n",
    "  $ A= \\begin{bmatrix} 1 & 1 & 1 & 1 & 1 \\\\\n",
    "1 & 1 & 1 & 1 & 1 \\\\\n",
    "1 & 1 & 1 & 1 & 1 \\\\\n",
    "1 & 1 & 1 & 1 & 1 \\\\\n",
    "1 & 1 & 1 & 1 & 1  \\end{bmatrix} $\n",
    "\n",
    "\n",
    "  $ B= \\begin{bmatrix} 1 & 1 & 1 & 1 & 1 \\\\\n",
    "1 & 0 & 0 & 0 & 1 \\\\\n",
    "1 & 0 & 0 & 0 & 1 \\\\\n",
    "1 & 0 & 0 & 0 & 1 \\\\\n",
    "1 & 1 & 1 & 1 & 1  \\end{bmatrix} $"
   ]
  },
  {
   "cell_type": "markdown",
   "metadata": {},
   "source": [
    "- Q) 다음의 A행렬에서 B 행렬을 만들어보라. \n",
    " \n",
    "$ A=\\begin{bmatrix} 0 & 1 & 2 & 3 \\\\\n",
    " 4 & 5 & 6 & 7 \\\\ \n",
    " 8 & 9 & 10 & 11 \\\\\n",
    "12 & 13 & 14 & 15   \\end{bmatrix} $\n",
    "\n",
    "$ B=\\begin{bmatrix} 4 & 15  \\end{bmatrix} $"
   ]
  },
  {
   "cell_type": "markdown",
   "metadata": {},
   "source": [
    "- Q) 위 A행렬에서 다음의 C 행렬을 만들어보라. \n",
    " \n",
    "$ C=\\begin{bmatrix} 0 &   3 \\\\\n",
    " 4 &   7 \\\\ \n",
    " 8 &  11 \\\\\n",
    "12 &  15   \\end{bmatrix} $"
   ]
  },
  {
   "cell_type": "markdown",
   "metadata": {},
   "source": [
    "- Q) 다음의 행렬에서 max와 min 값을 구하여라.\n",
    " \n",
    "$  \\begin{bmatrix} 0 &   1 \\\\\n",
    " 2 &   3 \\end{bmatrix} $"
   ]
  },
  {
   "cell_type": "markdown",
   "metadata": {},
   "source": [
    "- Q) 위 행렬에서 row별 max와 min 값을 구하여라."
   ]
  },
  {
   "cell_type": "markdown",
   "metadata": {},
   "source": [
    "- Q.10명의 학생에 대한 점수를 다음과 같이 얻었다.\n",
    "\n",
    "[100,0,50,45,60,50,55,52,46,57]\n",
    "\n",
    "100점과 0점의 학생을 제외하고 8명에 대하여 평균과 표준편차를 구하려 한다.\n",
    "\n",
    "(1) 100점과 0점에 대하여 numpy의 결측치 np.nan로 대체하라. * np.nan은 float형에서만 사용가능함\n",
    "\n",
    "(2) np.nanmean, np.nanstd로 평균, 표준편차를 구하는 함수를 이용하라."
   ]
  }
 ],
 "metadata": {
  "kernelspec": {
   "display_name": "Python 3 (ipykernel)",
   "language": "python",
   "name": "python3"
  },
  "language_info": {
   "codemirror_mode": {
    "name": "ipython",
    "version": 3
   },
   "file_extension": ".py",
   "mimetype": "text/x-python",
   "name": "python",
   "nbconvert_exporter": "python",
   "pygments_lexer": "ipython3",
   "version": "3.11.2"
  }
 },
 "nbformat": 4,
 "nbformat_minor": 2
}
