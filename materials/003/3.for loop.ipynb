{
 "cells": [
  {
   "cell_type": "markdown",
   "metadata": {},
   "source": [
    "## 3.5 for문장\n",
    "\n",
    "- iterable객체의 첫 번째 요소부터 마지막 요소까지 차례로 변수에 대입되어 문장을 수행함\n",
    "\n",
    "  for 변수 in iterable객체: \n",
    "  \n",
    "        수행할 문장\n",
    " "
   ]
  },
  {
   "cell_type": "markdown",
   "metadata": {},
   "source": [
    "- Q1. 총 5명의 학생이 시험을 보았는데 시험점수가 60점이 넘으면 합격이고 그렇지 않으면 불합격이다. \n",
    "      5명의 학생의 성적(marks)는 90,25,67,45,80 점이고, 각 학생의 id를 1~5번이라고 하자. \n",
    "      합격이면 print(\"몇번 학생은 합격입니다.\")\n",
    "      불합격이면 print(\"몇번 학생은 불합격입니다.\") \n",
    "      "
   ]
  },
  {
   "cell_type": "code",
   "execution_count": null,
   "metadata": {},
   "outputs": [],
   "source": [
    "marks=[90,25,67,45,80]\n",
    "id1=0 \n",
    "\n",
    "for mark in marks:\n",
    "    id1=id1+1\n",
    "    if mark >=60:\n",
    "        print(\"%d번 학생은 합격입니다.\" %id1)\n",
    "    else : \n",
    "        print(\"%d번 학생은 불합격입니다.\" %id1)\n",
    "        "
   ]
  },
  {
   "cell_type": "code",
   "execution_count": null,
   "metadata": {},
   "outputs": [],
   "source": [
    "marks=[90,25,67,45,80]\n",
    "id1=1\n",
    "#while 문장을 사용할 경우\n",
    "while id1<=5:\n",
    "    if marks[id1-1]>=60:\n",
    "        print(\"%d번 학생은 합격입니다.\" %id1)\n",
    "    else :\n",
    "        print(\"%d번 학생은 불합격입니다.\" %id1)\n",
    "    id1=id1+1\n"
   ]
  },
  {
   "cell_type": "code",
   "execution_count": null,
   "metadata": {},
   "outputs": [],
   "source": [
    "#딕셔너리 자료형 일 경우\n",
    "dic_mark={1:90, 2:25, 3:67,4:45,5:80}\n",
    "key=dic_mark.keys() \n",
    "\n",
    "for i in key:\n",
    "    if dic_mark[i]>=60:\n",
    "        print(\"%d번 학생은 합격입니다.\" %i)\n",
    "    else :\n",
    "        print(\"%d번 학생은 불합격입니다.\" %i)\n",
    " "
   ]
  },
  {
   "cell_type": "code",
   "execution_count": null,
   "metadata": {},
   "outputs": [],
   "source": [
    "marks=[90,25,67,45,80]\n",
    "list(enumerate(marks))\n"
   ]
  },
  {
   "cell_type": "code",
   "execution_count": null,
   "metadata": {},
   "outputs": [],
   "source": [
    "marks=[90,25,67,45,80]\n",
    "  \n",
    "for id1, mark in enumerate(marks): # enumerate() : 인덱스 값을 포함하여 return해 주는 내장함수\n",
    "    if mark >=60:\n",
    "        print(\"%d번 학생은 합격입니다.\" %(id1+1))\n",
    "    else : \n",
    "        print(\"%d번 학생은 불합격입니다.\" %(id1+1))"
   ]
  },
  {
   "cell_type": "code",
   "execution_count": null,
   "metadata": {},
   "outputs": [],
   "source": [
    "id1=range(1,6)\n",
    "marks=[90,25,67,45,80]\n",
    "\n",
    "for id1, mark in zip(id1, marks) :\n",
    "    if mark>=60 : \n",
    "        print(\"%d번 학생은 합격입니다.\" %(id1))\n",
    "    else : \n",
    "        print(\"%d번 학생은 불합격입니다.\" %(id1))"
   ]
  },
  {
   "cell_type": "markdown",
   "metadata": {},
   "source": [
    "- continue 문장 사용하기 \n",
    "\n",
    "  for 문장 안에서 continue를 만나면 for문의 처음으로 돌아감\n",
    "  \n",
    "  \n",
    "- Q2. 60점 이상인 합격인 학생들에게만 print(\"몇번 학생 축하합니다. 합격입니다.\") 문장을 프린트하라.\n"
   ]
  },
  {
   "cell_type": "code",
   "execution_count": null,
   "metadata": {},
   "outputs": [],
   "source": [
    "marks=[90,25,67,45,80]\n",
    "  \n",
    "for id1, mark in enumerate(marks):\n",
    "    if mark <60: continue\n",
    "    print(\"%d번 학생 축하합니다.합격입니다.\" %(id1+1))\n",
    "        "
   ]
  },
  {
   "cell_type": "code",
   "execution_count": null,
   "metadata": {},
   "outputs": [],
   "source": [
    "marks=[90,25,67,45,80]\n",
    "  \n",
    "for id1, mark in enumerate(marks):\n",
    "    if mark <60: pass\n",
    "    else : print(\"%d번 학생 축하합니다.합격입니다.\" %(id1+1))\n",
    "        "
   ]
  },
  {
   "cell_type": "code",
   "execution_count": null,
   "metadata": {},
   "outputs": [],
   "source": [
    "marks=[90,25,67,45,80]\n",
    "id1=0\n",
    "\n",
    "#while 문장을 사용할 경우\n",
    "while id1<5:\n",
    "    id1=id1+1\n",
    "    if marks[id1-1]<60: continue\n",
    "    print(\"%d번 학생 축하합니다.합격입니다.\" %id1)"
   ]
  },
  {
   "cell_type": "code",
   "execution_count": null,
   "metadata": {},
   "outputs": [],
   "source": [
    "marks=[90,25,67,45,80]\n",
    "id1=0\n",
    "\n",
    "#while 문장을 사용할 경우\n",
    "while id1<5:\n",
    "    id1=id1+1\n",
    "    if marks[id1-1]<60: pass\n",
    "    else : print(\"%d번 학생 축하합니다.합격입니다.\" %id1)"
   ]
  },
  {
   "cell_type": "markdown",
   "metadata": {},
   "source": [
    "- Q3. for 문장을 사용하여 1부터 10까지 더해라.\n",
    "\n",
    "  1~10까지의 숫자를 만드는 함수 range(1,11) : range(시작숫자, 끝숫자+1) \n",
    "  \n",
    "  range(끝숫자+1) 는 0부터 끝숫자까지"
   ]
  },
  {
   "cell_type": "code",
   "execution_count": null,
   "metadata": {},
   "outputs": [],
   "source": [
    "total=0 #누적합 변수의 초기화\n",
    "\n",
    "for i in range(1,11) :\n",
    "    total=total+i #total+=i\n",
    "\n",
    "print(total) \n"
   ]
  },
  {
   "cell_type": "code",
   "execution_count": null,
   "metadata": {},
   "outputs": [],
   "source": [
    "total=0\n",
    "for i in range(1,11) :\n",
    "    total=total+i \n",
    "    print(total) # 들여쓰기를 해서 for 문장 안으로 들어가게 하면 매번 sum 된 값을 보여줌"
   ]
  },
  {
   "cell_type": "code",
   "execution_count": null,
   "metadata": {},
   "outputs": [],
   "source": [
    "#Q2의 문제를 range를 이용하면, \n",
    "\n",
    "marks=[90,25,67,45,80]\n",
    "\n",
    "for id1 in range(len(marks)) :\n",
    "    if marks[id1] < 60 : continue\n",
    "    print(\"%d번 학생 축하합니다. 합격입니다.\" %(id1+1))"
   ]
  },
  {
   "cell_type": "markdown",
   "metadata": {},
   "source": [
    "- Q4. 2개의 for 문장으로 2단부터 9단까지의 구구단 결과를 출력하라. "
   ]
  },
  {
   "cell_type": "code",
   "execution_count": null,
   "metadata": {},
   "outputs": [],
   "source": [
    "for i in range(2,10) :\n",
    "    for j in range(1, 10) : \n",
    "        print(i*j,end=\" \") # end=\" \" 의 역할 : 다음 줄로 넘어가지 않고 그 줄에 계속해서 출력하기 위함.\n",
    "    print(\" \")              # 2단, 3단을 구분하여 다음줄에 결과를 출력하게 하기 위함."
   ]
  },
  {
   "cell_type": "markdown",
   "metadata": {},
   "source": [
    "- 리스트 내포(list comprehension) : 리스트 안에 for문을 포함\n",
    "\n",
    "  [표현식 for 항목 in 반복 가능 변수 ]\n",
    "  \n",
    "  [표현식 for 항목 in 반복 가능 변수 if 조건 ]\n",
    "   "
   ]
  },
  {
   "cell_type": "markdown",
   "metadata": {},
   "source": [
    "- Q5. [1,2,3,4] 를 각각 3배 한 값을 찾아 변수명 result에 리스트로 나타내기\n"
   ]
  },
  {
   "cell_type": "code",
   "execution_count": null,
   "metadata": {},
   "outputs": [],
   "source": [
    "a=[1,2,3,4]\n",
    "result=[]\n",
    "for i in a :\n",
    "    result.append(i*3)\n",
    "    print(result)"
   ]
  },
  {
   "cell_type": "code",
   "execution_count": null,
   "metadata": {},
   "outputs": [],
   "source": [
    "a=[1,2,3,4]\n",
    "result=[i*3 for i in a]\n",
    "print(result)"
   ]
  },
  {
   "cell_type": "markdown",
   "metadata": {},
   "source": [
    "- Q6. 짝수만 3배 곱하여 result에 결과 나타내기"
   ]
  },
  {
   "cell_type": "code",
   "execution_count": null,
   "metadata": {},
   "outputs": [],
   "source": [
    "a=[1,2,3,4]\n",
    "\n",
    "result=[i*3 for i in a if i%2==0 ]\n",
    "\n",
    "print(result)"
   ]
  },
  {
   "cell_type": "markdown",
   "metadata": {},
   "source": [
    "- Q) A학급에 총 10명의 학생이 있다. 이 학생들의 중간고사 점수는 다음과 같다. for 문장을 사용하여 A학급의 평균 점수를 구해 보자.\n",
    "\n",
    "70,60,55,75,95,90,80,80,85,100"
   ]
  },
  {
   "cell_type": "markdown",
   "metadata": {},
   "source": [
    "- Q) 다음과 같이  어느학급 학생의 점수를 나타내는 딕셔너리 자료형을 for 문장을 사용하여 작성하라. \n",
    "\n",
    "{'A':20,'B':55,'C':67,'D':82,'E':45,'F':33,'G':90,'H':87,'I':100,'J':25} "
   ]
  },
  {
   "cell_type": "markdown",
   "metadata": {},
   "source": [
    "- Q) 위 문제에서 value가 50점 이상인 점수의 총합을 구하시오. (for 문장 사용)"
   ]
  },
  {
   "cell_type": "markdown",
   "metadata": {},
   "source": [
    "- Q) 아래 과일의 한개 당 가격과 팔린 개수가 정리 된 테이블이 있다. \n",
    "|prod | price | sales |\n",
    "|-----|-------|------|\n",
    "|apple|1800|24|\n",
    "|strawberry|1500|38|\n",
    "|watermelon|3000|13|\n",
    "\n",
    "prod, price, sales를 각각 리스트 자료형으로 작성하고, for 문장을 이용하여 다음과 같은 문자열 포맷팅이 출력되도록 하라.\n",
    "\n",
    "당신은 apple 24개 팔아 43200원 받았습니다.\n",
    "\n",
    "당신은 strawberry 38개 팔아 57000원 받았습니다.\n",
    "\n",
    "당신은 watermelon 13개 팔아 39000원 받았습니다."
   ]
  },
  {
   "cell_type": "markdown",
   "metadata": {},
   "source": [
    "- Q) \"Hello! python\" 문자열에서 모음자(a,e,i,o,u)의 인덱스를 찾아 리스트 자료형으로 나타내어라. "
   ]
  }
 ],
 "metadata": {
  "kernelspec": {
   "display_name": "Python 3 (ipykernel)",
   "language": "python",
   "name": "python3"
  },
  "language_info": {
   "codemirror_mode": {
    "name": "ipython",
    "version": 3
   },
   "file_extension": ".py",
   "mimetype": "text/x-python",
   "name": "python",
   "nbconvert_exporter": "python",
   "pygments_lexer": "ipython3",
   "version": "3.10.2"
  }
 },
 "nbformat": 4,
 "nbformat_minor": 2
}
