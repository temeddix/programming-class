{
 "cells": [
  {
   "cell_type": "markdown",
   "metadata": {},
   "source": [
    "# 3.제어문\n",
    "\n",
    "   3. if 문장\n",
    "   4. while\n",
    "   5. for\n",
    "\n",
    "## 3.3 if문장\n",
    "\n",
    "- Q1. 돈이 있으면 택시를 타고, 돈이 없으면 걸어간다.\n",
    "      돈이 있으면 print(\"택시를 탄다.\") , 돈이 없으면 print(\"걸어간다.\")\n",
    "      돈 이라는 변수가 True 이면 print(\"택시를 탄다.\"), False 이면 print(\"걸어간다.\")\n",
    "      \n",
    "- if 문장 구조 \n",
    "      if 조건문 : \n",
    "         수행할 문장\n",
    "      else :\n",
    "         수행할 문장\n",
    "         \n",
    "- 주의할 점 \n",
    "   1. if, else 문장 뒤에 콜론(:)이 있음\n",
    "   2. 수행할 문장의 들여쓰기가 이루어져야 함\n",
    "   3. if, else는 들여쓰기가 있으면 안됨"
   ]
  },
  {
   "cell_type": "code",
   "execution_count": null,
   "metadata": {},
   "outputs": [],
   "source": [
    "money=False\n",
    "\n",
    "if money ==True:\n",
    "    print(\"택시를 탄다.\")\n",
    "else :\n",
    "    print(\"걸어간다.\")"
   ]
  },
  {
   "cell_type": "code",
   "execution_count": null,
   "metadata": {},
   "outputs": [],
   "source": [
    "money=False\n",
    "\n",
    "if money : print(\"택시를 탄다.\")\n",
    "else : print(\"걸어간다.\")"
   ]
  },
  {
   "cell_type": "markdown",
   "metadata": {},
   "source": [
    "- Q2. 만약 3000원 이상의 돈을 가지고 있으면 택시를 타고 그렇지 않으면 걸어가라. \n",
    "\n",
    "      조건문 : money>=3000 "
   ]
  },
  {
   "cell_type": "code",
   "execution_count": null,
   "metadata": {},
   "outputs": [],
   "source": [
    "money=10000\n",
    "\n",
    "if money>=3000:\n",
    "    print(\"택시를 탄다.\")\n",
    "else :\n",
    "    print(\"걸어간다.\")"
   ]
  },
  {
   "cell_type": "markdown",
   "metadata": {},
   "source": [
    "- Q3. 돈이 3000원 이상 있거나 카드가 있다면 택시를 타고 그렇지 않으면 걸어가라.\n",
    "\n",
    "       조건문 : money>= 3000 또는 카드 ==True\n",
    "\n",
    "- 연산자 : 또는 (or) , 그리고(and) , x가 아니면(not x)"
   ]
  },
  {
   "cell_type": "code",
   "execution_count": null,
   "metadata": {},
   "outputs": [],
   "source": [
    "money=1000\n",
    "card= True\n",
    "\n",
    "if money>=3000 or card: \n",
    "    print(\"택시를 탄다.\")\n",
    "else :\n",
    "    print(\"걸어간다.\")"
   ]
  },
  {
   "cell_type": "markdown",
   "metadata": {},
   "source": [
    "- Q4. 만약 주머니에 돈이 있으면 택시를 타고, 없으면 걸어가라. \n",
    "\n",
    "   주머니(pocket)에는 'paper','cellphone','money' 가 있다고 하자.  -> pocket 변수를 리스트 자료형으로 정의\n",
    "   \n",
    "   조건문 : 'money'가 pocket에 있다. \n",
    "   \n",
    "   \n",
    "- x가 리스트(튜플)에 있다 : x in ...\n",
    "\n",
    "  x가 리스트(튜플)에 없다 : x not in ...\n",
    "   "
   ]
  },
  {
   "cell_type": "code",
   "execution_count": null,
   "metadata": {},
   "outputs": [],
   "source": [
    "pocket = ['paper','cellphone','money']\n",
    "\n",
    "if 'money'in pocket:\n",
    "    print(\"택시를 탄다.\")\n",
    "else :\n",
    "    print(\"걸어간다.\")"
   ]
  },
  {
   "cell_type": "markdown",
   "metadata": {},
   "source": [
    "- Q5. 주머니에 돈이 있으면 가만히 있고(no print) 주머니에 돈이 없으면 카드를 꺼내라.(print(\"카드를 꺼내라.\"))\n",
    "\n",
    "- 아무런 일도 하지 않도록 설정하고 싶을 때 : pass"
   ]
  },
  {
   "cell_type": "code",
   "execution_count": null,
   "metadata": {},
   "outputs": [],
   "source": [
    "pocket = ['paper','cellphone','money']\n",
    "\n",
    "if 'money' in pocket:\n",
    "    pass\n",
    "else :\n",
    "    print(\"카드를 꺼내라.\")"
   ]
  },
  {
   "cell_type": "code",
   "execution_count": null,
   "metadata": {},
   "outputs": [],
   "source": [
    "if 'money' not in pocket:\n",
    "    print(\"카드를 꺼내라.\") "
   ]
  },
  {
   "cell_type": "markdown",
   "metadata": {},
   "source": [
    "- Q6. 주머니에 돈이 있으면 택시를 타고, (print(\"택시를 탄다.\"))\n",
    "      주머니에 돈이 없지만 카드가 있으면 택시를 타고 (print(\"택시를 탄다.\"))\n",
    "      돈은 없고 카드도 없으면 걸어가라. (print(\"걸어간다.\"))\n"
   ]
  },
  {
   "cell_type": "code",
   "execution_count": null,
   "metadata": {},
   "outputs": [],
   "source": [
    "pocket = ['paper','cellphone' ]\n",
    "card=True\n",
    "if 'money' in pocket:\n",
    "    print(\"택시를 탄다.\")\n",
    "else :\n",
    "    if card : \n",
    "        print(\"택시를 탄다.\")\n",
    "    else : \n",
    "        print(\"걸어간다.\")\n",
    "    "
   ]
  },
  {
   "cell_type": "markdown",
   "metadata": {},
   "source": [
    "- elif를 이용한 조건문 \n",
    "\n",
    "   if 조건문 : \n",
    "      수행할 문장\n",
    "   elif 조건문 :\n",
    "      수행할 문장\n",
    "   else :\n",
    "      수행할 문장"
   ]
  },
  {
   "cell_type": "code",
   "execution_count": null,
   "metadata": {},
   "outputs": [],
   "source": [
    "pocket = ['paper','cellphone' ]\n",
    "card=True\n",
    "if 'money' in pocket:\n",
    "    print(\"1.택시를 탄다.\")\n",
    "elif card : \n",
    "    print(\"2.택시를 탄다.\")\n",
    "else : \n",
    "    print(\"걸어간다.\")"
   ]
  },
  {
   "cell_type": "markdown",
   "metadata": {},
   "source": [
    "- Q7. score가 60 이상일 경우 message에 문자열 'success', 아닐 경우 'failure'를 대입하라."
   ]
  },
  {
   "cell_type": "code",
   "execution_count": null,
   "metadata": {},
   "outputs": [],
   "source": [
    "score=50\n",
    "if score>=60 :   \n",
    "    message='success'\n",
    "else :  \n",
    "    message='failure'\n",
    "    \n",
    "message"
   ]
  },
  {
   "cell_type": "markdown",
   "metadata": {},
   "source": [
    "- 조건문이 참인 경우 \"수행할 문장 if 조건문 else 조건문이 거짓인 경우 수행할 문장\""
   ]
  },
  {
   "cell_type": "code",
   "execution_count": null,
   "metadata": {},
   "outputs": [],
   "source": [
    "score=100\n",
    "\n",
    "'success' if score>=60 else 'failure'"
   ]
  },
  {
   "cell_type": "code",
   "execution_count": null,
   "metadata": {},
   "outputs": [],
   "source": [
    "score=100\n",
    "\n",
    "message= 'success' if score>=60 else 'failure'\n",
    "message"
   ]
  },
  {
   "cell_type": "markdown",
   "metadata": {},
   "source": [
    "- Q) 성인인 어떤 사람의 나이(age)가 있을 때 대표연령(20대,30대,40대,50대,60세이상)을 프린트할 수 있는 문장을 작성하라.\n",
    "     (이때 나이는 20세이상)"
   ]
  },
  {
   "cell_type": "markdown",
   "metadata": {},
   "source": [
    "- Q) 위 문제에서 if 문장에서 매번 print를 사용하지 말고 대표연령을 새로운 변수(age_g)에 입력하여 최종적으로 새로운 변수에 들어간 값(value)을 print하는 문장을 작성하라."
   ]
  }
 ],
 "metadata": {
  "kernelspec": {
   "display_name": "Python 3 (ipykernel)",
   "language": "python",
   "name": "python3"
  },
  "language_info": {
   "codemirror_mode": {
    "name": "ipython",
    "version": 3
   },
   "file_extension": ".py",
   "mimetype": "text/x-python",
   "name": "python",
   "nbconvert_exporter": "python",
   "pygments_lexer": "ipython3",
   "version": "3.10.2"
  }
 },
 "nbformat": 4,
 "nbformat_minor": 2
}
