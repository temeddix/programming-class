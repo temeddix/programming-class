{
 "cells": [
  {
   "cell_type": "markdown",
   "metadata": {},
   "source": [
    "Q1) \"No. Thanks.\" 문자열을 m 변수에 입력하고, m1 변수에 하나의 알파벳을 입력하여, \n",
    "m변수에 m1 변수의 알파벳의 위치를 찾으려 한다. \n",
    "\n",
    "만약, m1 변수의 알파벳이 m변수에 없는 문자면 문자열 포맷팅으로 \"%m1 문자가 없습니다.\"를 프린팅 하고, \n",
    "\n",
    "만약, m1 변수의 알파벳이 m변수에 있는 문자면 문자열 포맷팅으로 \"%m1 문자가 %t 위치에 있습니다.\" 라고 프린팅 하자.\n",
    "\n",
    "ex) m변수에 \"P\" 알파벳이 있는지 확인하고자 한다."
   ]
  },
  {
   "cell_type": "markdown",
   "metadata": {},
   "source": [
    "Q2)A학급에 총 10명의 학생이 있다. 이 학생들의 중간고사 점수는 다음과 같다. for 문장을 사용하여 A학급 점수의 표준편차를 구해보자.  \n",
    "    $mean=\\sum_i^n X_i / n$   \n",
    "    $ var=\\sum_i^n (X_i -mean)^2 /(n-1)$  \n",
    "    $ sd = \\sqrt{var}$\n",
    "\n",
    "70,60,55,75,95,90,80,80,85,100"
   ]
  },
  {
   "cell_type": "markdown",
   "metadata": {},
   "source": [
    "Q3) 'abcd' 문자열을 리스트형으로 변환하여 string에 입력하고, 리스트를 뒤집어 d c b a 바꾼 후 위치값이 1과 3번째에 해당하는 ['c', 'a'] 만 re_string에 입력하는 프로그램을 작성하라. (리스트 내포형 for 문장)"
   ]
  },
  {
   "cell_type": "markdown",
   "metadata": {},
   "source": [
    "Q4) 2001부터 3000까지의 자연수 중에서 각 자리 숫자의 합이 13인 것은 모두 몇개 입니까?"
   ]
  },
  {
   "cell_type": "markdown",
   "metadata": {},
   "source": [
    "Q5) 수 525에 쓰인 숫자는 5,2,5의 3개 입니다. 1부터 50까지의 수를 모두 쓸 때, 쓰인 숫자는 모두 몇 개 입니까?"
   ]
  }
 ],
 "metadata": {
  "kernelspec": {
   "display_name": "Python 3 (ipykernel)",
   "language": "python",
   "name": "python3"
  },
  "language_info": {
   "codemirror_mode": {
    "name": "ipython",
    "version": 3
   },
   "file_extension": ".py",
   "mimetype": "text/x-python",
   "name": "python",
   "nbconvert_exporter": "python",
   "pygments_lexer": "ipython3",
   "version": "3.10.2"
  }
 },
 "nbformat": 4,
 "nbformat_minor": 2
}
